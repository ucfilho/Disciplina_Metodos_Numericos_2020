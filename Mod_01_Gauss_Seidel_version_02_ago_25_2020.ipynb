{
  "nbformat": 4,
  "nbformat_minor": 0,
  "metadata": {
    "colab": {
      "name": "Mod_01_Gauss_Seidel_version_02_ago_25_2020.ipynb",
      "provenance": [],
      "collapsed_sections": [],
      "authorship_tag": "ABX9TyNco/llCPSnM8qURk4Ljaen",
      "include_colab_link": true
    },
    "kernelspec": {
      "name": "python3",
      "display_name": "Python 3"
    }
  },
  "cells": [
    {
      "cell_type": "markdown",
      "metadata": {
        "id": "view-in-github",
        "colab_type": "text"
      },
      "source": [
        "<a href=\"https://colab.research.google.com/github/ucfilho/Disciplina_Metodos_Numericos_2020/blob/master/Mod_01_Gauss_Seidel_version_02_ago_25_2020.ipynb\" target=\"_parent\"><img src=\"https://colab.research.google.com/assets/colab-badge.svg\" alt=\"Open In Colab\"/></a>"
      ]
    },
    {
      "cell_type": "code",
      "metadata": {
        "id": "remAkX_qlBLr",
        "colab_type": "code",
        "colab": {}
      },
      "source": [
        "import numpy as np\n",
        "\n",
        "############################################################\n",
        "## Implementation of the Gauss Seidel algorithm\n",
        "## A matrix of the linear system\n",
        "## f right hand side\n",
        "## x0 initial guess of the solution\n",
        "############################################################\n",
        "\n",
        "def gauss_seidel(A,f,x0,ITER_MAX = 100, tol = 1E-8,_debug_=1):\n",
        "  # size of the system\n",
        "  n = A.shape[0]\n",
        "  # initialize the residual\n",
        "  res = np.linalg.norm(f-np.dot(A,x0))\n",
        "  \n",
        "  # init the new vector\n",
        "  x_new = np.zeros(n)\n",
        "\n",
        "  # copy the guess\n",
        "  x = np.array(x0,copy=True)\n",
        "\n",
        "  # init niter\n",
        "  niter = 0\n",
        "\n",
        "  # loop over the\n",
        "  while (res>tol) and (niter<ITER_MAX):\n",
        "    # loop over all the lines\n",
        "    for i in range(n):\n",
        "      # initialize the sums\n",
        "      sum1, sum2 = 0.0, 0.0\n",
        "      # loop over the line elements\n",
        "      for j in range(n):\n",
        "        # if j<i we use the new values\n",
        "        if j<i:\n",
        "          sum1 += A[i,j]*x_new[j]\n",
        "          # else we use the old ones\n",
        "        elif j>i:\n",
        "            sum2 += A[i,j]*x[j]\n",
        "      # we store the new values\n",
        "      x_new[i] = (f[i]-sum1-sum2)/A[i,i]\n",
        "\n",
        "    # change the old solution to the new one\n",
        "    x = x_new\n",
        "\n",
        "    # compute the new residual\n",
        "    res = np.linalg.norm(f-np.dot(A,x))\n",
        "\n",
        "    # increment niter\n",
        "    niter += 1\n",
        "\n",
        "  # print the final status of the algorithm\n",
        "  if niter == ITER_MAX:\n",
        "    info = 0\n",
        "  else:\n",
        "    info = 1\n",
        "\n",
        "  return x,info, niter    "
      ],
      "execution_count": null,
      "outputs": []
    },
    {
      "cell_type": "code",
      "metadata": {
        "id": "dBfKB-QKm-91",
        "colab_type": "code",
        "colab": {
          "base_uri": "https://localhost:8080/",
          "height": 68
        },
        "outputId": "1239c9db-1e26-4714-dbb3-b9f1c601cf8b"
      },
      "source": [
        "# create the matrix A\n",
        "A = np. array ([[0.9 ,0.3 ,0.1] ,[0.1 ,0.5 ,0.2] ,[0.0 ,0.2 ,0.7]])\n",
        "\n",
        "# create the right-hand side\n",
        "f = np. array ([30.0 ,25.0 ,10.0])\n",
        "\n",
        "# our initial guess\n",
        "x0 = np.array([20,20,20])\n",
        "\n",
        "# compute the solution\n",
        "x,info, niter   = gauss_seidel(A,f,x0)\n",
        "print(x)\n",
        "print('convergiu ?',info, 'sim se for 1 e nao se for zero' )\n",
        "print( 'iteracoes=',niter)"
      ],
      "execution_count": null,
      "outputs": [
        {
          "output_type": "stream",
          "text": [
            "[17.8846154  45.96153845  1.15384616]\n",
            "convergiu ? 1 sim se for 1 e nao se for zero\n",
            "iteracoes= 13\n"
          ],
          "name": "stdout"
        }
      ]
    }
  ]
}