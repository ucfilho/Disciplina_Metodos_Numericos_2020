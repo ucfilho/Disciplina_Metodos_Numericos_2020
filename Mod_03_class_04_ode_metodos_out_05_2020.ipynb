{
  "nbformat": 4,
  "nbformat_minor": 0,
  "metadata": {
    "colab": {
      "name": "Mod_03_class_04_ode_metodos_out_05_2020.ipynb",
      "provenance": [],
      "collapsed_sections": [],
      "authorship_tag": "ABX9TyNN0rfrHlIOWiE4ZSGACfWp",
      "include_colab_link": true
    },
    "kernelspec": {
      "name": "python3",
      "display_name": "Python 3"
    }
  },
  "cells": [
    {
      "cell_type": "markdown",
      "metadata": {
        "id": "view-in-github",
        "colab_type": "text"
      },
      "source": [
        "<a href=\"https://colab.research.google.com/github/ucfilho/Disciplina_Metodos_Numericos_2020/blob/master/Mod_03_class_04_ode_metodos_out_05_2020.ipynb\" target=\"_parent\"><img src=\"https://colab.research.google.com/assets/colab-badge.svg\" alt=\"Open In Colab\"/></a>"
      ]
    },
    {
      "cell_type": "code",
      "metadata": {
        "id": "1FqdWwVtCeSu"
      },
      "source": [
        "import numpy as np\n",
        "import matplotlib.pyplot as plt"
      ],
      "execution_count": 1,
      "outputs": []
    },
    {
      "cell_type": "code",
      "metadata": {
        "id": "jAaQ9UiAJGUS",
        "outputId": "e0a3c232-0dbf-4d8f-85d3-06a5db43502a",
        "colab": {
          "base_uri": "https://localhost:8080/",
          "height": 72
        }
      },
      "source": [
        "!git clone https://github.com/ucfilho/Disciplina_Metodos_Numericos_2020 #clonar do Github\n",
        "%cd Disciplina_Metodos_Numericos_2020"
      ],
      "execution_count": 2,
      "outputs": [
        {
          "output_type": "stream",
          "text": [
            "fatal: destination path 'Disciplina_Metodos_Numericos_2020' already exists and is not an empty directory.\n",
            "/content/Disciplina_Metodos_Numericos_2020\n"
          ],
          "name": "stdout"
        }
      ]
    },
    {
      "cell_type": "code",
      "metadata": {
        "id": "6ln1rA4oCXkI",
        "outputId": "bdb6cca5-0c50-436a-a6fe-5cb7db976220",
        "colab": {
          "base_uri": "https://localhost:8080/",
          "height": 315
        }
      },
      "source": [
        "from edo_rotinas import euler, heun, rk2a,rk2b\n",
        "from edo_rotinas import rk4, rk45, rkf, pc4\n",
        "\n",
        "def f( x, t ):\n",
        "  V=80 #m3\n",
        "  Q2=0.8   # m3/min\n",
        "  Q1=0.005 # m3/min\n",
        "  dV_dt = Q1-Q2*x/V\n",
        "  return dV_dt\n",
        "      \n",
        "\n",
        "a, b = ( 0.0, 100 )\n",
        "x0 = 0.0\n",
        "\n",
        "n = 51\n",
        "t = np.linspace( a, b, n )\n",
        "h = t[1] - t[0];\n",
        "tol = 1e-6\n",
        "\n",
        "# compute various numerical solutions\n",
        "x_euler = euler( f, x0, t )\n",
        "x_heun = heun( f, x0, t )\n",
        "x_rk2 = rk2a( f, x0, t )\n",
        "x_rk4 = rk4( f, x0, t )\n",
        "x_pc4 = pc4( f, x0, t )\n",
        "t_rkf, x_rkf = rkf( f, a, b, x0, tol, 1.0, 0.01 ) # unequally spaced t\n",
        "\n",
        "# compute true solution values in equal spaced and unequally spaced cases\n",
        "V=80 #m3\n",
        "Q1=0.005 # m3/min\n",
        "Q2=0.8 # m3/min\n",
        "x = V*Q1/Q2*(1.0-np.exp(-Q2*t/V))\n",
        "xrkf = V*Q1/Q2*(1.0-np.exp(-Q2*t_rkf/V))\n",
        "\n",
        "plt.legend(fontsize=2) \n",
        "#   figure( 1 )\n",
        "plt.subplot( 221 )\n",
        "plt.plot( t, x_euler, 'b-o', t, x_heun, 'g-o', t, x_rk2, 'r-o' )\n",
        "plt.ylim(0,0.5)\n",
        "plt.xlabel( 't' )\n",
        "plt.ylabel( '$x$' )\n",
        "plt.title( 'Solutions of dx/dt = x sin t')\n",
        "plt.legend( ( 'Euler ', 'Heun ', 'Runge-Kutta 2' ),\n",
        "            loc='lower left' )\n",
        "\n",
        "#   figure( 2 )\n",
        "plt.subplot( 222 )\n",
        "plt.plot( t, x_euler - x, 'b-o', t, x_heun - x, 'g-o', t, x_rk2 - x, 'r-o' )\n",
        "plt.ylim(0,0.5)\n",
        "plt.xlabel( 't' )\n",
        "plt.ylabel( '$x - x^*$' )\n",
        "plt.title( 'Errors in solutions ' )\n",
        "plt.legend( ( 'Euler', 'Heun', 'Runge-Kutta 2' ),loc='lower left' )\n",
        "\n",
        "#   figure( 3 )\n",
        "plt.subplot( 223)\n",
        "plt.plot( t, x_rk4, 'b-o', t, x_pc4, 'g-o', t_rkf, x_rkf, 'r-o' )\n",
        "plt.ylim(0,0.5)\n",
        "plt.xlabel( '$t$' )\n",
        "plt.ylabel( '$x$' )\n",
        "#title( 'Solutions of dx/dt = x sin t' )\n",
        "plt.legend( ( 'Runge-Kutta 4', 'Predictor-Corrector 4', \\\n",
        "              'Runge-Kutta-Fehlberg' ), loc='lower left' )\n",
        "\n",
        "#   figure( 4 )\n",
        "plt.subplot( 224 )\n",
        "plt.plot( t, x_rk4 - x, 'b-o', t, x_pc4 - x, 'g-o', t_rkf, x_rkf - xrkf, 'r-o' )\n",
        "plt.ylim(0,0.5)\n",
        "plt.xlabel( 't' )\n",
        "plt.ylabel( '$x - x^*$' )\n",
        "plt.legend( ( 'Runge-Kutta 4', 'Predictor-Corrector 4','Runge-Kutta-Fehlberg' ), loc='lower left' )\n",
        "\n",
        "plt.show()"
      ],
      "execution_count": 3,
      "outputs": [
        {
          "output_type": "stream",
          "text": [
            "No handles with labels found to put in legend.\n"
          ],
          "name": "stderr"
        },
        {
          "output_type": "display_data",
          "data": {
            "image/png": "[encoded data removed]",
            "text/plain": [
              "<Figure size 432x288 with 4 Axes>"
            ]
          },
          "metadata": {
            "tags": [],
            "needs_background": "light"
          }
        }
      ]
    },
    {
      "cell_type": "code",
      "metadata": {
        "id": "8cdK_-UBKf9-",
        "outputId": "286acf14-21f9-49f9-ea28-52fbc794b05c",
        "colab": {
          "base_uri": "https://localhost:8080/",
          "height": 381
        }
      },
      "source": [
        "x_rkf"
      ],
      "execution_count": 4,
      "outputs": [
        {
          "output_type": "execute_result",
          "data": {
            "text/plain": [
              "array([0.        , 0.00497508, 0.00990066, 0.01477723, 0.01960528,\n",
              "       0.02438529, 0.02911773, 0.03380309, 0.03844183, 0.04303441,\n",
              "       0.04758129, 0.05208293, 0.05653978, 0.06095228, 0.06532088,\n",
              "       0.06964601, 0.07392811, 0.07816759, 0.08236489, 0.08652043,\n",
              "       0.09063462, 0.09470788, 0.0987406 , 0.1027332 , 0.10668607,\n",
              "       0.11059961, 0.11447421, 0.11831025, 0.12210813, 0.12586822,\n",
              "       0.12959089, 0.13327652, 0.13692548, 0.14053813, 0.14411484,\n",
              "       0.14765596, 0.15116184, 0.15463283, 0.1580693 , 0.16147156,\n",
              "       0.16483998, 0.16817487, 0.17147659, 0.17474545, 0.17798179,\n",
              "       0.18118592, 0.18435818, 0.18749887, 0.1906083 , 0.1936868 ,\n",
              "       0.19673467, 0.19975221, 0.20273973, 0.20569752, 0.20862587,\n",
              "       0.21152509, 0.21439547, 0.21723728, 0.22005082, 0.22283636,\n",
              "       0.22559418, 0.22832457, 0.23102778, 0.2337041 , 0.23635379,\n",
              "       0.23897711, 0.24157433, 0.24414571, 0.2466915 , 0.24921197,\n",
              "       0.25170735, 0.2541779 , 0.25662387, 0.2590455 , 0.26144304,\n",
              "       0.26381672, 0.26616679, 0.26849347, 0.27079699, 0.2730776 ,\n",
              "       0.27533552, 0.27757097, 0.27978417, 0.28197536, 0.28414474,\n",
              "       0.28629253, 0.28841896, 0.29052423, 0.29260854, 0.29467212,\n",
              "       0.29671517, 0.29873789, 0.30074048, 0.30272314, 0.30468608,\n",
              "       0.30662949, 0.30855356, 0.31045848, 0.31234445, 0.31421165,\n",
              "       0.31606028])"
            ]
          },
          "metadata": {
            "tags": []
          },
          "execution_count": 4
        }
      ]
    }
  ]
}