{
  "nbformat": 4,
  "nbformat_minor": 0,
  "metadata": {
    "colab": {
      "name": "Mod_01_SOR_version_02_set_07_2020.ipynb",
      "provenance": [],
      "authorship_tag": "ABX9TyPSEWOBiL3SgExJkQcFaapA",
      "include_colab_link": true
    },
    "kernelspec": {
      "name": "python3",
      "display_name": "Python 3"
    }
  },
  "cells": [
    {
      "cell_type": "markdown",
      "metadata": {
        "id": "view-in-github",
        "colab_type": "text"
      },
      "source": [
        "<a href=\"https://colab.research.google.com/github/ucfilho/Disciplina_Metodos_Numericos_2020/blob/master/Mod_01_SOR_version_02_set_07_2020.ipynb\" target=\"_parent\"><img src=\"https://colab.research.google.com/assets/colab-badge.svg\" alt=\"Open In Colab\"/></a>"
      ]
    },
    {
      "cell_type": "code",
      "metadata": {
        "id": "KxY_T5E5pO46",
        "colab_type": "code",
        "colab": {}
      },
      "source": [
        "import numpy as np"
      ],
      "execution_count": null,
      "outputs": []
    },
    {
      "cell_type": "code",
      "metadata": {
        "id": "7OPEK0dnplcB",
        "colab_type": "code",
        "colab": {}
      },
      "source": [
        "# https://www.programmersought.com/article/98984717880/#SOR_186"
      ],
      "execution_count": null,
      "outputs": []
    },
    {
      "cell_type": "code",
      "metadata": {
        "id": "CIrpvHRyoq-l",
        "colab_type": "code",
        "colab": {}
      },
      "source": [
        "def SOR(a,b,x0,w=1,c=0.0001,d=30):\n",
        "    x1=x0.copy()*1.0\n",
        "    x2=x0.copy()*1.0\n",
        "    k=0\n",
        "    \n",
        "    while k<d:\n",
        "        k=k+1\n",
        "        for i in range(a.shape[1]):\n",
        "            x2[i]=(-a[i].dot(x2)+b[i])*w/a[i,i]+x2[i]\n",
        "        if np.max(np.abs(x2-x1))<=c:\n",
        "            break\n",
        "        x1=x2.copy()\n",
        "    if(k==d):\n",
        "      info='nao convergiu'\n",
        "    else:\n",
        "      info='convergiu'\n",
        "    k=k-1\n",
        "    return x2,info,k"
      ],
      "execution_count": null,
      "outputs": []
    },
    {
      "cell_type": "code",
      "metadata": {
        "id": "k0DO8juppDNj",
        "colab_type": "code",
        "colab": {
          "base_uri": "https://localhost:8080/",
          "height": 51
        },
        "outputId": "22df0d2b-2c9b-47d3-8de3-3ef249455421"
      },
      "source": [
        "a=np.array([[2,-1,0,0],\n",
        "          [-1,2.5,-1,0],\n",
        "           [0,-1,2.5,-1],\n",
        "           [0,0,-1,2]])\n",
        "b=np.array([-4,4,4,-4])\n",
        "x0=np.zeros(a.shape[1])\n",
        "w=1.16\n",
        "tol=1e-8\n",
        "ITE=100\n",
        "sol,info,iterations=SOR(a,b,x0,w,tol,ITE)\n",
        "print(info,'em',iterations)\n",
        "print(sol)"
      ],
      "execution_count": null,
      "outputs": [
        {
          "output_type": "stream",
          "text": [
            "convergiu em 14\n",
            "[-1.  2.  2. -1.]\n"
          ],
          "name": "stdout"
        }
      ]
    },
    {
      "cell_type": "code",
      "metadata": {
        "id": "-ZF9kdhOqx2u",
        "colab_type": "code",
        "colab": {
          "base_uri": "https://localhost:8080/",
          "height": 51
        },
        "outputId": "5c10388e-ddaf-444b-a08c-127a0737c8ff"
      },
      "source": [
        "# create the matrix A\n",
        "A = np. array ([[0.9 ,0.3 ,0.1] ,[0.1 ,0.5 ,0.2] ,[0.0 ,0.2 ,0.7]])\n",
        "\n",
        "# create the right-hand side\n",
        "f = np. array ([30.0 ,25.0 ,10.0])\n",
        "\n",
        "# our initial guess\n",
        "x0 = np.array([20.0,20.0,20.0])\n",
        "w=1.16\n",
        "tol=1e-8\n",
        "ITE=100\n",
        "sol,info,iterations=SOR(A,f,x0,w,tol,ITE)\n",
        "print(info,'em',iterations)\n",
        "print(sol)"
      ],
      "execution_count": null,
      "outputs": [
        {
          "output_type": "stream",
          "text": [
            "convergiu em 14\n",
            "[17.88461539 45.96153846  1.15384615]\n"
          ],
          "name": "stdout"
        }
      ]
    }
  ]
}