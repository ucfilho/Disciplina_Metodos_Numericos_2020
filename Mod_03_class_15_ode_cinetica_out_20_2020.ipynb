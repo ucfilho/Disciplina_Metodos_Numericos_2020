{
  "nbformat": 4,
  "nbformat_minor": 0,
  "metadata": {
    "colab": {
      "name": "Mod_03_class_15_ode_cinetica_out_20_2020.ipynb",
      "provenance": [],
      "collapsed_sections": [],
      "authorship_tag": "ABX9TyMgvsQD5Waq1OWJfu8DfKZ+",
      "include_colab_link": true
    },
    "kernelspec": {
      "name": "python3",
      "display_name": "Python 3"
    }
  },
  "cells": [
    {
      "cell_type": "markdown",
      "metadata": {
        "id": "view-in-github",
        "colab_type": "text"
      },
      "source": [
        "<a href=\"https://colab.research.google.com/github/ucfilho/Disciplina_Metodos_Numericos_2020/blob/master/Mod_03_class_15_ode_cinetica_out_20_2020.ipynb\" target=\"_parent\"><img src=\"https://colab.research.google.com/assets/colab-badge.svg\" alt=\"Open In Colab\"/></a>"
      ]
    },
    {
      "cell_type": "code",
      "metadata": {
        "id": "1FqdWwVtCeSu"
      },
      "source": [
        "import numpy as np\n",
        "import matplotlib.pyplot as plt"
      ],
      "execution_count": 2,
      "outputs": []
    },
    {
      "cell_type": "code",
      "metadata": {
        "id": "wyFnudJwXWMp"
      },
      "source": [
        ""
      ],
      "execution_count": 2,
      "outputs": []
    },
    {
      "cell_type": "code",
      "metadata": {
        "id": "jAaQ9UiAJGUS",
        "outputId": "8e072d6a-0048-4c9f-97d2-b8d3d878aafe",
        "colab": {
          "base_uri": "https://localhost:8080/",
          "height": 156
        }
      },
      "source": [
        "!git clone https://github.com/ucfilho/Disciplina_Metodos_Numericos_2020 #clonar do Github\n",
        "%cd Disciplina_Metodos_Numericos_2020"
      ],
      "execution_count": 3,
      "outputs": [
        {
          "output_type": "stream",
          "text": [
            "Cloning into 'Disciplina_Metodos_Numericos_2020'...\n",
            "remote: Enumerating objects: 188, done.\u001b[K\n",
            "remote: Counting objects: 100% (188/188), done.\u001b[K\n",
            "remote: Compressing objects: 100% (188/188), done.\u001b[K\n",
            "remote: Total 573 (delta 97), reused 0 (delta 0), pack-reused 385\u001b[K\n",
            "Receiving objects: 100% (573/573), 910.01 KiB | 1.09 MiB/s, done.\n",
            "Resolving deltas: 100% (321/321), done.\n",
            "/content/Disciplina_Metodos_Numericos_2020\n"
          ],
          "name": "stdout"
        }
      ]
    },
    {
      "cell_type": "code",
      "metadata": {
        "id": "6ln1rA4oCXkI"
      },
      "source": [
        "from edo_rotinas import rk4\n",
        "\n",
        "def model( x, t, ):\n",
        "  global k, alpha\n",
        "  dA_dt = -k*x**alpha\n",
        "  return dA_dt\n",
        "      \n",
        "def Indices(t,time_values,t0):\n",
        "  Time = t.tolist();\n",
        "  n = len(time_values)\n",
        "  Id = np.zeros(n,dtype=int)\n",
        "  for i in range(n):\n",
        "    Id[i] =Time.index(time_values[i] )\n",
        "    # Id[i] =int((time_values[i]-t0)/h)\n",
        "  return Id\n",
        "\n",
        "def fobj(x_calc,x_true):\n",
        "  k=0\n",
        "  soma = 0.0\n",
        "  for x in x_calc:\n",
        "    soma = soma + (x - x_true[k])**2\n",
        "    k = k+1\n",
        "  return soma\n"
      ],
      "execution_count": 4,
      "outputs": []
    },
    {
      "cell_type": "code",
      "metadata": {
        "id": "YudhrIw9YxWR"
      },
      "source": [
        "a, b = ( 0.0, 50 )\n",
        "x0 = 10.0\n",
        "t0=0\n",
        "n = 101\n",
        "t = np.linspace( a, b, n )\n",
        "# conditions to be used in optimization\n",
        "time_values = [15.0, 30.0,40.0, 50.0]\n",
        "x_true = [9.25,8.60,8.22,7.87]\n",
        "Id = Indices(t,time_values,t0)\n"
      ],
      "execution_count": 5,
      "outputs": []
    },
    {
      "cell_type": "code",
      "metadata": {
        "id": "qpoJPMCsmbU9",
        "outputId": "7951dab3-b9c5-4b91-e3b5-09e3b25ce6f3",
        "colab": {
          "base_uri": "https://localhost:8080/",
          "height": 35
        }
      },
      "source": [
        "\n",
        "# compute various numerical solutions\n",
        "k = 0.5\n",
        "alpha = 1.0\n",
        "x = rk4( model, x0, t )\n",
        "x_calc= x[Id]\n",
        "MIN = fobj(x_calc,x_true)\n",
        "\n",
        "print(MIN)"
      ],
      "execution_count": 6,
      "outputs": [
        {
          "output_type": "stream",
          "text": [
            "288.92542622197783\n"
          ],
          "name": "stdout"
        }
      ]
    },
    {
      "cell_type": "code",
      "metadata": {
        "id": "A4Yh5qHX4F6U",
        "outputId": "602cb7e2-8244-4ce5-fa5f-7041b3c8912a",
        "colab": {
          "base_uri": "https://localhost:8080/",
          "height": 121
        }
      },
      "source": [
        "k_min = 0; k_max = 1.0\n",
        "alpha_min = 0 ; alpha_max = 3.0\n",
        "N = 5\n",
        "d_k = (k_max-k_min)/N\n",
        "d_alpha = (alpha_max-alpha_min)/N \n",
        "for i in range(N+1):\n",
        "  k = k_min+ d_k*i\n",
        "  print('k=',k)\n",
        "\n",
        "\n",
        "#alpha = alpha_min+ d_alpha*(j+1)\n"
      ],
      "execution_count": 9,
      "outputs": [
        {
          "output_type": "stream",
          "text": [
            "k= 0.0\n",
            "k= 0.2\n",
            "k= 0.4\n",
            "k= 0.6000000000000001\n",
            "k= 0.8\n",
            "k= 1.0\n"
          ],
          "name": "stdout"
        }
      ]
    }
  ]
}