{
  "nbformat": 4,
  "nbformat_minor": 0,
  "metadata": {
    "colab": {
      "name": "Mod_03_class_15_ode_cinetica_out_20_2020.ipynb",
      "provenance": [],
      "collapsed_sections": [],
      "authorship_tag": "ABX9TyPPq1rbNAzRI1V4FweGbmxo",
      "include_colab_link": true
    },
    "kernelspec": {
      "name": "python3",
      "display_name": "Python 3"
    }
  },
  "cells": [
    {
      "cell_type": "markdown",
      "metadata": {
        "id": "view-in-github",
        "colab_type": "text"
      },
      "source": [
        "<a href=\"https://colab.research.google.com/github/ucfilho/Disciplina_Metodos_Numericos_2020/blob/master/Mod_03_class_15_ode_cinetica_out_20_2020.ipynb\" target=\"_parent\"><img src=\"https://colab.research.google.com/assets/colab-badge.svg\" alt=\"Open In Colab\"/></a>"
      ]
    },
    {
      "cell_type": "code",
      "metadata": {
        "id": "1FqdWwVtCeSu"
      },
      "source": [
        "import numpy as np\n",
        "import matplotlib.pyplot as plt"
      ],
      "execution_count": null,
      "outputs": []
    },
    {
      "cell_type": "code",
      "metadata": {
        "id": "wyFnudJwXWMp"
      },
      "source": [
        ""
      ],
      "execution_count": null,
      "outputs": []
    },
    {
      "cell_type": "code",
      "metadata": {
        "id": "jAaQ9UiAJGUS"
      },
      "source": [
        "!git clone https://github.com/ucfilho/Disciplina_Metodos_Numericos_2020 #clonar do Github\n",
        "%cd Disciplina_Metodos_Numericos_2020"
      ],
      "execution_count": null,
      "outputs": []
    },
    {
      "cell_type": "code",
      "metadata": {
        "id": "6ln1rA4oCXkI"
      },
      "source": [
        "from edo_rotinas import rk4\n",
        "\n",
        "def model( x, t, ):\n",
        "  global k, alpha\n",
        "  dA_dt = -k*x**alpha\n",
        "  return dA_dt\n",
        "      \n",
        "def Indices(t,time_values,t0):\n",
        "  Time = t.tolist();\n",
        "  n = len(time_values)\n",
        "  Id = np.zeros(n,dtype=int)\n",
        "  for i in range(n):\n",
        "    Id[i] =Time.index(time_values[i] )\n",
        "    # Id[i] =int((time_values[i]-t0)/h)\n",
        "  return Id\n",
        "\n",
        "def fobj(x_calc,x_true):\n",
        "  k=0\n",
        "  soma = 0.0\n",
        "  for x in x_calc:\n",
        "    soma = soma + (x - x_true[k])**2\n",
        "    k = k+1\n",
        "  return soma\n"
      ],
      "execution_count": null,
      "outputs": []
    },
    {
      "cell_type": "code",
      "metadata": {
        "id": "YudhrIw9YxWR"
      },
      "source": [
        "a, b = ( 0.0, 50 )\n",
        "x0 = 10.0\n",
        "t0=0\n",
        "n = 101\n",
        "t = np.linspace( a, b, n )\n",
        "# conditions to be used in optimization\n",
        "time_values = [15.0, 30.0,40.0, 50.0]\n",
        "x_true = [9.25,8.60,8.22,7.87]\n",
        "Id = Indices(t,time_values,t0)\n"
      ],
      "execution_count": null,
      "outputs": []
    },
    {
      "cell_type": "code",
      "metadata": {
        "id": "qpoJPMCsmbU9"
      },
      "source": [
        "\n",
        "# compute various numerical solutions\n",
        "k = 0.5\n",
        "alpha = 1.0\n",
        "x = rk4( model, x0, t )\n",
        "x_calc= x[Id]\n",
        "MIN = fobj(x_calc,x_true)\n",
        "\n",
        "print(MIN)"
      ],
      "execution_count": null,
      "outputs": []
    },
    {
      "cell_type": "code",
      "metadata": {
        "id": "A4Yh5qHX4F6U"
      },
      "source": [
        "k_min = 1e-6; k_max = 1.0\n",
        "alpha_min = 0 ; alfa_max = 3.0\n",
        "N = 50\n",
        "d_k = (k_max-k_min)/N\n",
        "d_alpha = (alpha_max-alpha_min)/N \n",
        "for i in range(N):\n",
        "  k = k_min+ d_k*(i+1):\n",
        "  print('k=',k)\n",
        "\n",
        "\n",
        "#alpha = alpha_min+ d_alpha*(j+1)\n"
      ],
      "execution_count": null,
      "outputs": []
    }
  ]
}