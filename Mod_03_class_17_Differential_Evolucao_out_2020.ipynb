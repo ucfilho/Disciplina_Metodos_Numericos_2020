{
  "nbformat": 4,
  "nbformat_minor": 0,
  "metadata": {
    "colab": {
      "name": "Mod_03_class_17_Differential_Evolucao_out_2020.ipynb",
      "provenance": [],
      "authorship_tag": "ABX9TyNumMQ6ye40BOZjEK+jOmua",
      "include_colab_link": true
    },
    "kernelspec": {
      "name": "python3",
      "display_name": "Python 3"
    }
  },
  "cells": [
    {
      "cell_type": "markdown",
      "metadata": {
        "id": "view-in-github",
        "colab_type": "text"
      },
      "source": [
        "<a href=\"https://colab.research.google.com/github/ucfilho/Disciplina_Metodos_Numericos_2020/blob/master/Mod_03_class_17_Differential_Evolucao_out_2020.ipynb\" target=\"_parent\"><img src=\"https://colab.research.google.com/assets/colab-badge.svg\" alt=\"Open In Colab\"/></a>"
      ]
    },
    {
      "cell_type": "code",
      "metadata": {
        "id": "BMBgokzS9g24"
      },
      "source": [
        "import numpy as np\n",
        "from scipy.optimize import differential_evolution"
      ],
      "execution_count": 7,
      "outputs": []
    },
    {
      "cell_type": "code",
      "metadata": {
        "id": "CNYHRtFkCPrx"
      },
      "source": [
        ""
      ],
      "execution_count": 7,
      "outputs": []
    },
    {
      "cell_type": "markdown",
      "metadata": {
        "id": "hblSKBZG-LpI"
      },
      "source": [
        "<p>Problema a ser resolvido (exemplo)</p>\n",
        "\n",
        "\\begin{split}F_0(x_0,x_1) &= x^2 - y + x\\cos(\\pi x) = 0,\\\\\n",
        "F_1(x_0,x_1) &= yx + e^{-y} - x^{-1} = 0\\thinspace .\\end{split}"
      ]
    },
    {
      "cell_type": "markdown",
      "metadata": {
        "id": "d6qc6jKc-LYs"
      },
      "source": [
        ""
      ]
    },
    {
      "cell_type": "code",
      "metadata": {
        "id": "EEoZLWbu-kn6"
      },
      "source": [
        "def model(x):\n",
        "  F=np.zeros(2)\n",
        "  F[0] = x[0]**2 - x[1] + x[0]*np.cos(np.pi*x[0])\n",
        "  F[1] = x[0]*x[1] + np.exp(-x[1]) - x[0]**(-1.0)\n",
        "  if (abs(F[0]) > abs(F[1])):\n",
        "    MIN = abs(F[0])\n",
        "  else:\n",
        "    MIN = abs(F[1])\n",
        "\n",
        "  return MIN"
      ],
      "execution_count": 8,
      "outputs": []
    },
    {
      "cell_type": "code",
      "metadata": {
        "id": "lzOvRkZNAM2s",
        "outputId": "fe1d7bb7-48e5-4a5e-8eaa-be41951a4c78",
        "colab": {
          "base_uri": "https://localhost:8080/",
          "height": 34
        }
      },
      "source": [
        "bounds = [(-2,2), (-3, 3)]\n",
        "result = differential_evolution(model, bounds)\n",
        "solucao = result.x\n",
        "MELHOR = result.fun\n",
        "print('Funcao=',MELHOR, 'X=',solucao)"
      ],
      "execution_count": 9,
      "outputs": [
        {
          "output_type": "stream",
          "text": [
            "Funcao= 0.0 X= [1. 0.]\n"
          ],
          "name": "stdout"
        }
      ]
    }
  ]
}