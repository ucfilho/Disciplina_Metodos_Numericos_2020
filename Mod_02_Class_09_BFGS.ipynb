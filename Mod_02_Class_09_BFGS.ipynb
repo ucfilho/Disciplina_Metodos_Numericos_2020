{
  "nbformat": 4,
  "nbformat_minor": 0,
  "metadata": {
    "colab": {
      "name": "Mod_02_Class_09_BFGS.ipynb",
      "provenance": [],
      "include_colab_link": true
    },
    "kernelspec": {
      "name": "python3",
      "display_name": "Python 3"
    }
  },
  "cells": [
    {
      "cell_type": "markdown",
      "metadata": {
        "id": "view-in-github",
        "colab_type": "text"
      },
      "source": [
        "<a href=\"https://colab.research.google.com/github/ucfilho/Disciplina_Metodos_Numericos_2020/blob/master/Mod_02_Class_09_BFGS.ipynb\" target=\"_parent\"><img src=\"https://colab.research.google.com/assets/colab-badge.svg\" alt=\"Open In Colab\"/></a>"
      ]
    },
    {
      "cell_type": "code",
      "metadata": {
        "id": "tLgv4gDnCbX1",
        "colab_type": "code",
        "colab": {}
      },
      "source": [
        "import numpy  as np\n",
        "from scipy.optimize import minimize"
      ],
      "execution_count": 1,
      "outputs": []
    },
    {
      "cell_type": "code",
      "metadata": {
        "id": "AZJmGeqra0j2",
        "colab_type": "code",
        "colab": {}
      },
      "source": [
        "def Minimo(x):\n",
        "  F1=x[0]**2 - x[1] + x[0]*np.cos(np.pi*x[0])\n",
        "  F2=x[0]*x[1] + np.exp(-x[1]) - x[0]**(-1.0)\n",
        "  Valor=abs(F1)+abs(F2)\n",
        "  return Valor"
      ],
      "execution_count": 2,
      "outputs": []
    },
    {
      "cell_type": "code",
      "metadata": {
        "id": "XIC-e0jsJRVQ",
        "colab_type": "code",
        "colab": {
          "base_uri": "https://localhost:8080/",
          "height": 102
        },
        "outputId": "4e80368d-1d5e-453f-82dc-117d066f96b2"
      },
      "source": [
        "x0=np.array([2,0]) # initial guess of x\n",
        "res = minimize(Minimo, x0, method='BFGS',options={'gtol': 1e-10, 'disp': True})"
      ],
      "execution_count": 3,
      "outputs": [
        {
          "output_type": "stream",
          "text": [
            "Warning: Desired error not necessarily achieved due to precision loss.\n",
            "         Current function value: 0.000001\n",
            "         Iterations: 9\n",
            "         Function evaluations: 656\n",
            "         Gradient evaluations: 161\n"
          ],
          "name": "stdout"
        }
      ]
    },
    {
      "cell_type": "code",
      "metadata": {
        "id": "9vlafSt5LErN",
        "colab_type": "code",
        "colab": {
          "base_uri": "https://localhost:8080/",
          "height": 51
        },
        "outputId": "d4b49e79-4db7-475e-ffa0-0e1362698105"
      },
      "source": [
        "print('fun=',res.fun)\n",
        "print('resposta=',res.x)"
      ],
      "execution_count": 4,
      "outputs": [
        {
          "output_type": "stream",
          "text": [
            "fun= 7.827258046155805e-07\n",
            "resposta= [ 9.99999225e-01 -7.82722550e-07]\n"
          ],
          "name": "stdout"
        }
      ]
    },
    {
      "cell_type": "code",
      "metadata": {
        "id": "UocQ-cq_Mn94",
        "colab_type": "code",
        "colab": {}
      },
      "source": [
        "# https://sudonull.com/post/68834-BFGS-method-or-one-of-the-most-effective-optimization-methods-Python-implementation-example"
      ],
      "execution_count": 5,
      "outputs": []
    }
  ]
}