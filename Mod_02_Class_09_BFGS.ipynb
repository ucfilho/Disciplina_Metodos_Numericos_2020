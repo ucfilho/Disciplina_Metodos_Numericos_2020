{
  "nbformat": 4,
  "nbformat_minor": 0,
  "metadata": {
    "colab": {
      "name": "Mod_02_Class_09_BFGS.ipynb",
      "provenance": [],
      "include_colab_link": true
    },
    "kernelspec": {
      "name": "python3",
      "display_name": "Python 3"
    }
  },
  "cells": [
    {
      "cell_type": "markdown",
      "metadata": {
        "id": "view-in-github",
        "colab_type": "text"
      },
      "source": [
        "<a href=\"https://colab.research.google.com/github/ucfilho/Disciplina_Metodos_Numericos_2020/blob/master/Mod_02_Class_09_BFGS.ipynb\" target=\"_parent\"><img src=\"https://colab.research.google.com/assets/colab-badge.svg\" alt=\"Open In Colab\"/></a>"
      ]
    },
    {
      "cell_type": "code",
      "metadata": {
        "id": "tLgv4gDnCbX1",
        "colab_type": "code",
        "colab": {}
      },
      "source": [
        "import numpy  as np\n",
        "from scipy.optimize import minimize"
      ],
      "execution_count": 1,
      "outputs": []
    },
    {
      "cell_type": "code",
      "metadata": {
        "id": "AZJmGeqra0j2",
        "colab_type": "code",
        "colab": {}
      },
      "source": [
        "def Minimo(x):\n",
        "  F1=x[0]**2 - x[1] + x[0]*np.cos(pi*x[0])\n",
        "  F2=x[0]*x[1] + np.exp(-x[1]) - x[0]**(-1.0)\n",
        "  Valor=abs(F1)+abs(F2)\n",
        "  return Valor"
      ],
      "execution_count": 2,
      "outputs": []
    },
    {
      "cell_type": "code",
      "metadata": {
        "id": "XIC-e0jsJRVQ",
        "colab_type": "code",
        "colab": {
          "base_uri": "https://localhost:8080/",
          "height": 202
        },
        "outputId": "a3b48371-8d92-426e-ae5e-ea2f8cea76d9"
      },
      "source": [
        "x0=np.array([2,0]) # initial guess of x\n",
        "res = minimize(Minimo, x0, method='BFGS')\n",
        "print(res)"
      ],
      "execution_count": 3,
      "outputs": [
        {
          "output_type": "stream",
          "text": [
            "      fun: 4.970252089001844e-14\n",
            " hess_inv: array([[0.49960341, 0.99956206],\n",
            "       [0.99956206, 2.09963944]])\n",
            "      jac: array([ 4.68428680e-08, -1.45039269e-08])\n",
            "  message: 'Optimization terminated successfully.'\n",
            "     nfev: 52\n",
            "      nit: 10\n",
            "     njev: 13\n",
            "   status: 0\n",
            "  success: True\n",
            "        x: array([0.99999978, 0.99999955])\n"
          ],
          "name": "stdout"
        }
      ]
    },
    {
      "cell_type": "code",
      "metadata": {
        "id": "9vlafSt5LErN",
        "colab_type": "code",
        "colab": {
          "base_uri": "https://localhost:8080/",
          "height": 50
        },
        "outputId": "348716e1-5944-49e6-95a9-d24bc1ee358c"
      },
      "source": [
        "print('fun=',res.fun)\n",
        "print('resposta=',res.x)"
      ],
      "execution_count": 5,
      "outputs": [
        {
          "output_type": "stream",
          "text": [
            "fun= 4.970252089001844e-14\n",
            "resposta= [0.99999978 0.99999955]\n"
          ],
          "name": "stdout"
        }
      ]
    },
    {
      "cell_type": "code",
      "metadata": {
        "id": "UocQ-cq_Mn94",
        "colab_type": "code",
        "colab": {}
      },
      "source": [
        "# https://sudonull.com/post/68834-BFGS-method-or-one-of-the-most-effective-optimization-methods-Python-implementation-example"
      ],
      "execution_count": null,
      "outputs": []
    }
  ]
}