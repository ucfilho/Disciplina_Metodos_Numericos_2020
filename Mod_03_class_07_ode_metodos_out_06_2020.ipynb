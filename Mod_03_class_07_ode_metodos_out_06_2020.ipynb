{
  "nbformat": 4,
  "nbformat_minor": 0,
  "metadata": {
    "colab": {
      "name": "Mod_03_class_07_ode_metodos_out_06_2020.ipynb",
      "provenance": [],
      "authorship_tag": "ABX9TyMtah3RhEbVfrnwVFq5MXCZ",
      "include_colab_link": true
    },
    "kernelspec": {
      "name": "python3",
      "display_name": "Python 3"
    }
  },
  "cells": [
    {
      "cell_type": "markdown",
      "metadata": {
        "id": "view-in-github",
        "colab_type": "text"
      },
      "source": [
        "<a href=\"https://colab.research.google.com/github/ucfilho/Disciplina_Metodos_Numericos_2020/blob/master/Mod_03_class_07_ode_metodos_out_06_2020.ipynb\" target=\"_parent\"><img src=\"https://colab.research.google.com/assets/colab-badge.svg\" alt=\"Open In Colab\"/></a>"
      ]
    },
    {
      "cell_type": "code",
      "metadata": {
        "id": "z9c8GM24O6lf"
      },
      "source": [
        "import numpy as np\n",
        "import matplotlib.pyplot as plt"
      ],
      "execution_count": 1,
      "outputs": []
    },
    {
      "cell_type": "code",
      "metadata": {
        "id": "V7MPuv4DO_WU",
        "outputId": "720bd025-adaa-43f0-eaac-86ed1843b842",
        "colab": {
          "base_uri": "https://localhost:8080/",
          "height": 72
        }
      },
      "source": [
        "!git clone https://github.com/ucfilho/Disciplina_Metodos_Numericos_2020 #clonar do Github\n",
        "%cd Disciplina_Metodos_Numericos_2020"
      ],
      "execution_count": 2,
      "outputs": [
        {
          "output_type": "stream",
          "text": [
            "fatal: destination path 'Disciplina_Metodos_Numericos_2020' already exists and is not an empty directory.\n",
            "/content/Disciplina_Metodos_Numericos_2020\n"
          ],
          "name": "stdout"
        }
      ]
    },
    {
      "cell_type": "code",
      "metadata": {
        "id": "Jaz2Apu9PAmU"
      },
      "source": [
        "from edo_rotinas import rkf"
      ],
      "execution_count": 3,
      "outputs": []
    },
    {
      "cell_type": "code",
      "metadata": {
        "id": "9cHTmtzlPFNg"
      },
      "source": [
        "def f( x, t ):\n",
        "  return x * np.sin( t )"
      ],
      "execution_count": 4,
      "outputs": []
    },
    {
      "cell_type": "code",
      "metadata": {
        "id": "IS7QxpG7PIsX",
        "outputId": "6985f6f7-bc11-4a4d-c468-76c0193f0880",
        "colab": {
          "base_uri": "https://localhost:8080/",
          "height": 201
        }
      },
      "source": [
        "a, b = ( 0.0, 10.0 )\n",
        "x0 = -1.0\n",
        "\n",
        "n = 51\n",
        "t = np.linspace( a, b, n )\n",
        "hmax, hmin = 1.0, 0.01\n",
        "tol = 1e-6\n",
        "Time, x =rkf( f, a, b, x0, tol, hmax, hmin  ) # unequally spaced t\n"
      ],
      "execution_count": 5,
      "outputs": [
        {
          "output_type": "error",
          "ename": "TypeError",
          "evalue": "ignored",
          "traceback": [
            "\u001b[0;31m---------------------------------------------------------------------------\u001b[0m",
            "\u001b[0;31mTypeError\u001b[0m                                 Traceback (most recent call last)",
            "\u001b[0;32m<ipython-input-5-eedc38f19c6e>\u001b[0m in \u001b[0;36m<module>\u001b[0;34m()\u001b[0m\n\u001b[1;32m      4\u001b[0m \u001b[0mn\u001b[0m \u001b[0;34m=\u001b[0m \u001b[0;36m51\u001b[0m\u001b[0;34m\u001b[0m\u001b[0;34m\u001b[0m\u001b[0m\n\u001b[1;32m      5\u001b[0m \u001b[0mt\u001b[0m \u001b[0;34m=\u001b[0m \u001b[0mnp\u001b[0m\u001b[0;34m.\u001b[0m\u001b[0mlinspace\u001b[0m\u001b[0;34m(\u001b[0m \u001b[0ma\u001b[0m\u001b[0;34m,\u001b[0m \u001b[0mb\u001b[0m\u001b[0;34m,\u001b[0m \u001b[0mn\u001b[0m \u001b[0;34m)\u001b[0m\u001b[0;34m\u001b[0m\u001b[0;34m\u001b[0m\u001b[0m\n\u001b[0;32m----> 6\u001b[0;31m \u001b[0mTime\u001b[0m\u001b[0;34m,\u001b[0m \u001b[0mx\u001b[0m \u001b[0;34m=\u001b[0m \u001b[0mrkf\u001b[0m\u001b[0;34m(\u001b[0m \u001b[0mf\u001b[0m\u001b[0;34m,\u001b[0m \u001b[0mx0\u001b[0m\u001b[0;34m,\u001b[0m \u001b[0mt\u001b[0m \u001b[0;34m)\u001b[0m\u001b[0;34m\u001b[0m\u001b[0;34m\u001b[0m\u001b[0m\n\u001b[0m",
            "\u001b[0;31mTypeError\u001b[0m: rkf() missing 4 required positional arguments: 'x0', 'tol', 'hmax', and 'hmin'"
          ]
        }
      ]
    },
    {
      "cell_type": "code",
      "metadata": {
        "id": "GsAlgZ5-Pak7"
      },
      "source": [
        "plt.plot( Time, x, 'b-')\n",
        "plt.ylim(-18,4)\n",
        "plt.xlabel( '$t$' )\n",
        "plt.ylabel( '$x$' )"
      ],
      "execution_count": null,
      "outputs": []
    }
  ]
}