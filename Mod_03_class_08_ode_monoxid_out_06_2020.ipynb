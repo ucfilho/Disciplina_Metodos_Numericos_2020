{
  "nbformat": 4,
  "nbformat_minor": 0,
  "metadata": {
    "colab": {
      "name": "Mod_03_class_08_ode_monoxid_out_06_2020.ipynb",
      "provenance": [],
      "collapsed_sections": [],
      "authorship_tag": "ABX9TyP+mmnjjew3PemryE9O5l7W",
      "include_colab_link": true
    },
    "kernelspec": {
      "name": "python3",
      "display_name": "Python 3"
    }
  },
  "cells": [
    {
      "cell_type": "markdown",
      "metadata": {
        "id": "view-in-github",
        "colab_type": "text"
      },
      "source": [
        "<a href=\"https://colab.research.google.com/github/ucfilho/Disciplina_Metodos_Numericos_2020/blob/master/Mod_03_class_08_ode_monoxid_out_06_2020.ipynb\" target=\"_parent\"><img src=\"https://colab.research.google.com/assets/colab-badge.svg\" alt=\"Open In Colab\"/></a>"
      ]
    },
    {
      "cell_type": "code",
      "metadata": {
        "id": "1FqdWwVtCeSu"
      },
      "source": [
        "import numpy as np\n",
        "import matplotlib.pyplot as plt"
      ],
      "execution_count": 1,
      "outputs": []
    },
    {
      "cell_type": "code",
      "metadata": {
        "id": "jAaQ9UiAJGUS",
        "outputId": "d1be5289-878e-4676-c36c-1f6f8d050f33",
        "colab": {
          "base_uri": "https://localhost:8080/",
          "height": 72
        }
      },
      "source": [
        "!git clone https://github.com/ucfilho/Disciplina_Metodos_Numericos_2020 #clonar do Github\n",
        "%cd Disciplina_Metodos_Numericos_2020"
      ],
      "execution_count": 2,
      "outputs": [
        {
          "output_type": "stream",
          "text": [
            "fatal: destination path 'Disciplina_Metodos_Numericos_2020' already exists and is not an empty directory.\n",
            "/content/Disciplina_Metodos_Numericos_2020\n"
          ],
          "name": "stdout"
        }
      ]
    },
    {
      "cell_type": "code",
      "metadata": {
        "id": "6ln1rA4oCXkI",
        "outputId": "a9984c1b-afa7-46ed-f173-f4c6cf2afbb5",
        "colab": {
          "base_uri": "https://localhost:8080/",
          "height": 295
        }
      },
      "source": [
        "from edo_rotinas import rk4\n",
        "\n",
        "def f( x, t ):\n",
        "  V=80 #m3\n",
        "  Q2=0.8   # m3/min\n",
        "  Q1=0.005 # m3/min\n",
        "  dV_dt = Q1-Q2*x/V\n",
        "  return dV_dt\n",
        "      \n",
        "\n",
        "a, b = ( 0.0, 100 )\n",
        "x0 = 0.0\n",
        "\n",
        "n = 51\n",
        "t = np.linspace( a, b, n )\n",
        "h = t[1] - t[0];\n",
        "tol = 1e-6\n",
        "\n",
        "# compute various numerical solutions\n",
        "x = rk4( f, x0, t )\n",
        "\n",
        "plt.plot( t, x, 'b-' )\n",
        "plt.ylim(0,0.5)\n",
        "plt.xlabel( 't' )\n",
        "plt.ylabel( '$x$' )\n",
        "plt.title( 'Solutions of monoxid gas problem')\n",
        "plt.show()"
      ],
      "execution_count": 3,
      "outputs": [
        {
          "output_type": "display_data",
          "data": {
            "image/png": "[encoded data removed]",
            "text/plain": [
              "<Figure size 432x288 with 1 Axes>"
            ]
          },
          "metadata": {
            "tags": [],
            "needs_background": "light"
          }
        }
      ]
    }
  ]
}