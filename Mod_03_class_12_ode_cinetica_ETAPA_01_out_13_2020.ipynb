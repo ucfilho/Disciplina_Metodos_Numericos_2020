{
  "nbformat": 4,
  "nbformat_minor": 0,
  "metadata": {
    "colab": {
      "name": "Mod_03_class_12_ode_cinetica_out_13_2020.ipynb",
      "provenance": [],
      "collapsed_sections": [],
      "authorship_tag": "ABX9TyOb/fiMCl57kqqEFRir1vSy",
      "include_colab_link": true
    },
    "kernelspec": {
      "name": "python3",
      "display_name": "Python 3"
    }
  },
  "cells": [
    {
      "cell_type": "markdown",
      "metadata": {
        "id": "view-in-github",
        "colab_type": "text"
      },
      "source": [
        "<a href=\"https://colab.research.google.com/github/ucfilho/Disciplina_Metodos_Numericos_2020/blob/master/Mod_03_class_12_ode_cinetica_ETAPA_01_out_13_2020.ipynb\" target=\"_parent\"><img src=\"https://colab.research.google.com/assets/colab-badge.svg\" alt=\"Open In Colab\"/></a>"
      ]
    },
    {
      "cell_type": "code",
      "metadata": {
        "id": "1FqdWwVtCeSu"
      },
      "source": [
        "import numpy as np\n",
        "import matplotlib.pyplot as plt\n",
        "from IPython.display import YouTubeVideo"
      ],
      "execution_count": null,
      "outputs": []
    },
    {
      "cell_type": "code",
      "metadata": {
        "id": "wyFnudJwXWMp"
      },
      "source": [
        "# YT='INciPenDtqs'\n",
        "# YouTubeVideo(YT)"
      ],
      "execution_count": null,
      "outputs": []
    },
    {
      "cell_type": "code",
      "metadata": {
        "id": "jAaQ9UiAJGUS",
        "outputId": "c3f3de7f-4dbd-456d-c02d-a56ddc99de7b",
        "colab": {
          "base_uri": "https://localhost:8080/",
          "height": 153
        }
      },
      "source": [
        "!git clone https://github.com/ucfilho/Disciplina_Metodos_Numericos_2020 #clonar do Github\n",
        "%cd Disciplina_Metodos_Numericos_2020"
      ],
      "execution_count": null,
      "outputs": [
        {
          "output_type": "stream",
          "text": [
            "Cloning into 'Disciplina_Metodos_Numericos_2020'...\n",
            "remote: Enumerating objects: 162, done.\u001b[K\n",
            "remote: Counting objects: 100% (162/162), done.\u001b[K\n",
            "remote: Compressing objects: 100% (162/162), done.\u001b[K\n",
            "remote: Total 547 (delta 85), reused 0 (delta 0), pack-reused 385\u001b[K\n",
            "Receiving objects: 100% (547/547), 851.65 KiB | 379.00 KiB/s, done.\n",
            "Resolving deltas: 100% (309/309), done.\n",
            "/content/Disciplina_Metodos_Numericos_2020/Disciplina_Metodos_Numericos_2020/Disciplina_Metodos_Numericos_2020\n"
          ],
          "name": "stdout"
        }
      ]
    },
    {
      "cell_type": "code",
      "metadata": {
        "id": "6ln1rA4oCXkI"
      },
      "source": [
        "from edo_rotinas import rk4\n",
        "\n",
        "def f( x, t ):\n",
        "  k=0.05\n",
        "  a = -1.0\n",
        "  dA_dt = -k*x**a\n",
        "  return dA_dt\n",
        "      \n",
        "\n",
        "a, b = ( 0.0, 50 )\n",
        "x0 = 10.0\n",
        "\n",
        "n = 101\n",
        "t = np.linspace( a, b, n )\n",
        "\n",
        "# compute various numerical solutions\n",
        "x = rk4( f, x0, t )"
      ],
      "execution_count": null,
      "outputs": []
    },
    {
      "cell_type": "code",
      "metadata": {
        "id": "YudhrIw9YxWR",
        "outputId": "66083e9b-9770-4ae5-d3d3-1f614424ee65",
        "colab": {
          "base_uri": "https://localhost:8080/",
          "height": 51
        }
      },
      "source": [
        "Time = t.tolist();\n",
        "time_values = [15.0, 30.0,40.0, 50.0]\n",
        "Id = [1,2,3,4]\n",
        "for i in range(4):\n",
        "  Id[i] =Time.index(time_values[i] )\n",
        "print(Id)\n",
        "\n",
        "\n",
        "Id_02 = [1,2,3,4];t0=0\n",
        "for i in range(4):\n",
        "  Id_02[i] =int((time_values[i]-t0)/h)\n",
        "print(Id_02)"
      ],
      "execution_count": null,
      "outputs": [
        {
          "output_type": "stream",
          "text": [
            "[30, 60, 80, 100]\n",
            "[30, 60, 80, 100]\n"
          ],
          "name": "stdout"
        }
      ]
    }
  ]
}