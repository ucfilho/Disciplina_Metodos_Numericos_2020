{
  "nbformat": 4,
  "nbformat_minor": 0,
  "metadata": {
    "colab": {
      "name": "Mod_03_class_12_ode_cinetica_out_13_2020.ipynb",
      "provenance": [],
      "collapsed_sections": [],
      "authorship_tag": "ABX9TyNBQz91nXiHg1UYM6ZrBB5Y",
      "include_colab_link": true
    },
    "kernelspec": {
      "name": "python3",
      "display_name": "Python 3"
    }
  },
  "cells": [
    {
      "cell_type": "markdown",
      "metadata": {
        "id": "view-in-github",
        "colab_type": "text"
      },
      "source": [
        "<a href=\"https://colab.research.google.com/github/ucfilho/Disciplina_Metodos_Numericos_2020/blob/master/Mod_03_class_12_ode_cinetica_ETAPA_01_out_13_2020.ipynb\" target=\"_parent\"><img src=\"https://colab.research.google.com/assets/colab-badge.svg\" alt=\"Open In Colab\"/></a>"
      ]
    },
    {
      "cell_type": "code",
      "metadata": {
        "id": "1FqdWwVtCeSu"
      },
      "source": [
        "import numpy as np\n",
        "import matplotlib.pyplot as plt\n",
        "from IPython.display import YouTubeVideo"
      ],
      "execution_count": 6,
      "outputs": []
    },
    {
      "cell_type": "code",
      "metadata": {
        "id": "wyFnudJwXWMp",
        "outputId": "f8ceadd7-47c9-49f5-c4bc-4bf8e8193874",
        "colab": {
          "base_uri": "https://localhost:8080/",
          "height": 321
        }
      },
      "source": [
        "#YT='INciPenDtqs'\n",
        "#YouTubeVideo(YT)"
      ],
      "execution_count": 7,
      "outputs": [
        {
          "output_type": "execute_result",
          "data": {
            "text/html": [
              "\n",
              "        <iframe\n",
              "            width=\"400\"\n",
              "            height=\"300\"\n",
              "            src=\"https://www.youtube.com/embed/INciPenDtqs\"\n",
              "            frameborder=\"0\"\n",
              "            allowfullscreen\n",
              "        ></iframe>\n",
              "        "
            ],
            "text/plain": [
              "<IPython.lib.display.YouTubeVideo at 0x7f0cd2d81da0>"
            ],
            "image/jpeg": "[encoded data removed]"
          },
          "metadata": {
            "tags": []
          },
          "execution_count": 7
        }
      ]
    },
    {
      "cell_type": "code",
      "metadata": {
        "id": "jAaQ9UiAJGUS",
        "outputId": "0fb7fc48-2b16-4d6d-834d-0eef177039cd",
        "colab": {
          "base_uri": "https://localhost:8080/",
          "height": 51
        }
      },
      "source": [
        "!git clone https://github.com/ucfilho/Disciplina_Metodos_Numericos_2020 #clonar do Github\n",
        "%cd Disciplina_Metodos_Numericos_2020"
      ],
      "execution_count": 3,
      "outputs": [
        {
          "output_type": "stream",
          "text": [
            "fatal: destination path 'Disciplina_Metodos_Numericos_2020' already exists and is not an empty directory.\n",
            "/content/Disciplina_Metodos_Numericos_2020\n"
          ],
          "name": "stdout"
        }
      ]
    },
    {
      "cell_type": "code",
      "metadata": {
        "id": "6ln1rA4oCXkI"
      },
      "source": [
        "from edo_rotinas import rk4\n",
        "\n",
        "def model( x, t ):\n",
        "  k=0.05\n",
        "  a = -1.0\n",
        "  dA_dt = -k*x**a\n",
        "  return dA_dt\n",
        "      \n",
        "def Indices(t,time_values,t0):\n",
        "  Time = t.tolist();\n",
        "  n = len(time_values)\n",
        "  Id = np.zeros(n,dtype=int)\n",
        "  for i in range(n):\n",
        "    Id[i] =Time.index(time_values[i] )\n",
        "    # Id[i] =int((time_values[i]-t0)/h)\n",
        "  return Id\n",
        "\n",
        "def fobj(x_calc,x_true):\n",
        "  k=0\n",
        "  soma = 0.0\n",
        "  for x in x_calc:\n",
        "    soma = soma + (x - x_true[k])**2\n",
        "    k = k+1\n",
        "  return soma\n"
      ],
      "execution_count": 4,
      "outputs": []
    },
    {
      "cell_type": "code",
      "metadata": {
        "id": "YudhrIw9YxWR",
        "outputId": "768b49bd-39d8-4014-9f5f-a3bdf43228df",
        "colab": {
          "base_uri": "https://localhost:8080/",
          "height": 34
        }
      },
      "source": [
        "a, b = ( 0.0, 50 )\n",
        "x0 = 10.0\n",
        "\n",
        "n = 101\n",
        "t = np.linspace( a, b, n )\n",
        "\n",
        "# compute various numerical solutions\n",
        "x = rk4( model, x0, t )\n",
        "t0=0\n",
        "time_values = [15.0, 30.0,40.0, 50.0]\n",
        "Id = Indices(t,time_values,t0)\n",
        "x_calc= x[Id]\n",
        "x_true = [9.25,8.60,8.22,7.87]\n",
        "MIN = fobj(x_calc,x_true)\n",
        "print(MIN)\n",
        "\n"
      ],
      "execution_count": 5,
      "outputs": [
        {
          "output_type": "stream",
          "text": [
            "8.027199854559365\n"
          ],
          "name": "stdout"
        }
      ]
    }
  ]
}