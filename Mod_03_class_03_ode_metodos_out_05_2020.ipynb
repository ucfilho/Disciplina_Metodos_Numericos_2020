{
  "nbformat": 4,
  "nbformat_minor": 0,
  "metadata": {
    "colab": {
      "name": "Mod_03_class_03_ode_metodos_out_05_2020.ipynb",
      "provenance": [],
      "collapsed_sections": [],
      "authorship_tag": "ABX9TyONPLxpIEqvdNMAdYzyx8MG",
      "include_colab_link": true
    },
    "kernelspec": {
      "name": "python3",
      "display_name": "Python 3"
    }
  },
  "cells": [
    {
      "cell_type": "markdown",
      "metadata": {
        "id": "view-in-github",
        "colab_type": "text"
      },
      "source": [
        "<a href=\"https://colab.research.google.com/github/ucfilho/Disciplina_Metodos_Numericos_2020/blob/master/Mod_03_class_03_ode_metodos_out_05_2020.ipynb\" target=\"_parent\"><img src=\"https://colab.research.google.com/assets/colab-badge.svg\" alt=\"Open In Colab\"/></a>"
      ]
    },
    {
      "cell_type": "code",
      "metadata": {
        "id": "1FqdWwVtCeSu"
      },
      "source": [
        "import numpy as np\n",
        "import matplotlib.pyplot as plt"
      ],
      "execution_count": 1,
      "outputs": []
    },
    {
      "cell_type": "code",
      "metadata": {
        "id": "jAaQ9UiAJGUS",
        "outputId": "b3f96ea5-611e-41d7-d51f-c069d6578efa",
        "colab": {
          "base_uri": "https://localhost:8080/",
          "height": 156
        }
      },
      "source": [
        "!git clone https://github.com/ucfilho/Disciplina_Metodos_Numericos_2020 #clonar do Github\n",
        "%cd Disciplina_Metodos_Numericos_2020"
      ],
      "execution_count": 2,
      "outputs": [
        {
          "output_type": "stream",
          "text": [
            "Cloning into 'Disciplina_Metodos_Numericos_2020'...\n",
            "remote: Enumerating objects: 63, done.\u001b[K\n",
            "remote: Counting objects: 100% (63/63), done.\u001b[K\n",
            "remote: Compressing objects: 100% (63/63), done.\u001b[K\n",
            "remote: Total 448 (delta 29), reused 0 (delta 0), pack-reused 385\u001b[K\n",
            "Receiving objects: 100% (448/448), 657.87 KiB | 1.78 MiB/s, done.\n",
            "Resolving deltas: 100% (253/253), done.\n",
            "/content/Disciplina_Metodos_Numericos_2020\n"
          ],
          "name": "stdout"
        }
      ]
    },
    {
      "cell_type": "code",
      "metadata": {
        "id": "6ln1rA4oCXkI",
        "outputId": "3db6bd49-10b9-4878-f16c-5686c87dfe98",
        "colab": {
          "base_uri": "https://localhost:8080/",
          "height": 314
        }
      },
      "source": [
        "from edo_rotinas import euler, heun, rk2a,rk2b\n",
        "from edo_rotinas import rk4, rk45, rkf, pc4\n",
        "\n",
        "def f( x, t ):\n",
        "  return x * np.sin( t )\n",
        "      \n",
        "\n",
        "a, b = ( 0.0, 10.0 )\n",
        "x0 = -1.0\n",
        "\n",
        "n = 51\n",
        "t = np.linspace( a, b, n )\n",
        "h = t[1] - t[0];\n",
        "tol = 1e-6\n",
        "\n",
        "# compute various numerical solutions\n",
        "x_euler = euler( f, x0, t )\n",
        "x_heun = heun( f, x0, t )\n",
        "x_rk2 = rk2a( f, x0, t )\n",
        "x_rk4 = rk4( f, x0, t )\n",
        "x_pc4 = pc4( f, x0, t )\n",
        "t_rkf, x_rkf = rkf( f, a, b, x0, tol, 1.0, 0.01 ) # unequally spaced t\n",
        "\n",
        "# compute true solution values in equal spaced and unequally spaced cases\n",
        "x = -np.exp( 1.0 - np.cos( t ) )\n",
        "xrkf = -np.exp( 1.0 - np.cos( t_rkf ) )\n",
        "\n",
        "plt.legend(fontsize=2) \n",
        "#   figure( 1 )\n",
        "plt.subplot( 221 )\n",
        "plt.plot( t, x_euler, 'b-o', t, x_heun, 'g-o', t, x_rk2, 'r-o' )\n",
        "plt.ylim(-18,4)\n",
        "plt.xlabel( 't' )\n",
        "plt.ylabel( '$x$' )\n",
        "plt.title( 'Solutions of dx/dt = x sin t')\n",
        "plt.legend( ( 'Euler ', 'Heun ', 'Runge-Kutta 2' ),\n",
        "            loc='lower left' )\n",
        "\n",
        "#   figure( 2 )\n",
        "plt.subplot( 222 )\n",
        "plt.plot( t, x_euler - x, 'b-o', t, x_heun - x, 'g-o', t, x_rk2 - x, 'r-o' )\n",
        "plt.ylim(-18,4)\n",
        "plt.xlabel( 't' )\n",
        "plt.ylabel( '$x - x^*$' )\n",
        "plt.title( 'Errors in solutions ' )\n",
        "plt.legend( ( 'Euler', 'Heun', 'Runge-Kutta 2' ),loc='lower left' )\n",
        "\n",
        "#   figure( 3 )\n",
        "plt.subplot( 223)\n",
        "plt.plot( t, x_rk4, 'b-o', t, x_pc4, 'g-o', t_rkf, x_rkf, 'r-o' )\n",
        "plt.ylim(-18,4)\n",
        "plt.xlabel( '$t$' )\n",
        "plt.ylabel( '$x$' )\n",
        "#title( 'Solutions of dx/dt = x sin t' )\n",
        "plt.legend( ( 'Runge-Kutta 4', 'Predictor-Corrector 4', \\\n",
        "              'Runge-Kutta-Fehlberg' ), loc='lower left' )\n",
        "\n",
        "#   figure( 4 )\n",
        "plt.subplot( 224 )\n",
        "plt.plot( t, x_rk4 - x, 'b-o', t, x_pc4 - x, 'g-o', t_rkf, x_rkf - xrkf, 'r-o' )\n",
        "plt.ylim(-18,4)\n",
        "plt.xlabel( 't' )\n",
        "plt.ylabel( '$x - x^*$' )\n",
        "plt.legend( ( 'Runge-Kutta 4', 'Predictor-Corrector 4','Runge-Kutta-Fehlberg' ), loc='lower left' )\n",
        "\n",
        "plt.show()"
      ],
      "execution_count": 3,
      "outputs": [
        {
          "output_type": "stream",
          "text": [
            "No handles with labels found to put in legend.\n"
          ],
          "name": "stderr"
        },
        {
          "output_type": "display_data",
          "data": {
            "image/png": "[encoded data removed]",
            "text/plain": [
              "<Figure size 432x288 with 4 Axes>"
            ]
          },
          "metadata": {
            "tags": [],
            "needs_background": "light"
          }
        }
      ]
    }
  ]
}