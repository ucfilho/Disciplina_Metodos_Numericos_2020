{
  "nbformat": 4,
  "nbformat_minor": 0,
  "metadata": {
    "colab": {
      "name": "Mod_04_class_02_int_simpson_1_3.ipynb",
      "provenance": [],
      "authorship_tag": "ABX9TyMo0s7OTRnWoZtw1QhmCfiK",
      "include_colab_link": true
    },
    "kernelspec": {
      "name": "python3",
      "display_name": "Python 3"
    }
  },
  "cells": [
    {
      "cell_type": "markdown",
      "metadata": {
        "id": "view-in-github",
        "colab_type": "text"
      },
      "source": [
        "<a href=\"https://colab.research.google.com/github/ucfilho/Disciplina_Metodos_Numericos_2020/blob/master/Mod_04_class_02_int_simpson_1_3.ipynb\" target=\"_parent\"><img src=\"https://colab.research.google.com/assets/colab-badge.svg\" alt=\"Open In Colab\"/></a>"
      ]
    },
    {
      "cell_type": "code",
      "metadata": {
        "id": "jCIbDeo1c5N6"
      },
      "source": [
        "import numpy as np\n",
        "import matplotlib.pyplot as plt\n"
      ],
      "execution_count": 1,
      "outputs": []
    },
    {
      "cell_type": "markdown",
      "metadata": {
        "id": "ET3wYkiMdiPP"
      },
      "source": [
        "$ S_N(f) = \\frac{\\Delta x}{3} \\sum_{i=1}^{N/2} \\left( f(x_{2i-2}) + 4 f(x_{2i-1}) + f(x_{2i}) \\right)$"
      ]
    },
    {
      "cell_type": "code",
      "metadata": {
        "id": "P55ftNxPdwsN"
      },
      "source": [
        "# https://www.math.ubc.ca/~pwalls/math-python/integration/simpsons-rule/"
      ],
      "execution_count": null,
      "outputs": []
    },
    {
      "cell_type": "code",
      "metadata": {
        "id": "xKUIyiumdIpo"
      },
      "source": [
        "def simps(f,a,b,N=50):\n",
        "    '''Approximate the integral of f(x) from a to b by Simpson's rule.\n",
        "\n",
        "    Simpson's rule approximates the integral \\int_a^b f(x) dx by the sum:\n",
        "    (dx/3) \\sum_{k=1}^{N/2} (f(x_{2i-2} + 4f(x_{2i-1}) + f(x_{2i}))\n",
        "    where x_i = a + i*dx and dx = (b - a)/N.\n",
        "\n",
        "    Parameters\n",
        "    ----------\n",
        "    f : function\n",
        "        Vectorized function of a single variable\n",
        "    a , b : numbers\n",
        "        Interval of integration [a,b]\n",
        "    N : (even) integer\n",
        "        Number of subintervals of [a,b]\n",
        "\n",
        "    Returns\n",
        "    -------\n",
        "    float\n",
        "        Approximation of the integral of f(x) from a to b using\n",
        "        Simpson's rule with N subintervals of equal length.\n",
        "\n",
        "    Examples\n",
        "    --------\n",
        "    >>> simps(lambda x : 3*x**2,0,1,10)\n",
        "    1.0\n",
        "    '''\n",
        "    if N % 2 == 1:\n",
        "        raise ValueError(\"N must be an even integer.\")\n",
        "    dx = (b-a)/N\n",
        "    x = np.linspace(a,b,N+1)\n",
        "    y = f(x)\n",
        "    S = dx/3 * np.sum(y[0:-1:2] + 4*y[1::2] + y[2::2])\n",
        "    return S"
      ],
      "execution_count": 2,
      "outputs": []
    },
    {
      "cell_type": "code",
      "metadata": {
        "id": "YlRrd2FVdJ4A",
        "outputId": "9487cfea-dea0-4a53-a88e-8c992ae93799",
        "colab": {
          "base_uri": "https://localhost:8080/"
        }
      },
      "source": [
        "simps(lambda x : 3*x**2,0,1,10)"
      ],
      "execution_count": 3,
      "outputs": [
        {
          "output_type": "execute_result",
          "data": {
            "text/plain": [
              "1.0"
            ]
          },
          "metadata": {
            "tags": []
          },
          "execution_count": 3
        }
      ]
    }
  ]
}