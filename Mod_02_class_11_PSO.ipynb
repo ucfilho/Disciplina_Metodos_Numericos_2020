{
  "nbformat": 4,
  "nbformat_minor": 0,
  "metadata": {
    "colab": {
      "name": "Mod_02_class_11_PSO.ipynb",
      "provenance": [],
      "collapsed_sections": [],
      "include_colab_link": true
    },
    "kernelspec": {
      "name": "python3",
      "display_name": "Python 3"
    }
  },
  "cells": [
    {
      "cell_type": "markdown",
      "metadata": {
        "id": "view-in-github",
        "colab_type": "text"
      },
      "source": [
        "<a href=\"https://colab.research.google.com/github/ucfilho/Disciplina_Metodos_Numericos_2020/blob/master/Mod_02_class_11_PSO.ipynb\" target=\"_parent\"><img src=\"https://colab.research.google.com/assets/colab-badge.svg\" alt=\"Open In Colab\"/></a>"
      ]
    },
    {
      "cell_type": "code",
      "metadata": {
        "id": "7Yo-MeQYXs0P",
        "colab_type": "code",
        "colab": {}
      },
      "source": [
        "import numpy as np"
      ],
      "execution_count": 1,
      "outputs": []
    },
    {
      "cell_type": "code",
      "metadata": {
        "id": "2-R-y2BFc1jI",
        "colab_type": "code",
        "colab": {}
      },
      "source": [
        "def FUNCTION(x):\n",
        "  Z=(1-x[0])**2+5*(x[1]-x[0]**2)**2\n",
        "  return Z"
      ],
      "execution_count": 2,
      "outputs": []
    },
    {
      "cell_type": "code",
      "metadata": {
        "id": "7g0DqgDeG8Bd",
        "colab_type": "code",
        "colab": {}
      },
      "source": [
        "def Enxame(PAR,NPAR,MAX,MIN):\n",
        "    x=np.zeros((NPAR, len(MAX)))\n",
        "    for j in range(len(MAX)):\n",
        "        for i in range(NPAR):\n",
        "            x[i,j]=MIN[j]+(MAX[j]-MIN[j])*np.random.random()\n",
        "    return x\n",
        "\n",
        "def OBJ(x):\n",
        "    rows = len(x)\n",
        "    cols = len(x[0])\n",
        "    fobj=np.zeros(rows)\n",
        "    for i in range(rows):\n",
        "        for j in range(cols):\n",
        "            fobj[i]=FUNCTION(x[i,])\n",
        "    return fobj\n",
        "    # return fobj.min()\n",
        "\n",
        "def VALOR(x):\n",
        "    fob=FUNCTION(x)\n",
        "    return fob\n",
        "\n",
        "def BEST(X,RBEST):\n",
        "    rows = len(X)\n",
        "    cols = len(X[0])\n",
        "    YCAL=OBJ(X)\n",
        "    NEW=VALOR(RBEST)\n",
        "    for i in range(rows):\n",
        "        for j in range(cols):\n",
        "            if(YCAL[i]<NEW):\n",
        "                RBEST[j]=X[i,j]\n",
        "    return RBEST\n",
        "\n",
        "def PART(X,PBEST):\n",
        "    rows = len(X)\n",
        "    cols = len(X[0])\n",
        "    YCAL=OBJ(PBEST)\n",
        "    NEW=OBJ(X).min()\n",
        "    for i in range(rows):\n",
        "        for j in range(cols):\n",
        "            if(YCAL[i]>NEW):\n",
        "                PBEST[i,j]=X[i,j]\n",
        "    return PBEST\n",
        "\n",
        "def VE(X,VEL,BEST,PBEST,W,C1,C2):\n",
        "    rows = len(X)\n",
        "    cols = len(X[0])\n",
        "    for i in range(rows):\n",
        "        for j in range(cols):\n",
        "            R1=np.random.random()\n",
        "            R2=np.random.random()\n",
        "            VEL[i,j]=W*VEL[i,j]+C1*R1*(PBEST[i,j]-X[i,j])+C2*R2*(BEST[j]-X[i,j])\n",
        "            X[i,j]=X[i,j]+VEL[i,j]\n",
        "    return VEL,X\n",
        "\n",
        "\n",
        "def PSO(W,C1,C2,NPAR,ITE,PAR,MAX,MIN):\n",
        "    X=Enxame(PAR,NPAR,MAX,MIN) # CRIA A POPULACAO\n",
        "    ycal=OBJ(X) # CALCULA A FUNCAO OBJETIVO PARA TODAS PARTICULAS\n",
        "    PBEST=PART(X,X) # O MELHOR LOCAL DE CADA PARTICULA INICIALMENTE ALEATORIA\n",
        "    VBEST=[]\n",
        "    for i in range(PAR):\n",
        "        VBEST.append(1e10)\n",
        "    VBEST=BEST(X,VBEST)\n",
        "    VELOC=Enxame(PAR,NPAR,MAX,MIN)# VELOCIDADES INICIALMENTE ALEATORIAS\n",
        "    RESP=[]\n",
        "    for k in range(ITE):\n",
        "        yteste=VALOR(VBEST)\n",
        "        VELOC, X=VE(X,VELOC,VBEST,PBEST,W,C1,C2)\n",
        "        VBEST=BEST(X,VBEST)\n",
        "        PBEST=PART(X,PBEST)\n",
        "        yteste=VALOR(VBEST)\n",
        "        RESP.append(yteste)\n",
        "    return RESP,VBEST"
      ],
      "execution_count": 3,
      "outputs": []
    },
    {
      "cell_type": "code",
      "metadata": {
        "id": "U_fDgh--JUTK",
        "colab_type": "code",
        "colab": {
          "base_uri": "https://localhost:8080/",
          "height": 208
        },
        "outputId": "bc57c7af-ecef-4145-9cd7-506ae431d2f2"
      },
      "source": [
        "\"\"\"\n",
        "Created on Wed Dec 12 2018\n",
        "@author: ucfilho\n",
        "\"\"\"\n",
        "W=0.75\n",
        "C1=2\n",
        "C2=2\n",
        "NPAR=100 #PARTICULAS\n",
        "ITE=100 #ITERACOES\n",
        "PAR=2 #NUM DE PARAMETROS A SER OTIMIZADOS\n",
        "MAX=[5,5] # MAXIMO DE CADA PARAMETRO\n",
        "MIN=[-4,-4] # MINIMO DE CADA PARAMETRO\n",
        "\n",
        "resp,best=PSO(W,C1,C2,NPAR,ITE,PAR,MAX,MIN)\n",
        "\n",
        "for i in range(ITE):\n",
        "    if((i+1)%10==0):\n",
        "        print(\"iteracao=\",i+1,\"fobj=\",resp[i])\n",
        "print(best)\n"
      ],
      "execution_count": 4,
      "outputs": [
        {
          "output_type": "stream",
          "text": [
            "iteracao= 10 fobj= 0.04635002781335945\n",
            "iteracao= 20 fobj= 0.0005210248876508631\n",
            "iteracao= 30 fobj= 6.673692209745856e-05\n",
            "iteracao= 40 fobj= 2.8845883486072738e-05\n",
            "iteracao= 50 fobj= 1.7952305559170346e-05\n",
            "iteracao= 60 fobj= 8.707936586759091e-07\n",
            "iteracao= 70 fobj= 4.4245474023541495e-07\n",
            "iteracao= 80 fobj= 3.974132947030713e-07\n",
            "iteracao= 90 fobj= 9.098819234375985e-08\n",
            "iteracao= 100 fobj= 5.85889585713789e-09\n",
            "[1.0000327947743124, 1.0000965208638073]\n"
          ],
          "name": "stdout"
        }
      ]
    }
  ]
}