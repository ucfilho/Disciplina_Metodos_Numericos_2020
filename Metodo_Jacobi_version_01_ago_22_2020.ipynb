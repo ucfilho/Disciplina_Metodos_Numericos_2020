{
  "nbformat": 4,
  "nbformat_minor": 0,
  "metadata": {
    "kernelspec": {
      "display_name": "Python 3",
      "language": "python",
      "name": "python3"
    },
    "language_info": {
      "codemirror_mode": {
        "name": "ipython",
        "version": 3
      },
      "file_extension": ".py",
      "mimetype": "text/x-python",
      "name": "python",
      "nbconvert_exporter": "python",
      "pygments_lexer": "ipython3",
      "version": "3.8.3"
    },
    "colab": {
      "name": "Metodo_Jacobi_version_01_ago_22_2020.ipynb",
      "provenance": [],
      "collapsed_sections": [],
      "include_colab_link": true
    }
  },
  "cells": [
    {
      "cell_type": "markdown",
      "metadata": {
        "id": "view-in-github",
        "colab_type": "text"
      },
      "source": [
        "<a href=\"https://colab.research.google.com/github/ucfilho/Disciplina_Metodos_Numericos_2020/blob/master/Metodo_Jacobi_version_01_ago_22_2020.ipynb\" target=\"_parent\"><img src=\"https://colab.research.google.com/assets/colab-badge.svg\" alt=\"Open In Colab\"/></a>"
      ]
    },
    {
      "cell_type": "code",
      "metadata": {
        "id": "GDn1FDuHuEIJ",
        "colab_type": "code",
        "colab": {}
      },
      "source": [
        "import numpy\n",
        "import numpy.linalg as nl"
      ],
      "execution_count": 1,
      "outputs": []
    },
    {
      "cell_type": "code",
      "metadata": {
        "id": "BQvZH9c5uEIb",
        "colab_type": "code",
        "colab": {}
      },
      "source": [
        "def jacobi(A,f,x,maxIter = 100, tol = 1.0e-4):\n",
        "    # inputs:\n",
        "    # A is a nxn matrix\n",
        "    # f is a right-hand-side vector of length n\n",
        "    # x is initial guess at the solution to A x = f\n",
        "    # maxIter (optional) is maximum iterations\n",
        "    # tol (optional) is desired accuracy in terms\n",
        "    # of the L2-norm of the residual (= f - Ax)\n",
        "    n = f.size\n",
        "    # Begin by checking for compatible sizes\n",
        "    if (A.shape[0] != n or A.shape[1] != n):\n",
        "        print(\"Error! Incompatible sizes.\")\n",
        "        return f\n",
        "    # Loop to iterate until we converge to solution\n",
        "    # or we reach the maximum number of iterations\n",
        "    xnew = numpy.copy(x)\n",
        "    for iter in range(maxIter):\n",
        "        # calculate residual\n",
        "        res = f - numpy.dot(A,x)\n",
        "        # check L2-norm for convergence\n",
        "        if (nl.norm(res,2) < tol):\n",
        "            print(\"Converged after\", iter,\"iterations \")\n",
        "            return x\n",
        "        # start of Jacobi iteration\n",
        "        for i in range(n):\n",
        "            sum=0.0\n",
        "            for j in range(n):\n",
        "                if(i != j):\n",
        "                    sum += A[i,j]*x[j]\n",
        "            xnew[i] = (f[i] - sum)/A[i,i]\n",
        "        x = numpy.copy(xnew)\n",
        "        print('Failed to converge after', iter,'iterations')\n",
        "    return x"
      ],
      "execution_count": 2,
      "outputs": []
    },
    {
      "cell_type": "code",
      "metadata": {
        "id": "LHQ8kgJruEIp",
        "colab_type": "code",
        "colab": {
          "base_uri": "https://localhost:8080/",
          "height": 151
        },
        "outputId": "f55fb311-609c-409a-87a6-29b5fa26e0cb"
      },
      "source": [
        "A = numpy.array([[0.9, 0.3, 0.1], [0.1,0.5,0.2],\n",
        "                 [0.0,0.2,0.7]])\n",
        "f = numpy.array([30.0,25.0,10.0])\n",
        "x = numpy.array([20.0, 20.0, 20.0])\n",
        "tol=1e-1\n",
        "ite=200\n",
        "# sol = jacobi(A,f,x)\n",
        "sol = jacobi(A,f,x,ite,tol)\n",
        "print(sol)"
      ],
      "execution_count": 3,
      "outputs": [
        {
          "output_type": "stream",
          "text": [
            "Failed to converge after 0 iterations\n",
            "Failed to converge after 1 iterations\n",
            "Failed to converge after 2 iterations\n",
            "Failed to converge after 3 iterations\n",
            "Failed to converge after 4 iterations\n",
            "Failed to converge after 5 iterations\n",
            "Converged after 6 iterations \n",
            "[17.92953773 45.83867545  1.21204478]\n"
          ],
          "name": "stdout"
        }
      ]
    },
    {
      "cell_type": "code",
      "metadata": {
        "id": "9GdqaSgMzSs-",
        "colab_type": "code",
        "colab": {
          "base_uri": "https://localhost:8080/",
          "height": 50
        },
        "outputId": "5bea0dad-3ff4-41fe-b095-100c145bd128"
      },
      "source": [
        "bb=A.shape\n",
        "print(bb)\n",
        "print(bb[0])"
      ],
      "execution_count": 4,
      "outputs": [
        {
          "output_type": "stream",
          "text": [
            "(3, 3)\n",
            "3\n"
          ],
          "name": "stdout"
        }
      ]
    }
  ]
}