{
  "nbformat": 4,
  "nbformat_minor": 0,
  "metadata": {
    "colab": {
      "name": "Mod_02_Class_08_BFGS.ipynb",
      "provenance": [],
      "include_colab_link": true
    },
    "kernelspec": {
      "name": "python3",
      "display_name": "Python 3"
    }
  },
  "cells": [
    {
      "cell_type": "markdown",
      "metadata": {
        "id": "view-in-github",
        "colab_type": "text"
      },
      "source": [
        "<a href=\"https://colab.research.google.com/github/ucfilho/Disciplina_Metodos_Numericos_2020/blob/master/Mod_02_Class_08_BFGS.ipynb\" target=\"_parent\"><img src=\"https://colab.research.google.com/assets/colab-badge.svg\" alt=\"Open In Colab\"/></a>"
      ]
    },
    {
      "cell_type": "code",
      "metadata": {
        "id": "tLgv4gDnCbX1",
        "colab_type": "code",
        "colab": {}
      },
      "source": [
        "import numpy  as np\n",
        "from scipy.optimize import minimize"
      ],
      "execution_count": null,
      "outputs": []
    },
    {
      "cell_type": "code",
      "metadata": {
        "id": "AZJmGeqra0j2",
        "colab_type": "code",
        "colab": {}
      },
      "source": [
        "def Minimo(x):\n",
        "  Z=(1-x[0])**2+5*(x[1]-x[0]**2)**2\n",
        "  return Z\n"
      ],
      "execution_count": null,
      "outputs": []
    },
    {
      "cell_type": "markdown",
      "metadata": {
        "id": "IsridphGAxF9",
        "colab_type": "text"
      },
      "source": [
        "$z=(1-x_0)^2+5*(x_1-x_0^2)^2$\n",
        "\n"
      ]
    },
    {
      "cell_type": "code",
      "metadata": {
        "id": "XIC-e0jsJRVQ",
        "colab_type": "code",
        "colab": {
          "base_uri": "https://localhost:8080/",
          "height": 206
        },
        "outputId": "f4caa644-b7dc-4214-d6d3-b640de42c042"
      },
      "source": [
        "x0=np.array([2,0]) # initial guess of x\n",
        "res = minimize(Minimo, x0, method='BFGS')\n",
        "print(res)"
      ],
      "execution_count": null,
      "outputs": [
        {
          "output_type": "stream",
          "text": [
            "      fun: 4.970252089001844e-14\n",
            " hess_inv: array([[0.49960341, 0.99956206],\n",
            "       [0.99956206, 2.09963944]])\n",
            "      jac: array([ 4.68428680e-08, -1.45039269e-08])\n",
            "  message: 'Optimization terminated successfully.'\n",
            "     nfev: 52\n",
            "      nit: 10\n",
            "     njev: 13\n",
            "   status: 0\n",
            "  success: True\n",
            "        x: array([0.99999978, 0.99999955])\n"
          ],
          "name": "stdout"
        }
      ]
    }
  ]
}