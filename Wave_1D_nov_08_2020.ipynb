{
  "nbformat": 4,
  "nbformat_minor": 0,
  "metadata": {
    "colab": {
      "name": "Wave_1D_nov_08_2020.ipynb",
      "provenance": [],
      "authorship_tag": "ABX9TyNrr6KXwRZ3D5/yOxAnwCp+",
      "include_colab_link": true
    },
    "kernelspec": {
      "name": "python3",
      "display_name": "Python 3"
    }
  },
  "cells": [
    {
      "cell_type": "markdown",
      "metadata": {
        "id": "view-in-github",
        "colab_type": "text"
      },
      "source": [
        "<a href=\"https://colab.research.google.com/github/ucfilho/Disciplina_Metodos_Numericos_2020/blob/master/Wave_1D_nov_08_2020.ipynb\" target=\"_parent\"><img src=\"https://colab.research.google.com/assets/colab-badge.svg\" alt=\"Open In Colab\"/></a>"
      ]
    },
    {
      "cell_type": "markdown",
      "metadata": {
        "id": "1VYBu-9VDvVL"
      },
      "source": [
        "\n",
        "\\begin{eqnarray}\n",
        "\\frac{\\partial u}{\\partial t}  \\ \\ & = & \\ \\frac{\\partial^2 u}{\\partial x^2}, \\ \\ & 0\\leq x \\leq 1   \\nonumber \\\\\n",
        "u(t,0) & = & u(t,1)=0 &  \\ \\ \\ \\ \\ \\ \\forall t\\nonumber\\\\\n",
        "u(0,x) & = & 2x   &  \\mathrm{if} \\ \\ x\\leq 0.5 \\nonumber\\\\\n",
        "u(0,x) & = & 2(1-x)  & \\mathrm{if} \\ \\ x> 0.5   \\nonumber\n",
        "\\end{eqnarray}\n"
      ]
    },
    {
      "cell_type": "markdown",
      "metadata": {
        "id": "DtJLNS-iF1DM"
      },
      "source": [
        "\\begin{equation}\n",
        "\\frac{u_{i,j+1}-u_{i,j}}{\\Delta t} \n",
        "= \\frac{D}{2} \\left(\\frac{u_{i+1,j+1}-2u_{i,j+1}+u_{i-1,j+1}}{\\Delta x^2} + \\frac{u_{i+1,j}-2u_{i,j}+u_{i-1,j}}{\\Delta x^2}\\right)\n",
        "\\end{equation}\n"
      ]
    },
    {
      "cell_type": "markdown",
      "metadata": {
        "id": "el8qpQM6E6_v"
      },
      "source": [
        "$\n",
        "-r u_{i-1,j+1} + (2+2r)u_{i,j+1} -r u_{i+1,j+1} =\n",
        " r  u_{i-1,j} + (2-2r) u_{i,j} + r u_{i+1,j} \n",
        "$\n",
        "\n",
        "where:\n",
        "\n",
        "$ r=D\\Delta t/\\Delta x^2 $"
      ]
    },
    {
      "cell_type": "code",
      "metadata": {
        "id": "O9jkU6qDEvVh"
      },
      "source": [
        ""
      ],
      "execution_count": null,
      "outputs": []
    },
    {
      "cell_type": "markdown",
      "metadata": {
        "id": "7tfO1ASKE-0u"
      },
      "source": [
        ""
      ]
    },
    {
      "cell_type": "code",
      "metadata": {
        "id": "J9uSUhfHDcwY"
      },
      "source": [
        "import numpy as np\n",
        "import matplotlib.pyplot as plt\n",
        "import os, sys\n",
        "import matplotlib\n",
        "\n",
        "Local=\"C://Users//TREX//Desktop\"\n",
        "os.chdir(Local) \n",
        "\n",
        "matplotlib.rc('font', size=18)\n",
        "matplotlib.rc('font', family='Arial')\n",
        "\n",
        "#definition of numerical parameters\n",
        "N = 51 #number of grid points\n",
        "dt = 5.e-4 #time step\n",
        "L = float(1) #size of grid\n",
        "nsteps = 620 #number of time steps\n",
        "dx = L/(N-1) #grid spacing\n",
        "nplot = 20 #number of timesteps before plotting\n",
        "\n",
        "r = dt/dx**2 #assuming heat diffusion coefficient == 1\n",
        "\n",
        "#initialize matrices A, B and b array\n",
        "A = np.zeros((N-2,N-2))\n",
        "B = np.zeros((N-2,N-2))\n",
        "b = np.zeros((N-2))\n",
        "#define matrices A, B and b array\n",
        "for i in range(N-2):\n",
        "    if i==0:\n",
        "        A[i,:] = [2+2*r if j==0 else (-r) if j==1 else 0 for j in range(N-2)]\n",
        "        B[i,:] = [2-2*r if j==0 else r if j==1 else 0 for j in range(N-2)]\n",
        "        b[i] = 0. #boundary condition at i=1\n",
        "    elif i==N-3:\n",
        "        A[i,:] = [-r if j==N-4 else 2+2*r if j==N-3 else 0 for j in range(N-2)]\n",
        "        B[i,:] = [r if j==N-4 else 2-2*r if j==N-3 else 0 for j in range(N-2)]\n",
        "        b[i] = 0. #boundary condition at i=N\n",
        "    else:\n",
        "        A[i,:] = [-r if j==i-1 or j==i+1 else 2+2*r if j==i else 0 for j in range(N-2)]\n",
        "        B[i,:] = [r if j==i-1 or j==i+1 else 2-2*r if j==i else 0 for j in range(N-2)]\n",
        "\n",
        "#initialize grid\n",
        "x = np.linspace(0,1,N)\n",
        "#initial condition\n",
        "u = np.asarray([2*xx if xx<=0.5 else 2*(1-xx) for xx in x])\n",
        "#evaluate right hand side at t=0\n",
        "bb = B.dot(u[1:-1]) + b\n",
        "\n",
        "fig = plt.figure()\n",
        "plt.plot(x,u,linewidth=2)\n",
        "filename = 'foo000.jpg';\n",
        "#fig.set_tight_layout(True,\"h_pad=1.0\");\n",
        "plt.tight_layout(pad=3.0)\n",
        "plt.xlabel(\"x\")\n",
        "plt.ylabel(\"u\")\n",
        "plt.title(\"t = 0\")\n",
        "plt.savefig(filename,format=\"jpg\")\n",
        "plt.clf()\n",
        "\n",
        "c = 0\n",
        "for j in range(nsteps):\n",
        "    print(j)\n",
        "    #find solution inside domain\n",
        "    u[1:-1] = np.linalg.solve(A,bb)\n",
        "    #update right hand side\n",
        "    bb = B.dot(u[1:-1]) + b\n",
        "    if(j%nplot==0): #plot results every nplot timesteps\n",
        "        plt.plot(x,u,linewidth=2)\n",
        "        plt.ylim([0,1])\n",
        "        filename = 'foo' + str(c+1).zfill(3) + '.jpg';\n",
        "        plt.xlabel(\"x\")\n",
        "        plt.ylabel(\"u\")\n",
        "        plt.title(\"t = %2.2f\"%(dt*(j+1)))\n",
        "        plt.savefig(filename,format=\"jpg\")\n",
        "        plt.clf()\n",
        "        c += 1\n",
        "\n",
        "os.system(\"ffmpeg -y -i 'foo%03d.jpg' heat_equation.m4v\")\n",
        "os.system(\"rm -f *.jpg\")"
      ],
      "execution_count": null,
      "outputs": []
    }
  ]
}