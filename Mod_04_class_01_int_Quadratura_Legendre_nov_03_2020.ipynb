{
  "nbformat": 4,
  "nbformat_minor": 0,
  "metadata": {
    "colab": {
      "name": "Mod_04_class_01_int_Quadratura_Legendre_nov_03_2020.ipynb",
      "provenance": [],
      "authorship_tag": "ABX9TyOUNyeJ54w7anfWg3III5t9",
      "include_colab_link": true
    },
    "kernelspec": {
      "name": "python3",
      "display_name": "Python 3"
    }
  },
  "cells": [
    {
      "cell_type": "markdown",
      "metadata": {
        "id": "view-in-github",
        "colab_type": "text"
      },
      "source": [
        "<a href=\"https://colab.research.google.com/github/ucfilho/Disciplina_Metodos_Numericos_2020/blob/master/Mod_04_class_01_int_Quadratura_Legendre_nov_03_2020.ipynb\" target=\"_parent\"><img src=\"https://colab.research.google.com/assets/colab-badge.svg\" alt=\"Open In Colab\"/></a>"
      ]
    },
    {
      "cell_type": "markdown",
      "metadata": {
        "id": "W5faRcIYWozI"
      },
      "source": [
        ""
      ]
    },
    {
      "cell_type": "code",
      "metadata": {
        "id": "2_-dv0sJWNvJ",
        "outputId": "39e068ad-0f32-4a34-ec56-04a1c6ba788d",
        "colab": {
          "base_uri": "https://localhost:8080/"
        }
      },
      "source": [
        "import numpy as np\n",
        "import math\n",
        "import scipy.integrate.quadrature as quad\n",
        "\n",
        "def func(x):\n",
        "  return x*np.sin(x)\n",
        "\n",
        "def exactIntegral(a,b):\n",
        "  Iab = -b*np.cos(b)+np.sin(b)+a*np.cos(a)-np.sin(a)\n",
        "  return Iab\n",
        "\n",
        "a = 0.0\n",
        "b = 2.0\n",
        "\n",
        "exact = exactIntegral(a,b)\n",
        "estimate = quad(func,a,b)\n",
        "\n",
        "print( \"Exact %1.6f Numerical %1.6f\" %(exact,estimate[0]))\n",
        "print( \"Error %1.3e\" %np.abs(exact-estimate[0]))"
      ],
      "execution_count": 6,
      "outputs": [
        {
          "output_type": "stream",
          "text": [
            "Exact 1.741591 Numerical 1.741591\n",
            "Error 8.512e-12\n"
          ],
          "name": "stdout"
        }
      ]
    }
  ]
}