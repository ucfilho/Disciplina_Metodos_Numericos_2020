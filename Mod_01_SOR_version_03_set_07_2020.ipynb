{
  "nbformat": 4,
  "nbformat_minor": 0,
  "metadata": {
    "colab": {
      "name": "Mod_01_SOR_version_03_set_07_2020.ipynb",
      "provenance": [],
      "authorship_tag": "ABX9TyMx4lsbMTdx0uTo2ex2ojPi",
      "include_colab_link": true
    },
    "kernelspec": {
      "name": "python3",
      "display_name": "Python 3"
    }
  },
  "cells": [
    {
      "cell_type": "markdown",
      "metadata": {
        "id": "view-in-github",
        "colab_type": "text"
      },
      "source": [
        "<a href=\"https://colab.research.google.com/github/ucfilho/Disciplina_Metodos_Numericos_2020/blob/master/Mod_01_SOR_version_03_set_07_2020.ipynb\" target=\"_parent\"><img src=\"https://colab.research.google.com/assets/colab-badge.svg\" alt=\"Open In Colab\"/></a>"
      ]
    },
    {
      "cell_type": "code",
      "metadata": {
        "id": "KxY_T5E5pO46",
        "colab_type": "code",
        "colab": {}
      },
      "source": [
        "import numpy as np"
      ],
      "execution_count": null,
      "outputs": []
    },
    {
      "cell_type": "code",
      "metadata": {
        "id": "rt3rrmXGzpVb",
        "colab_type": "code",
        "colab": {
          "base_uri": "https://localhost:8080/",
          "height": 51
        },
        "outputId": "0b42ba37-8a99-41f0-edd1-2da66af3f13d"
      },
      "source": [
        "!git clone https://github.com/ucfilho/Disciplina_Metodos_Numericos_2020 #clonar do Github\n",
        "%cd Disciplina_Metodos_Numericos_2020"
      ],
      "execution_count": null,
      "outputs": [
        {
          "output_type": "stream",
          "text": [
            "fatal: destination path 'Disciplina_Metodos_Numericos_2020' already exists and is not an empty directory.\n",
            "/content/Disciplina_Metodos_Numericos_2020\n"
          ],
          "name": "stdout"
        }
      ]
    },
    {
      "cell_type": "code",
      "metadata": {
        "id": "CIrpvHRyoq-l",
        "colab_type": "code",
        "colab": {}
      },
      "source": [
        "from SystemSOR import SOR"
      ],
      "execution_count": null,
      "outputs": []
    },
    {
      "cell_type": "code",
      "metadata": {
        "id": "-ZF9kdhOqx2u",
        "colab_type": "code",
        "colab": {
          "base_uri": "https://localhost:8080/",
          "height": 51
        },
        "outputId": "f8955714-f546-4400-aab2-0df1f045bf9e"
      },
      "source": [
        "# create the matrix A\n",
        "A = np. array ([[0.9 ,0.3 ,0.1] ,[0.1 ,0.5 ,0.2] ,[0.0 ,0.2 ,0.7]])\n",
        "\n",
        "# create the right-hand side\n",
        "f = np. array ([30.0 ,25.0 ,10.0])\n",
        "\n",
        "# our initial guess\n",
        "x0 = np.array([20.0,20.0,20.0])\n",
        "w=1.16\n",
        "tol=1e-8\n",
        "ITE=100\n",
        "sol,info,iterations=SOR(A,f,x0,w,tol,ITE)\n",
        "print(info,'em',iterations,'iteracoes')\n",
        "print(sol)"
      ],
      "execution_count": null,
      "outputs": [
        {
          "output_type": "stream",
          "text": [
            "convergiu em 13 iteracoes\n",
            "[17.88461539 45.96153846  1.15384615]\n"
          ],
          "name": "stdout"
        }
      ]
    }
  ]
}