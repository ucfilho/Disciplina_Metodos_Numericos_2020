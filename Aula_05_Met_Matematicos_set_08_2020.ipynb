{
  "nbformat": 4,
  "nbformat_minor": 0,
  "metadata": {
    "colab": {
      "name": "Aula_05_Met_Matematicos_set_08_2020.ipynb",
      "provenance": [],
      "authorship_tag": "ABX9TyPu+ePlj8lj96zuvRgcnXBu",
      "include_colab_link": true
    },
    "kernelspec": {
      "name": "python3",
      "display_name": "Python 3"
    }
  },
  "cells": [
    {
      "cell_type": "markdown",
      "metadata": {
        "id": "view-in-github",
        "colab_type": "text"
      },
      "source": [
        "<a href=\"https://colab.research.google.com/github/ucfilho/Disciplina_Metodos_Numericos_2020/blob/master/Aula_05_Met_Matematicos_set_08_2020.ipynb\" target=\"_parent\"><img src=\"https://colab.research.google.com/assets/colab-badge.svg\" alt=\"Open In Colab\"/></a>"
      ]
    },
    {
      "cell_type": "code",
      "metadata": {
        "id": "cNPf8E-OtQao",
        "colab_type": "code",
        "colab": {}
      },
      "source": [
        "import numpy as np"
      ],
      "execution_count": 1,
      "outputs": []
    },
    {
      "cell_type": "code",
      "metadata": {
        "id": "Bj6dZBfMurS-",
        "colab_type": "code",
        "colab": {}
      },
      "source": [
        "A = np.array([[0.9 ,0.3 ,0.1] ,[0.1 ,0.5 ,0.2] , [0.0 ,0.2 ,0.7]])\n",
        "b = np.array([30.0 ,25.0 ,10.0])"
      ],
      "execution_count": 2,
      "outputs": []
    },
    {
      "cell_type": "code",
      "metadata": {
        "id": "_5-4HQX5u-uY",
        "colab_type": "code",
        "colab": {}
      },
      "source": [
        "#  GAUSS SIDEL CONVERGE\n",
        "# A is symmetric positive-definite --->positive definite if and only if all of its eigenvalues are positive.\n",
        "# A is strictly or irreducibly diagonally dominant"
      ],
      "execution_count": 3,
      "outputs": []
    },
    {
      "cell_type": "code",
      "metadata": {
        "id": "8c8sKcVUvT20",
        "colab_type": "code",
        "colab": {}
      },
      "source": [
        "eigenvalues,eigenvectors =np.linalg.eig(A)"
      ],
      "execution_count": 4,
      "outputs": []
    },
    {
      "cell_type": "code",
      "metadata": {
        "id": "gblkiwUpwEDK",
        "colab_type": "code",
        "colab": {
          "base_uri": "https://localhost:8080/",
          "height": 34
        },
        "outputId": "6ade31a0-c56f-4451-8151-4ef54b736cc2"
      },
      "source": [
        "print(eigenvalues)"
      ],
      "execution_count": 5,
      "outputs": [
        {
          "output_type": "stream",
          "text": [
            "[0.34384472 1.         0.75615528]\n"
          ],
          "name": "stdout"
        }
      ]
    },
    {
      "cell_type": "code",
      "metadata": {
        "id": "7Z4O4WOwxZxF",
        "colab_type": "code",
        "colab": {
          "base_uri": "https://localhost:8080/",
          "height": 68
        },
        "outputId": "8012375d-213d-48d0-ea20-0dd0367d6ede"
      },
      "source": [
        "print(eigenvectors)"
      ],
      "execution_count": 6,
      "outputs": [
        {
          "output_type": "stream",
          "text": [
            "[[-0.35708982 -0.95025527 -0.77669562]\n",
            " [ 0.81444203 -0.25916053  0.17027001]\n",
            " [-0.45735221 -0.17277369  0.60642562]]\n"
          ],
          "name": "stdout"
        }
      ]
    },
    {
      "cell_type": "code",
      "metadata": {
        "id": "fIega3WuwrtS",
        "colab_type": "code",
        "colab": {
          "base_uri": "https://localhost:8080/",
          "height": 34
        },
        "outputId": "e9bc4b35-cbf0-4efa-c63e-f01c2c0de0ff"
      },
      "source": [
        "def Verifica_diagonal_dominante(X):\n",
        "  D = np.diag(np.abs(X)) # Find diagonal coefficients\n",
        "  S = np.sum(np.abs(X), axis=1) - D # Find row sum without diagonal\n",
        "  if np.all(D > S):\n",
        "    STATUS='matrix is diagonally dominant'\n",
        "  else:\n",
        "    STATUS='NOT diagonally dominant'\n",
        "  return STATUS\n",
        "\n",
        "Verifica=Verifica_diagonal_dominante(A)\n",
        "print(Verifica)"
      ],
      "execution_count": 7,
      "outputs": [
        {
          "output_type": "stream",
          "text": [
            "matrix is diagonally dominant\n"
          ],
          "name": "stdout"
        }
      ]
    }
  ]
}