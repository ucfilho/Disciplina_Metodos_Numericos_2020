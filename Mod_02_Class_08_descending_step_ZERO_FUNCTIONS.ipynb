{
  "nbformat": 4,
  "nbformat_minor": 0,
  "metadata": {
    "colab": {
      "name": "Mod_02_Class_08_descending_step_ZERO_FUNCTIONS.ipynb",
      "provenance": [],
      "collapsed_sections": [],
      "include_colab_link": true
    },
    "kernelspec": {
      "name": "python3",
      "display_name": "Python 3"
    }
  },
  "cells": [
    {
      "cell_type": "markdown",
      "metadata": {
        "id": "view-in-github",
        "colab_type": "text"
      },
      "source": [
        "<a href=\"https://colab.research.google.com/github/ucfilho/Disciplina_Metodos_Numericos_2020/blob/master/Mod_02_Class_08_descending_step_ZERO_FUNCTIONS.ipynb\" target=\"_parent\"><img src=\"https://colab.research.google.com/assets/colab-badge.svg\" alt=\"Open In Colab\"/></a>"
      ]
    },
    {
      "cell_type": "code",
      "metadata": {
        "id": "tLgv4gDnCbX1",
        "colab_type": "code",
        "colab": {}
      },
      "source": [
        "import numpy  as np\n",
        "import pandas as pd"
      ],
      "execution_count": null,
      "outputs": []
    },
    {
      "cell_type": "markdown",
      "metadata": {
        "id": "KhBhjpHn8cPk",
        "colab_type": "text"
      },
      "source": [
        "$ F[0]=x_0^2 + x_1^2 - 4x_0$\n",
        "\n",
        "$F[1]=2x_0 + x_1^2 -2$"
      ]
    },
    {
      "cell_type": "code",
      "metadata": {
        "id": "DQTFBXIgBLv9",
        "colab_type": "code",
        "colab": {}
      },
      "source": [
        "# this code is not conclued...\n",
        "\n",
        "# fun= 1.1546319456101628e-14\n",
        "#  ans= [ 0.35424869 -1.13644297]\n",
        "\n",
        "#   F[0]=x[0]**2 + x[1]**2 - 4.0*x[0]\n",
        "#   F[1]=x[1]**2 +2.0*x[0]-2.0"
      ],
      "execution_count": null,
      "outputs": []
    },
    {
      "cell_type": "code",
      "metadata": {
        "id": "7BbhQaNQaX9I",
        "colab_type": "code",
        "colab": {}
      },
      "source": [
        "t=1e-5 # t is the learing rate\n",
        "Ite=100000 # number of iteractions\n",
        "x0=np.array([3,1]) # initial guess of x"
      ],
      "execution_count": null,
      "outputs": []
    },
    {
      "cell_type": "code",
      "metadata": {
        "id": "2Z5g7vPI5B7E",
        "colab_type": "code",
        "colab": {}
      },
      "source": [
        "def Functions(x):\n",
        "  F=np.zeros(2)\n",
        "  F[0]=x[0]**2 + x[1]**2 - 4.0*x[0]\n",
        "  F[1]=x[1]**2 +2.0*x[0]-2.0\n",
        "  return F"
      ],
      "execution_count": null,
      "outputs": []
    },
    {
      "cell_type": "code",
      "metadata": {
        "id": "AZJmGeqra0j2",
        "colab_type": "code",
        "colab": {}
      },
      "source": [
        "def fun_and_grad(x):\n",
        "\n",
        "  dim=len(x)\n",
        "  eps=1e-5\n",
        "\n",
        "  F=Functions(x)\n",
        "\n",
        "  up=x.copy()\n",
        "  low=x.copy()\n",
        "  Z=0\n",
        "\n",
        "  for i in range(dim):\n",
        "    Z=Z+abs(F[i])\n",
        "  \n",
        "  \n",
        "  gradZ=np.zeros(2)\n",
        "  \n",
        "  for i in range(dim):\n",
        "    \n",
        "    up=x.copy()\n",
        "    low=x.copy()\n",
        "    up[i]=x[i]+eps\n",
        "    low[i]=x[i]-eps\n",
        "    Zup=0\n",
        "    Zlow=0\n",
        "    Flow=Functions(low)\n",
        "    Fup=Functions(up)\n",
        "\n",
        "    for k in range(dim):\n",
        "      Zup=Zup+abs(Fup[k])\n",
        "      Zlow=Zlow+abs(Flow[k])\n",
        "  \n",
        "    gradZ[i]=(Zup-Zlow)/(2*eps)\n",
        "\n",
        "  return Z,gradZ\n"
      ],
      "execution_count": null,
      "outputs": []
    },
    {
      "cell_type": "code",
      "metadata": {
        "id": "1Y9KVoAcH64U",
        "colab_type": "code",
        "colab": {}
      },
      "source": [
        ""
      ],
      "execution_count": null,
      "outputs": []
    },
    {
      "cell_type": "markdown",
      "metadata": {
        "id": "IsridphGAxF9",
        "colab_type": "text"
      },
      "source": [
        "\n",
        "\n",
        "$F[0]=x_0^2 - x_1 + x_0*cos(\\pi*x_0)$\n",
        "\n",
        "$F[1]=x_0*x_1 + exp(-x_1) - x_0^{-1}$\n",
        "\n",
        "\n",
        "\n"
      ]
    },
    {
      "cell_type": "code",
      "metadata": {
        "id": "W97Ksh7IcG5K",
        "colab_type": "code",
        "colab": {
          "base_uri": "https://localhost:8080/",
          "height": 901
        },
        "outputId": "bd70e156-29a3-4244-f831-19f8e21f96f8"
      },
      "source": [
        "dim=len(x0)\n",
        "x=np.copy(x0)\n",
        "print(\"x=\",x)\n",
        "lista1=[]\n",
        "\n",
        "for i in range(Ite):\n",
        "  Z,gradZ=fun_and_grad(x)\n",
        "  #print(\"x=\",x)\n",
        "  #print(\"gradZ=\",gradZ)\n",
        "  x=x-gradZ*t\n",
        "\n",
        "  if((i+1)%2000==0):\n",
        "    print(\"i=\",i+1,\"x=\",x,\"gradZ=\",gradZ,\" z=%.5e\"%(Z))\n",
        "  \n"
      ],
      "execution_count": null,
      "outputs": [
        {
          "output_type": "stream",
          "text": [
            "x= [3 1]\n",
            "i= 2000 x= [2.47960523 1.        ] gradZ= [1.04076873 0.        ]  z=6.72920e+00\n",
            "i= 4000 x= [2.45836773 1.        ] gradZ= [1.08324287 0.        ]  z=6.70665e+00\n",
            "i= 6000 x= [2.43626353 1.        ] gradZ= [1.1274504 0.       ]  z=6.68221e+00\n",
            "i= 8000 x= [2.41325724 1.        ] gradZ= [1.17346205 0.        ]  z=6.65575e+00\n",
            "i= 10000 x= [2.38931206 1.        ] gradZ= [1.22135146 0.        ]  z=6.62708e+00\n",
            "i= 12000 x= [2.36438966 1.        ] gradZ= [1.27119525 0.        ]  z=6.59602e+00\n",
            "i= 14000 x= [2.33845018 1.        ] gradZ= [1.32307318 0.        ]  z=6.56237e+00\n",
            "i= 16000 x= [2.31145209 1.        ] gradZ= [1.37706827 0.        ]  z=6.52592e+00\n",
            "i= 18000 x= [2.28335221 1.        ] gradZ= [1.43326692 0.        ]  z=6.48644e+00\n",
            "i= 20000 x= [2.25410555 1.        ] gradZ= [1.49175906 0.        ]  z=6.44366e+00\n",
            "i= 22000 x= [2.22366533 1.        ] gradZ= [1.55263828 0.        ]  z=6.39733e+00\n",
            "i= 24000 x= [2.19198284 1.        ] gradZ= [1.616002 0.      ]  z=6.34713e+00\n",
            "i= 26000 x= [2.15900737 1.        ] gradZ= [1.68195162 0.        ]  z=6.29276e+00\n",
            "i= 28000 x= [2.12468616 1.        ] gradZ= [1.75059267 0.        ]  z=6.23386e+00\n",
            "i= 30000 x= [2.08896429 1.        ] gradZ= [1.82203499 0.        ]  z=6.17005e+00\n",
            "i= 32000 x= [2.05178459 1.        ] gradZ= [1.89639289 0.        ]  z=6.10092e+00\n",
            "i= 34000 x= [2.01308758 1.        ] gradZ= [1.97378536 0.        ]  z=6.02604e+00\n",
            "i= 36000 x= [1.97281133 1.        ] gradZ= [2.05433624 0.        ]  z=5.94493e+00\n",
            "i= 38000 x= [1.9308914 1.       ] gradZ= [2.13817444 0.        ]  z=5.85705e+00\n",
            "i= 40000 x= [1.88726069 1.        ] gradZ= [2.22543411 0.        ]  z=5.76186e+00\n",
            "i= 42000 x= [1.8418494 1.       ] gradZ= [2.31625487 0.        ]  z=5.65874e+00\n",
            "i= 44000 x= [1.79458486 1.        ] gradZ= [2.41078206 0.        ]  z=5.54703e+00\n",
            "i= 46000 x= [1.74539144 1.        ] gradZ= [2.50916694e+00 4.44089210e-11]  z=5.42602e+00\n",
            "i= 48000 x= [1.69419042 1.        ] gradZ= [2.61156694 0.        ]  z=5.29493e+00\n",
            "i= 50000 x= [1.64089986 1.        ] gradZ= [2.71814592 0.        ]  z=5.15292e+00\n",
            "i= 52000 x= [1.5854345 1.       ] gradZ= [2.82907443e+00 4.44089210e-11]  z=4.99908e+00\n",
            "i= 54000 x= [1.52770557 1.        ] gradZ= [2.94452997 0.        ]  z=4.83244e+00\n",
            "i= 56000 x= [1.46762071 1.        ] gradZ= [3.06469729 0.        ]  z=4.65191e+00\n",
            "i= 58000 x= [1.40508376 1.        ] gradZ= [3.18976868 0.        ]  z=4.45634e+00\n",
            "i= 60000 x= [1.33999466 1.        ] gradZ= [3.31994428 0.        ]  z=4.24449e+00\n",
            "i= 62000 x= [1.27224925 1.        ] gradZ= [3.4554324e+00 4.4408921e-11]  z=4.01500e+00\n",
            "i= 64000 x= [1.20173912 1.        ] gradZ= [3.59644983 0.        ]  z=3.76639e+00\n",
            "i= 66000 x= [1.12835145 1.        ] gradZ= [3.74322223 0.        ]  z=3.49707e+00\n",
            "i= 68000 x= [1.0519688 1.       ] gradZ= [3.89598447 0.        ]  z=3.20533e+00\n",
            "i= 70000 x= [0.97246895 1.        ] gradZ= [4.05498099 0.        ]  z=2.88928e+00\n",
            "i= 72000 x= [0.88972469 1.        ] gradZ= [4.22046622e+00 2.22044605e-11]  z=2.54692e+00\n",
            "i= 74000 x= [0.80360359 1.        ] gradZ= [ 4.39270496e+00 -2.22044605e-11]  z=2.17604e+00\n",
            "i= 76000 x= [0.71396787 1.        ] gradZ= [4.57197282 0.        ]  z=1.77427e+00\n",
            "i= 78000 x= [0.62067408 1.        ] gradZ= [4.75855666 0.        ]  z=1.33903e+00\n",
            "i= 80000 x= [0.52357294 1.        ] gradZ= [4.95275507e+00 2.22044605e-11]  z=8.67554e-01\n",
            "i= 82000 x= [0.46082956 1.03843473] gradZ= [ 2.29053385 -2.86456339]  z=5.52746e-01\n",
            "i= 84000 x= [0.40628502 1.0896666 ] gradZ= [ 4.45820147 -0.90844436]  z=2.72874e-01\n",
            "i= 86000 x= [0.35423713 1.13644099] gradZ= [5.29141991e+00 1.11022302e-11]  z=2.18842e-04\n",
            "i= 88000 x= [0.35423732 1.13644099] gradZ= [ 5.29141953e+00 -1.11022302e-11]  z=2.19850e-04\n",
            "i= 90000 x= [0.35423732 1.13644099] gradZ= [5.29141953e+00 1.11022302e-11]  z=2.19842e-04\n",
            "i= 92000 x= [0.35423732 1.13644099] gradZ= [ 5.29141953e+00 -1.11022302e-11]  z=2.19844e-04\n",
            "i= 94000 x= [0.35423732 1.13644099] gradZ= [ 5.29141953e+00 -1.11022302e-11]  z=2.19847e-04\n",
            "i= 96000 x= [0.35423732 1.13644099] gradZ= [ 5.29141953e+00 -1.11022302e-11]  z=2.19851e-04\n",
            "i= 98000 x= [0.35423732 1.13644099] gradZ= [ 5.29141953e+00 -1.11022302e-11]  z=2.19847e-04\n",
            "i= 100000 x= [0.35423732 1.13644099] gradZ= [ 5.29141953e+00 -1.11022302e-11]  z=2.19851e-04\n"
          ],
          "name": "stdout"
        }
      ]
    },
    {
      "cell_type": "code",
      "metadata": {
        "id": "9bOYPFJQ7scs",
        "colab_type": "code",
        "colab": {
          "base_uri": "https://localhost:8080/",
          "height": 52
        },
        "outputId": "54935561-fed4-49e2-bceb-78c31bbf65c9"
      },
      "source": [
        "F=Functions(x)\n",
        "print('x=',x)\n",
        "print('F(x)=',F)"
      ],
      "execution_count": null,
      "outputs": [
        {
          "output_type": "stream",
          "text": [
            "x= [0.35423732 1.13644099]\n",
            "F(x)= [ 3.29124980e-05 -2.72304562e-05]\n"
          ],
          "name": "stdout"
        }
      ]
    }
  ]
}