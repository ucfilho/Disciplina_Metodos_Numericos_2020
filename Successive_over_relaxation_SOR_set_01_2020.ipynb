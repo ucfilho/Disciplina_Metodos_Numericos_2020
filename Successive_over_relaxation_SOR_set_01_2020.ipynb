{
  "nbformat": 4,
  "nbformat_minor": 0,
  "metadata": {
    "colab": {
      "name": "Successive_over_relaxation_SOR_set_01_2020.ipynb",
      "provenance": [],
      "authorship_tag": "ABX9TyNYbMFY7jUZMBWyhsoCKx4q",
      "include_colab_link": true
    },
    "kernelspec": {
      "name": "python3",
      "display_name": "Python 3"
    }
  },
  "cells": [
    {
      "cell_type": "markdown",
      "metadata": {
        "id": "view-in-github",
        "colab_type": "text"
      },
      "source": [
        "<a href=\"https://colab.research.google.com/github/ucfilho/Disciplina_Metodos_Numericos_2020/blob/master/Successive_over_relaxation_SOR_set_01_2020.ipynb\" target=\"_parent\"><img src=\"https://colab.research.google.com/assets/colab-badge.svg\" alt=\"Open In Colab\"/></a>"
      ]
    },
    {
      "cell_type": "code",
      "metadata": {
        "id": "NoVCvQ8kJ13W",
        "colab_type": "code",
        "colab": {
          "base_uri": "https://localhost:8080/",
          "height": 67
        },
        "outputId": "37200c14-b247-4077-b5f5-00b564b79076"
      },
      "source": [
        "import numpy as np \n",
        "import math \n",
        "\n",
        "x = np.array([[3.0, 1.0, 0., 0., 0., 0., 0., 0., 0., 0.],\n",
        "              [1.0, 3.0, 1.0, 0., 0., 0., 0., 0., 0., 0.], \n",
        "              [0., 1.0, 3.0, 1.0, 0., 0., 0., 0., 0., 0.], \n",
        "              [0., 0, 1.0, 3.0, 1.0, 0., 0., 0., 0., 0.], \n",
        "              [0., 0., 0., 1.0, 3.0, 1.0, 0., 0., 0., 0.], \n",
        "              [0., 0., 0., 0., 1.0, 3.0, 1.0, 0., 0., 0.], \n",
        "              [0., 0., 0., 0., 0., 1.0, 3.0, 1.0, 0., 0.], \n",
        "              [0., 0., 0., 0., 0., 0., 1.0, 3.0, 1.0, 0.], \n",
        "              [0., 0., 0., 0., 0., 0., 0., 1.0, 3.0, 1.0], \n",
        "              [0., 0., 0., 0., 0., 0., 0., 0., 1.0, 3.0]])\n",
        "b = np.array([1.0, 1.0, 1.0, 1.0, 1.0, 1.0, 1.0, 1.0, 1.0, 1.0])\n",
        "x0 = np.array([0., 0., 0., 0., 0., 0., 0., 0., 0., 0.])\n",
        "tol =  10 ** (-15)\n",
        "max_iter = 100\n",
        "w = 1.5\n",
        "\n",
        "def SOR(A, b, x0, tol, max_iter, w): \n",
        "    if (w<=1 or w>2): \n",
        "        print('w should be inside [1, 2)'); \n",
        "        step = -1; \n",
        "        x = float('nan') \n",
        "        return \n",
        "    n = b.shape \n",
        "    #x = x0.copy() \n",
        "    x = x0\n",
        "\n",
        "    for step in range (1, max_iter): \n",
        "        for i in range(n[0]): \n",
        "            new_values_sum = np.dot(A[i, 1 : (i - 1)], x[1 : (i - 1)]) \n",
        "            for j in range(i + 1, n[0]): \n",
        "                old_values_sum = np.dot(A[i, j], x0[j]) \n",
        "            x[i] = b[i] - (old_values_sum + new_values_sum) / A[i, i] \n",
        "            x[i] = np.dot(x[i], w) + np.dot(x0[i], (1 - w))  \n",
        "\n",
        "        if (np.linalg.norm(x - x0) < tol): \n",
        "            print(step) \n",
        "            break \n",
        "\n",
        "        #x0[:] = x\n",
        "        x0 = x\n",
        "\n",
        "\n",
        "    print(\"X = {}\".format(x)) \n",
        "    print(\"The number of iterations is: {}\".format(step)) \n",
        "SOR(x, b, x0, tol, max_iter, w)"
      ],
      "execution_count": null,
      "outputs": [
        {
          "output_type": "stream",
          "text": [
            "X = [0.66666667 1.         1.         1.         1.         1.\n",
            " 1.         1.         1.5        1.5       ]\n",
            "The number of iterations is: 99\n"
          ],
          "name": "stdout"
        }
      ]
    },
    {
      "cell_type": "code",
      "metadata": {
        "id": "i7XUX6JALH99",
        "colab_type": "code",
        "colab": {}
      },
      "source": [
        "# https://math.stackexchange.com/questions/2967730/sor-iteration-in-numerical"
      ],
      "execution_count": null,
      "outputs": []
    },
    {
      "cell_type": "code",
      "metadata": {
        "id": "muqwO5EeLmRh",
        "colab_type": "code",
        "colab": {
          "base_uri": "https://localhost:8080/",
          "height": 50
        },
        "outputId": "aa0c9340-0c38-47b4-8885-55d7f4b08305"
      },
      "source": [
        "\n",
        "import numpy.linalg as nl\n",
        "# solve the linear system with np.solve()\n",
        "x = nl.solve(x,b)\n",
        "\n",
        "# print the solution\n",
        "print(x)\n"
      ],
      "execution_count": null,
      "outputs": [
        {
          "output_type": "stream",
          "text": [
            "[0.27638191 0.17085427 0.21105528 0.1959799  0.20100503 0.20100503\n",
            " 0.1959799  0.21105528 0.17085427 0.27638191]\n"
          ],
          "name": "stdout"
        }
      ]
    },
    {
      "cell_type": "code",
      "metadata": {
        "id": "73ACPXtgOMRM",
        "colab_type": "code",
        "colab": {}
      },
      "source": [
        "# successive over-relaxation\n",
        "\n",
        "from matrix import height\n",
        "\n",
        "def sor(m, w=1.25, x0=None, eps=1e-5, max_iteration=100):\n",
        "  \"\"\"\n",
        "  Parameters\n",
        "  ----------\n",
        "  m  : list of list of floats : coefficient matrix\n",
        "  w  : float : weight\n",
        "  x0 : list of floats : initial guess\n",
        "  eps: float : error tolerance\n",
        "  max_iteration: int\n",
        "  \n",
        "  Returns\n",
        "  -------  \n",
        "  list of floats\n",
        "      solution to the system of linear equation\n",
        "  \n",
        "  Raises\n",
        "  ------\n",
        "  ValueError\n",
        "      Solution does not converge\n",
        "  \"\"\"\n",
        "  n  = height(m)\n",
        "  x0 = [0] * n if x0 == None else x0\n",
        "  x1 = x0[:]\n",
        "\n",
        "  for __ in range(max_iteration):\n",
        "    for i in range(n):\n",
        "      s = sum(-m[i][j] * x1[j] for j in range(n) if i != j)\n",
        "      x1[i] = w*(m[i][n]+s)/m[i][i] + (1-w)*x0[i]\n",
        "    if all(abs(x1[i]-x0[i]) < eps for i in range(n)):\n",
        "      return x1 \n",
        "    x0 = x1[:]\n",
        "  raise ValueError('Solution does not converge')\n",
        "\n",
        "\n",
        "if __name__ == '__main__':\n",
        "  m = [[4,3.2,0.5,9.2], [2.2,3,-0.3,0.9], [-3.1,-0.2,4,7]]\n",
        "  print(sor(m))"
      ],
      "execution_count": null,
      "outputs": []
    }
  ]
}