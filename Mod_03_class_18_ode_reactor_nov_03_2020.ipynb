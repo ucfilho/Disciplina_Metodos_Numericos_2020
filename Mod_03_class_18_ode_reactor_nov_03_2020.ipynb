{
  "nbformat": 4,
  "nbformat_minor": 0,
  "metadata": {
    "colab": {
      "name": "Mod_03_class_18_ode_reactor_nov_03_2020.ipynb",
      "provenance": [],
      "collapsed_sections": [],
      "authorship_tag": "ABX9TyNFVzT6JBBmmnXK9FjLZpCx",
      "include_colab_link": true
    },
    "kernelspec": {
      "name": "python3",
      "display_name": "Python 3"
    }
  },
  "cells": [
    {
      "cell_type": "markdown",
      "metadata": {
        "id": "view-in-github",
        "colab_type": "text"
      },
      "source": [
        "<a href=\"https://colab.research.google.com/github/ucfilho/Disciplina_Metodos_Numericos_2020/blob/master/Mod_03_class_18_ode_reactor_nov_03_2020.ipynb\" target=\"_parent\"><img src=\"https://colab.research.google.com/assets/colab-badge.svg\" alt=\"Open In Colab\"/></a>"
      ]
    },
    {
      "cell_type": "code",
      "metadata": {
        "id": "1FqdWwVtCeSu"
      },
      "source": [
        "import numpy as np\n",
        "import matplotlib.pyplot as plt\n",
        "import pandas as pd"
      ],
      "execution_count": 1,
      "outputs": []
    },
    {
      "cell_type": "markdown",
      "metadata": {
        "id": "_toqeKXb4wnH"
      },
      "source": [
        "The elementary gas phase reaction 2A $\\rightleftharpoons$ C is carried out in a packed bed reactor.\n",
        "\n",
        "\n",
        "\n",
        "There is a heat exchanger surrounding the reactor, \n",
        "and there is a pressure drop along the length of the reactor.\n"
      ]
    },
    {
      "cell_type": "markdown",
      "metadata": {
        "id": "2lMg2Z4J5Bm3"
      },
      "source": [
        "$F_{A0}\\frac{dX}{dW}=-R_A$\n",
        "\n",
        "$\\frac{dy}{dW}=\\frac{-\\alpha (1-0.5X)}{2y}\\frac{T}{T_0}$\n",
        "\n",
        "$\\frac{dT}{dW}=\\frac{U_a(T_a-T) +R_A\\Delta H_R}{F_{A0}C_{PA}}$\n",
        "\n",
        "$y=\\frac{P}{P_0}$\n",
        "\n",
        "$C_C=\\left( \\frac{0.5C_{A0}X}{1-0.5X} \\right)y\\frac{T}{T_0}$\n",
        "\n",
        "$C_A =C_{A0}\\left(\\frac{1-X}{1-0.5X}\\right)y\\frac{T_0}{T} $\n",
        "\n"
      ]
    },
    {
      "cell_type": "code",
      "metadata": {
        "id": "jAaQ9UiAJGUS",
        "outputId": "1375f91f-8a52-4f38-e37c-880bbcc1a3b0",
        "colab": {
          "base_uri": "https://localhost:8080/"
        }
      },
      "source": [
        "!git clone https://github.com/ucfilho/Disciplina_Metodos_Numericos_2020 #clonar do Github\n",
        "%cd Disciplina_Metodos_Numericos_2020"
      ],
      "execution_count": 2,
      "outputs": [
        {
          "output_type": "stream",
          "text": [
            "fatal: destination path 'Disciplina_Metodos_Numericos_2020' already exists and is not an empty directory.\n",
            "/content/Disciplina_Metodos_Numericos_2020\n"
          ],
          "name": "stdout"
        }
      ]
    },
    {
      "cell_type": "code",
      "metadata": {
        "id": "GLKWvzg-GcnJ"
      },
      "source": [
        "from edo_rk4 import rk4"
      ],
      "execution_count": 3,
      "outputs": []
    },
    {
      "cell_type": "code",
      "metadata": {
        "id": "6ln1rA4oCXkI"
      },
      "source": [
        "X0 = 0\n",
        "T0 = 450.0\n",
        "y0 =1.0\n",
        "CPA=40.0\n",
        "CPC=80.0\n",
        "deltaHR=-40e3\n",
        "Ea= 41.8e3\n",
        "k450=0.5\n",
        "KC450=25e3\n",
        "CA0=0.271\n",
        "R=8.314\n",
        "FA0=5.0\n",
        "Ua = 0.8\n",
        "Ta=500\n",
        "alpha = 0.015\n",
        "P0=10\n",
        "yA0=1.0\n",
        "\n",
        "def model(Resp, t):\n",
        "\n",
        "  X, y, T  = Resp[0], Resp[1], Resp[2]\n",
        "  CC = (0.5*CA0*X)/(1.0-0.5*X)*y*T0/T\n",
        "  CA = CA0*(1.0-X)/ (1-0.5*X)*y* T0/T\n",
        "  k = k450*np.exp(Ea/R*(1/450-1/T))\n",
        "  KC = KC450*np.exp(deltaHR/R*(1/450-1/T))\n",
        "  RA = -k* (CA**2-CC/KC)\n",
        "  \n",
        "  dX  = -1.0/FA0 * RA\n",
        "  dy =  -alpha*(1-0.5*X)/(2*y)*T/T0\n",
        "  dT =  (Ua*(Ta-T)+RA*deltaHR) / (FA0*CPA) \n",
        "  \n",
        "  return [dX, dy, dT]\n",
        "\n"
      ],
      "execution_count": 4,
      "outputs": []
    },
    {
      "cell_type": "code",
      "metadata": {
        "id": "9tZVssL0GyGV"
      },
      "source": [
        "# initial state\n",
        "Resp0 = [X0, y0, T0]  # [ X,  y,  T]\n",
        "# time coodinate to solve the ODE for: from 0 to 10 seconds\n",
        "W = np.linspace(0, 40, 40)\n",
        "dW=W[1]-W[0]"
      ],
      "execution_count": 5,
      "outputs": []
    },
    {
      "cell_type": "code",
      "metadata": {
        "id": "tvYW-I5Hdmll"
      },
      "source": [
        "# compute various numerical solutions\n",
        "x = rk4( model, Resp0, W )\n"
      ],
      "execution_count": 6,
      "outputs": []
    },
    {
      "cell_type": "code",
      "metadata": {
        "id": "DaXaVbP0efGh",
        "outputId": "ce932159-934e-4c7f-9076-7574377daab7",
        "colab": {
          "base_uri": "https://localhost:8080/",
          "height": 325
        }
      },
      "source": [
        "# plot the angles as a function of time\n",
        "fig, axs = plt.subplots(3)\n",
        "fig.suptitle('Reactor not isothermic')\n",
        "axs[0].plot(W, x[:, 0], 'r')\n",
        "axs[0].set(xlabel='W', ylabel='Conversao')\n",
        "axs[1].plot(W, P0*x[:, 1], 'b')\n",
        "axs[1].set(xlabel='W', ylabel=\"Pressao\")\n",
        "axs[2].plot(W, x[:, 2], 'k')\n",
        "axs[2].set(xlabel='W', ylabel=\"Temperatura\")"
      ],
      "execution_count": 13,
      "outputs": [
        {
          "output_type": "execute_result",
          "data": {
            "text/plain": [
              "[Text(0, 0.5, 'Temperatura'), Text(0.5, 0, 'W')]"
            ]
          },
          "metadata": {
            "tags": []
          },
          "execution_count": 13
        },
        {
          "output_type": "display_data",
          "data": {
            "image/png": "[encoded data removed]",
            "text/plain": [
              "<Figure size 432x288 with 3 Axes>"
            ]
          },
          "metadata": {
            "tags": [],
            "needs_background": "light"
          }
        }
      ]
    },
    {
      "cell_type": "code",
      "metadata": {
        "id": "s-OEx5MxFX0C",
        "outputId": "d91da536-2a10-48cb-af70-bb82c5189512",
        "colab": {
          "base_uri": "https://localhost:8080/"
        }
      },
      "source": [
        "x[:,2]"
      ],
      "execution_count": 8,
      "outputs": [
        {
          "output_type": "execute_result",
          "data": {
            "text/plain": [
              "array([ 450.        ,  458.27049567,  467.80335092,  478.98854921,\n",
              "        492.40609885,  508.96031757,  530.14548733,  558.61429306,\n",
              "        599.49965922,  663.64570101,  773.87995977,  951.38113484,\n",
              "       1106.88809879, 1152.55774728, 1162.37519003, 1162.90128121,\n",
              "       1160.73466668, 1157.78641943, 1154.59628643, 1151.31029578,\n",
              "       1147.9650809 , 1144.56733451, 1141.11537023, 1137.60484894,\n",
              "       1134.03024824, 1130.38518738, 1126.66243378, 1122.85380938,\n",
              "       1118.95005291, 1114.94065169, 1110.81364454, 1106.55539635,\n",
              "       1102.15034624, 1097.5807383 , 1092.82635687, 1087.86431569,\n",
              "       1082.66900486, 1077.21241277, 1071.46528384, 1065.40013216])"
            ]
          },
          "metadata": {
            "tags": []
          },
          "execution_count": 8
        }
      ]
    }
  ]
}