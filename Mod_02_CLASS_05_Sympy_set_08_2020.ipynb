{
  "nbformat": 4,
  "nbformat_minor": 0,
  "metadata": {
    "colab": {
      "name": "Mod_02_CLASS_05_Sympy_set_08_2020.ipynb",
      "provenance": [],
      "authorship_tag": "ABX9TyO79NdaZwliLBcu2RYTb1G2",
      "include_colab_link": true
    },
    "kernelspec": {
      "name": "python3",
      "display_name": "Python 3"
    }
  },
  "cells": [
    {
      "cell_type": "markdown",
      "metadata": {
        "id": "view-in-github",
        "colab_type": "text"
      },
      "source": [
        "<a href=\"https://colab.research.google.com/github/ucfilho/Disciplina_Metodos_Numericos_2020/blob/master/Mod_02_CLASS_05_Sympy_set_08_2020.ipynb\" target=\"_parent\"><img src=\"https://colab.research.google.com/assets/colab-badge.svg\" alt=\"Open In Colab\"/></a>"
      ]
    },
    {
      "cell_type": "code",
      "metadata": {
        "id": "7tVgHuySIedh",
        "colab_type": "code",
        "colab": {}
      },
      "source": [
        "from sympy import *"
      ],
      "execution_count": 1,
      "outputs": []
    },
    {
      "cell_type": "code",
      "metadata": {
        "id": "k-cBXiXdI0zS",
        "colab_type": "code",
        "colab": {}
      },
      "source": [
        "x = symbols('x')\n",
        "y = symbols('y')"
      ],
      "execution_count": 2,
      "outputs": []
    },
    {
      "cell_type": "code",
      "metadata": {
        "id": "egfE9hy7IhDt",
        "colab_type": "code",
        "colab": {
          "base_uri": "https://localhost:8080/",
          "height": 35
        },
        "outputId": "6724babd-5d48-4ada-b35f-e3752ca16e8a"
      },
      "source": [
        "diff(cos(x), x)"
      ],
      "execution_count": 3,
      "outputs": [
        {
          "output_type": "execute_result",
          "data": {
            "text/plain": [
              "-sin(x)"
            ]
          },
          "metadata": {
            "tags": []
          },
          "execution_count": 3
        }
      ]
    },
    {
      "cell_type": "code",
      "metadata": {
        "id": "WhYACWRvJEi5",
        "colab_type": "code",
        "colab": {}
      },
      "source": [
        "diff(x**2-y+x*cos(pi*x),x)"
      ],
      "execution_count": null,
      "outputs": []
    }
  ]
}