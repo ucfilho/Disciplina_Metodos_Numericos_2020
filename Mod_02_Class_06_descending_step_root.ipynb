{
  "nbformat": 4,
  "nbformat_minor": 0,
  "metadata": {
    "colab": {
      "name": "Mod_02_Class_06_descending_step_root.ipynb",
      "provenance": [],
      "include_colab_link": true
    },
    "kernelspec": {
      "name": "python3",
      "display_name": "Python 3"
    }
  },
  "cells": [
    {
      "cell_type": "markdown",
      "metadata": {
        "id": "view-in-github",
        "colab_type": "text"
      },
      "source": [
        "<a href=\"https://colab.research.google.com/github/ucfilho/Disciplina_Metodos_Numericos_2020/blob/master/Mod_02_Class_06_descending_step_root.ipynb\" target=\"_parent\"><img src=\"https://colab.research.google.com/assets/colab-badge.svg\" alt=\"Open In Colab\"/></a>"
      ]
    },
    {
      "cell_type": "code",
      "metadata": {
        "id": "tLgv4gDnCbX1",
        "colab_type": "code",
        "colab": {}
      },
      "source": [
        "import numpy  as np"
      ],
      "execution_count": null,
      "outputs": []
    },
    {
      "cell_type": "code",
      "metadata": {
        "id": "7BbhQaNQaX9I",
        "colab_type": "code",
        "colab": {}
      },
      "source": [
        "t=1e-3 # t is the learing rate\n",
        "Ite=10000 # number of iteractions\n",
        "x0=np.array([2,0]) # initial guess of x\n",
        "omega=0.9"
      ],
      "execution_count": null,
      "outputs": []
    },
    {
      "cell_type": "code",
      "metadata": {
        "id": "AZJmGeqra0j2",
        "colab_type": "code",
        "colab": {}
      },
      "source": [
        "def fun_and_grad(x):\n",
        "  dim=len(x)\n",
        "  gradZ=np.zeros(dim)\n",
        "  gradZ[0]=-2*(1-x[0])-20*(x[1]-x[0]**2)*x[0]\n",
        "  gradZ[1]=10*(x[1]-x[0]**2)\n",
        "  Z=(1-x[0])**2+5*(x[1]-x[0]**2)**2\n",
        "  return Z,gradZ\n"
      ],
      "execution_count": null,
      "outputs": []
    },
    {
      "cell_type": "code",
      "metadata": {
        "id": "W97Ksh7IcG5K",
        "colab_type": "code",
        "colab": {
          "base_uri": "https://localhost:8080/",
          "height": 388
        },
        "outputId": "b4f4c7e0-9a7b-4494-839a-450085278e5e"
      },
      "source": [
        "dim=len(x0)\n",
        "x=np.copy(x0)\n",
        "print(\"x=\",x)\n",
        "for i in range(Ite):\n",
        "  Z,gradZ=fun_and_grad(x)\n",
        "  #print(\"x=\",x)\n",
        "  #print(\"gradZ=\",gradZ)\n",
        "  x=x-gradZ*t\n",
        "  if((i+1)%500==0):\n",
        "    print(\"i=\",i+1,\"x=\",x,\"gradZ=\",gradZ,\" z=%.5e\"%(Z))"
      ],
      "execution_count": null,
      "outputs": [
        {
          "output_type": "stream",
          "text": [
            "x= [2 0]\n",
            "i= 500 x= [0.78657455 0.59902231] gradZ= [-0.11738733 -0.1968946 ]  z=4.75389e-02\n",
            "i= 1000 x= [0.83591516 0.68408172] gradZ= [-0.08292498 -0.14680611]  z=2.80287e-02\n",
            "i= 1500 x= [0.87154779 0.74836358] gradZ= [-0.06115587 -0.11237744]  z=1.71471e-02\n",
            "i= 2000 x= [0.89820442 0.79801864] gradZ= [-0.04638427 -0.08756791]  z=1.07552e-02\n",
            "i= 2500 x= [0.91862269 0.83696048] gradZ= [-0.03587083 -0.06910372]  z=6.86687e-03\n",
            "i= 3000 x= [0.93452544 0.86783607] gradZ= [-0.02813235 -0.05504191]  z=4.44208e-03\n",
            "i= 3500 x= [0.94706336 0.89251597] gradZ= [-0.02229485 -0.04414963]  z=2.90211e-03\n",
            "i= 4000 x= [0.95703948 0.9123657 ] gradZ= [-0.01780945 -0.0356038 ]  z=1.91052e-03\n",
            "i= 4500 x= [0.9650332  0.92840702] gradZ= [-0.01431403 -0.0288327 ]  z=1.26524e-03\n",
            "i= 5000 x= [0.97147357 0.9414192 ] gradZ= [-0.01156006 -0.02342651]  z=8.41857e-04\n",
            "i= 5500 x= [0.97668477 0.95200552] gradZ= [-0.0093715  -0.01908397]  z=5.62247e-04\n",
            "i= 6000 x= [0.98091582 0.96063857] gradZ= [-0.00762033 -0.01557907]  z=3.76632e-04\n",
            "i= 6500 x= [0.98436045 0.96769207] gradZ= [-0.00621146 -0.01273935]  z=2.52904e-04\n",
            "i= 7000 x= [0.98717098 0.97346382] gradZ= [-0.005073   -0.01043147]  z=1.70155e-04\n",
            "i= 7500 x= [0.98946822 0.97819258] gradZ= [-0.00414977 -0.00855114]  z=1.14662e-04\n",
            "i= 8000 x= [0.99134859 0.98207071] gradZ= [-0.00339892 -0.00701607]  z=7.73669e-05\n",
            "i= 8500 x= [0.99288955 0.98525381] gradZ= [-0.00278686 -0.00576078]  z=5.22574e-05\n",
            "i= 9000 x= [0.99415356 0.9878682 ] gradZ= [-0.00228696 -0.00473293]  z=3.53276e-05\n",
            "i= 9500 x= [0.9951912  0.99001664] gradZ= [-0.00187805 -0.00389037]  z=2.38994e-05\n",
            "i= 10000 x= [0.99604355 0.99178297] gradZ= [-0.00154313 -0.00319909]  z=1.61774e-05\n"
          ],
          "name": "stdout"
        }
      ]
    }
  ]
}