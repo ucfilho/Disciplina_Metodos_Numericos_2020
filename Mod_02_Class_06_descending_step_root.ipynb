{
  "nbformat": 4,
  "nbformat_minor": 0,
  "metadata": {
    "colab": {
      "name": "Mod_02_Class_06_descending_step_root.ipynb",
      "provenance": [],
      "include_colab_link": true
    },
    "kernelspec": {
      "name": "python3",
      "display_name": "Python 3"
    }
  },
  "cells": [
    {
      "cell_type": "markdown",
      "metadata": {
        "id": "view-in-github",
        "colab_type": "text"
      },
      "source": [
        "<a href=\"https://colab.research.google.com/github/ucfilho/Disciplina_Metodos_Numericos_2020/blob/master/Mod_02_Class_06_descending_step_root.ipynb\" target=\"_parent\"><img src=\"https://colab.research.google.com/assets/colab-badge.svg\" alt=\"Open In Colab\"/></a>"
      ]
    },
    {
      "cell_type": "code",
      "metadata": {
        "id": "hynUSL7xY0wI",
        "colab_type": "code",
        "colab": {}
      },
      "source": [
        "from scipy.optimize import fsolve\n",
        "import numpy as np"
      ],
      "execution_count": null,
      "outputs": []
    },
    {
      "cell_type": "code",
      "metadata": {
        "id": "1eJdT-RpY_c2",
        "colab_type": "code",
        "colab": {}
      },
      "source": [
        "def func(t):\n",
        "  global gradZ,x0\n",
        "  #ft=-324*(-1-162*t)+10*(-40*t-(2+162*t)**2)*(-40-2*(2+162*t)*162)\n",
        "  #a=162;b=-40;w1=2;w2=0\n",
        "  a=gradZ[0];b=gradZ[1];w1=x0[0];w2=x0[1]\n",
        "  A=2*(1-w1-a*t)*(-a)\n",
        "  B=10*(w2+b*t-(w1+a*t)**2)\n",
        "  C=b-2*(w1+a*t)*a\n",
        "  ft=A+B*C\n",
        "  return ft"
      ],
      "execution_count": null,
      "outputs": []
    },
    {
      "cell_type": "code",
      "metadata": {
        "id": "iByUlDLU3msf",
        "colab_type": "code",
        "colab": {}
      },
      "source": [
        "def funZ(t):\n",
        "  global gradZ,x0\n",
        "  a=gradZ[0];b=gradZ[1];w1=x0[0];w2=x0[1]\n",
        "  x1=w1+a*t;x2=w2+b*t\n",
        "  #x1=2+162*t\n",
        "  #x2=-40*t\n",
        "  Z=(1-x1)**2+5*(x2-x1**2)**2\n",
        "  return Z"
      ],
      "execution_count": null,
      "outputs": []
    },
    {
      "cell_type": "code",
      "metadata": {
        "id": "U_qtFCBDG0NZ",
        "colab_type": "code",
        "colab": {}
      },
      "source": [
        "x0=np.array([0,0])\n",
        "gradZ=np.zeros(2)\n",
        "gradZ[0]=-2*(1-x0[0])-20*(x0[1]-x0[0]**2)*x0[0]\n",
        "gradZ[1]=10*(x0[1]-x0[0]**2)"
      ],
      "execution_count": null,
      "outputs": []
    },
    {
      "cell_type": "code",
      "metadata": {
        "id": "fNCSHT0sZFD7",
        "colab_type": "code",
        "colab": {
          "base_uri": "https://localhost:8080/",
          "height": 34
        },
        "outputId": "da5dd901-9a0d-496b-c52c-63e15dab3ad5"
      },
      "source": [
        "t = fsolve(func, 0.3)\n",
        "f0=func(t)\n",
        "print(\"t=\",t,\"ft_dot=\",f0)"
      ],
      "execution_count": null,
      "outputs": [
        {
          "output_type": "stream",
          "text": [
            "t= [-0.19650137] ft_dot= [8.8817842e-16]\n"
          ],
          "name": "stdout"
        }
      ]
    },
    {
      "cell_type": "code",
      "metadata": {
        "id": "JIFd-9x14SEh",
        "colab_type": "code",
        "colab": {
          "base_uri": "https://localhost:8080/",
          "height": 52
        },
        "outputId": "35570988-3e3f-46d4-9909-16902805d85e"
      },
      "source": [
        "\n",
        "#\n",
        "\n",
        "print(\"gradZ=\",gradZ)\n",
        "Z=funZ(t)\n",
        "#x1=2+162*t;x2=-40*t;x=np.array([x1[0],x2[0]])\n",
        "x=x0+gradZ*t\n",
        "print(\"t=\",t,\"x=\",x,\"Z=\",Z)\n"
      ],
      "execution_count": null,
      "outputs": [
        {
          "output_type": "stream",
          "text": [
            "gradZ= [-2.  0.]\n",
            "t= [-0.19650137] x= [0.39300274 0.        ] Z= [0.48772147]\n"
          ],
          "name": "stdout"
        }
      ]
    },
    {
      "cell_type": "code",
      "metadata": {
        "id": "OIWp02jLHLqN",
        "colab_type": "code",
        "colab": {
          "base_uri": "https://localhost:8080/",
          "height": 69
        },
        "outputId": "50800907-83eb-4683-8632-f99db5f10dad"
      },
      "source": [
        "Iter=1\n",
        "for i in range(Iter):\n",
        "  gradZ[0]=-2*(1-x[0])-20*(x[1]-x[0]**2)*x[0]\n",
        "  gradZ[1]=10*(x[1]-x[0]**2)\n",
        "  print(\"gradZ=\",gradZ)\n",
        "  x=x0+gradZ*t\n",
        "  x0=np.copy(x)\n",
        "  t = fsolve(func, -0.008)\n",
        "  f0=func(t);print(\"t=\",t,\"ft_dot=\",f0)\n",
        "  Z=funZ(t)\n",
        "  print(\"t=\",t,\"x=\",x,\"Z=\",Z)\n",
        "  \n",
        "  \n",
        "\n"
      ],
      "execution_count": null,
      "outputs": [
        {
          "output_type": "stream",
          "text": [
            "gradZ= [-4.44089210e-16 -1.54451153e+00]\n",
            "t= [0.19650137] ft_dot= [3.08022894e-17]\n",
            "t= [0.19650137] x= [8.72641379e-17 3.03498631e-01] Z= [1.]\n"
          ],
          "name": "stdout"
        }
      ]
    }
  ]
}