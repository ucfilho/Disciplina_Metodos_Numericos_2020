{
  "nbformat": 4,
  "nbformat_minor": 0,
  "metadata": {
    "colab": {
      "name": "Mod_05_class_01_differentiation_nov_03_2020",
      "provenance": [],
      "authorship_tag": "ABX9TyMirv9Dsq5CvA0Rwotd9eYB",
      "include_colab_link": true
    },
    "kernelspec": {
      "name": "python3",
      "display_name": "Python 3"
    }
  },
  "cells": [
    {
      "cell_type": "markdown",
      "metadata": {
        "id": "view-in-github",
        "colab_type": "text"
      },
      "source": [
        "<a href=\"https://colab.research.google.com/github/ucfilho/Disciplina_Metodos_Numericos_2020/blob/master/Mod_05_class_01_differentiation_nov_03_2020.ipynb\" target=\"_parent\"><img src=\"https://colab.research.google.com/assets/colab-badge.svg\" alt=\"Open In Colab\"/></a>"
      ]
    },
    {
      "cell_type": "code",
      "metadata": {
        "id": "9-nn1tMTlLxf"
      },
      "source": [
        "import numpy as np"
      ],
      "execution_count": 1,
      "outputs": []
    },
    {
      "cell_type": "code",
      "metadata": {
        "id": "2LIVNJ5YktEx",
        "outputId": "a3ed0204-3e4b-4b1f-82a5-88e3f9fceb34",
        "colab": {
          "base_uri": "https://localhost:8080/"
        }
      },
      "source": [
        "def exactDeriv(x):\n",
        "  return np.sin(x) + x*np.cos(x)\n",
        "\n",
        "# function to derive\n",
        "def fun(x):\n",
        "  return x*np.sin(x)\n",
        "\n",
        "\n",
        "x0 = 1.0\n",
        "exact = exactDeriv(x0)\n",
        "\n",
        "for i in range(1,7):\n",
        "  h = 10**(-i)\n",
        "  fa = (fun(x0+h)-fun(x0))/h\n",
        "  ba = (fun(x0)-fun(x0-h))/h\n",
        "  ca = (fun(x0+h)-fun(x0-h))/2/h\n",
        "\n",
        "print( \" h = %1.4e\" %h)\n",
        "\n",
        "print( \" forward approximation error %1.4e \" %np.abs(exact-fa))\n",
        "print( \" bacward approximation error %1.4e \" %np.abs(exact-ba))\n",
        "print( \" centered approximation error %1.4e \" %np.abs(exact-ca))\n",
        "print(\"\")"
      ],
      "execution_count": 4,
      "outputs": [
        {
          "output_type": "stream",
          "text": [
            " h = 1.0000e-06\n",
            " forward approximation error 1.1946e-07 \n",
            " bacward approximation error 1.1946e-07 \n",
            " centered approximation error 1.9962e-13 \n",
            "\n"
          ],
          "name": "stdout"
        }
      ]
    },
    {
      "cell_type": "code",
      "metadata": {
        "id": "n8ZihtwknGFD"
      },
      "source": [
        ""
      ],
      "execution_count": null,
      "outputs": []
    }
  ]
}