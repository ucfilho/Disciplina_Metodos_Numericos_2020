{
  "nbformat": 4,
  "nbformat_minor": 0,
  "metadata": {
    "colab": {
      "name": "Mod_05_class_01_differentiation_nov_03_2020",
      "provenance": [],
      "authorship_tag": "ABX9TyMVsJZzgVwtLiuocyzfNBkr",
      "include_colab_link": true
    },
    "kernelspec": {
      "name": "python3",
      "display_name": "Python 3"
    }
  },
  "cells": [
    {
      "cell_type": "markdown",
      "metadata": {
        "id": "view-in-github",
        "colab_type": "text"
      },
      "source": [
        "<a href=\"https://colab.research.google.com/github/ucfilho/Disciplina_Metodos_Numericos_2020/blob/master/Mod_05_class_01_differentiation_nov_03_2020.ipynb\" target=\"_parent\"><img src=\"https://colab.research.google.com/assets/colab-badge.svg\" alt=\"Open In Colab\"/></a>"
      ]
    },
    {
      "cell_type": "code",
      "metadata": {
        "id": "9-nn1tMTlLxf"
      },
      "source": [
        "import numpy as np"
      ],
      "execution_count": 1,
      "outputs": []
    },
    {
      "cell_type": "code",
      "metadata": {
        "id": "2LIVNJ5YktEx",
        "outputId": "0dc6e3aa-e403-48b0-a5ef-7a77346493e5",
        "colab": {
          "base_uri": "https://localhost:8080/"
        }
      },
      "source": [
        "def exactDeriv(x):\n",
        "  return np.sin(x) + x*np.cos(x)\n",
        "\n",
        "# function to derive\n",
        "def fun(x):\n",
        "  return x*np.sin(x)\n",
        "\n",
        "\n",
        "x0 = 1.0\n",
        "exact = exactDeriv(x0)\n",
        "\n",
        "for i in range(1,7):\n",
        "  h = 10**(-i)\n",
        "  fa = (fun(x0+h)-fun(x0))/h\n",
        "  ba = (fun(x0)-fun(x0-h))/h\n",
        "  ca = (fun(x0+h)-fun(x0-h))/2/h\n",
        "\n",
        "  print( \" h = %1.4e\" %h)\n",
        "\n",
        "  print( \" forward approximation error %1.4e \" %np.abs(exact-fa))\n",
        "  print( \" bacward approximation error %1.4e \" %np.abs(exact-ba))\n",
        "  print( \" centered approximation error %1.4e \" %np.abs(exact-ca))\n",
        "  print(\"\")"
      ],
      "execution_count": 2,
      "outputs": [
        {
          "output_type": "stream",
          "text": [
            " h = 1.0000e-01\n",
            " forward approximation error 6.7978e-03 \n",
            " bacward approximation error 1.7006e-02 \n",
            " centered approximation error 5.1039e-03 \n",
            "\n",
            " h = 1.0000e-02\n",
            " forward approximation error 1.1445e-03 \n",
            " bacward approximation error 1.2467e-03 \n",
            " centered approximation error 5.1078e-05 \n",
            "\n",
            " h = 1.0000e-03\n",
            " forward approximation error 1.1906e-04 \n",
            " bacward approximation error 1.2008e-04 \n",
            " centered approximation error 5.1079e-07 \n",
            "\n",
            " h = 1.0000e-04\n",
            " forward approximation error 1.1952e-05 \n",
            " bacward approximation error 1.1962e-05 \n",
            " centered approximation error 5.1079e-09 \n",
            "\n",
            " h = 1.0000e-05\n",
            " forward approximation error 1.1956e-06 \n",
            " bacward approximation error 1.1957e-06 \n",
            " centered approximation error 5.5312e-11 \n",
            "\n",
            " h = 1.0000e-06\n",
            " forward approximation error 1.1946e-07 \n",
            " bacward approximation error 1.1946e-07 \n",
            " centered approximation error 1.9962e-13 \n",
            "\n"
          ],
          "name": "stdout"
        }
      ]
    },
    {
      "cell_type": "code",
      "metadata": {
        "id": "n8ZihtwknGFD"
      },
      "source": [
        ""
      ],
      "execution_count": 2,
      "outputs": []
    }
  ]
}