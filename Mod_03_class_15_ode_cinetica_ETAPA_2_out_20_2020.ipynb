{
  "nbformat": 4,
  "nbformat_minor": 0,
  "metadata": {
    "colab": {
      "name": "Mod_03_class_15_ode_cinetica_ETAPA_2_out_20_2020.ipynb",
      "provenance": [],
      "collapsed_sections": [],
      "authorship_tag": "ABX9TyM0rGmOfLaZ4uacGN6fxuth",
      "include_colab_link": true
    },
    "kernelspec": {
      "name": "python3",
      "display_name": "Python 3"
    }
  },
  "cells": [
    {
      "cell_type": "markdown",
      "metadata": {
        "id": "view-in-github",
        "colab_type": "text"
      },
      "source": [
        "<a href=\"https://colab.research.google.com/github/ucfilho/Disciplina_Metodos_Numericos_2020/blob/master/Mod_03_class_15_ode_cinetica_ETAPA_2_out_20_2020.ipynb\" target=\"_parent\"><img src=\"https://colab.research.google.com/assets/colab-badge.svg\" alt=\"Open In Colab\"/></a>"
      ]
    },
    {
      "cell_type": "code",
      "metadata": {
        "id": "1FqdWwVtCeSu"
      },
      "source": [
        "import numpy as np\n",
        "import matplotlib.pyplot as plt"
      ],
      "execution_count": 10,
      "outputs": []
    },
    {
      "cell_type": "code",
      "metadata": {
        "id": "wyFnudJwXWMp"
      },
      "source": [
        ""
      ],
      "execution_count": 10,
      "outputs": []
    },
    {
      "cell_type": "code",
      "metadata": {
        "id": "jAaQ9UiAJGUS",
        "outputId": "484f4658-b92c-4e29-9deb-9214de1354c9",
        "colab": {
          "base_uri": "https://localhost:8080/",
          "height": 72
        }
      },
      "source": [
        "!git clone https://github.com/ucfilho/Disciplina_Metodos_Numericos_2020 #clonar do Github\n",
        "%cd Disciplina_Metodos_Numericos_2020"
      ],
      "execution_count": 11,
      "outputs": [
        {
          "output_type": "stream",
          "text": [
            "fatal: destination path 'Disciplina_Metodos_Numericos_2020' already exists and is not an empty directory.\n",
            "/content/Disciplina_Metodos_Numericos_2020/Disciplina_Metodos_Numericos_2020\n"
          ],
          "name": "stdout"
        }
      ]
    },
    {
      "cell_type": "code",
      "metadata": {
        "id": "6ln1rA4oCXkI"
      },
      "source": [
        "from edo_rotinas import rk4\n",
        "\n",
        "def model( x, t, ):\n",
        "  global k, alpha\n",
        "  dA_dt = -k*x**alpha\n",
        "  return dA_dt\n",
        "      \n",
        "def Indices(t,time_values,t0):\n",
        "  Time = t.tolist();\n",
        "  n = len(time_values)\n",
        "  Id = np.zeros(n,dtype=int)\n",
        "  for i in range(n):\n",
        "    Id[i] =Time.index(time_values[i] )\n",
        "    # Id[i] =int((time_values[i]-t0)/h)\n",
        "  return Id\n",
        "\n",
        "def fobj(x_calc,x_true):\n",
        "  k=0\n",
        "  soma = 0.0\n",
        "  for x in x_calc:\n",
        "    soma = soma + (x - x_true[k])**2\n",
        "    k = k+1\n",
        "  return soma\n"
      ],
      "execution_count": 12,
      "outputs": []
    },
    {
      "cell_type": "code",
      "metadata": {
        "id": "YudhrIw9YxWR"
      },
      "source": [
        "a, b = ( 0.0, 50 )\n",
        "x0 = 10.0\n",
        "t0=0\n",
        "n = 101\n",
        "t = np.linspace( a, b, n )\n",
        "# conditions to be used in optimization\n",
        "time_values = [15.0, 30.0,40.0, 50.0]\n",
        "x_true = [9.25,8.60,8.22,7.87]\n",
        "Id = Indices(t,time_values,t0)\n"
      ],
      "execution_count": 13,
      "outputs": []
    },
    {
      "cell_type": "code",
      "metadata": {
        "id": "qpoJPMCsmbU9",
        "outputId": "29d283d9-3b4e-478a-b10a-913d9502415b",
        "colab": {
          "base_uri": "https://localhost:8080/",
          "height": 35
        }
      },
      "source": [
        "\n",
        "# compute various numerical solutions\n",
        "k = 0.5\n",
        "alpha = 1.0\n",
        "x = rk4( model, x0, t )\n",
        "x_calc= x[Id]\n",
        "MIN = fobj(x_calc,x_true)\n",
        "\n",
        "print(MIN)"
      ],
      "execution_count": 14,
      "outputs": [
        {
          "output_type": "stream",
          "text": [
            "288.92542622197783\n"
          ],
          "name": "stdout"
        }
      ]
    },
    {
      "cell_type": "code",
      "metadata": {
        "id": "A4Yh5qHX4F6U",
        "outputId": "e1f3de05-9990-43fe-c0bd-76514e8de116",
        "colab": {
          "base_uri": "https://localhost:8080/",
          "height": 451
        }
      },
      "source": [
        "k_min = 0; k_max = 0.01\n",
        "alpha_min = 0 ; alpha_max = 3.0\n",
        "N = 4\n",
        "d_k = (k_max-k_min)/N\n",
        "d_alpha = (alpha_max-alpha_min)/N \n",
        "MELHOR = 1E99 \n",
        "k_calc = 1e9; alpha_calc = 1e9\n",
        "for i in range(N+1):\n",
        "  k = k_min+ d_k*i\n",
        "  for j in range(N+1):\n",
        "    alpha = alpha_min+ d_alpha*j\n",
        "    try: \n",
        "      x = rk4( model, x0, t )\n",
        "      x_calc= x[Id]\n",
        "      MIN = fobj(x_calc,x_true)\n",
        "    except:\n",
        "      MIN = 1e99\n",
        "    if MELHOR > MIN:\n",
        "      k_calc = k.copy()\n",
        "      alpha_calc = alpha.copy()\n",
        "      MELHOR = MIN.copy()\n",
        "    \n",
        "    print('k =',k_calc,'alpha =', alpha_calc,'fobj =', MELHOR)\n",
        "    print('k =',k ,'alpha =', alpha,'fobj =', MIN)\n",
        "    print('-----------------------------')\n",
        "\n",
        "#alpha = alpha_min+ d_alpha*(j+1)\n"
      ],
      "execution_count": 19,
      "outputs": [
        {
          "output_type": "stream",
          "text": [
            "k = 0.0 alpha = 0.0 fobj = 10.227799999999998\n",
            "k = 0.0 alpha = 0.75 fobj = 10.227799999999998\n",
            "k = 0.0 alpha = 1.5 fobj = 10.227799999999998\n",
            "k = 0.0 alpha = 2.25 fobj = 10.227799999999998\n",
            "k = 0.0 alpha = 3.0 fobj = 10.227799999999998\n",
            "k = 0.0025 alpha = 0.0 fobj = 9.10570624999944\n",
            "k = 0.0025 alpha = 0.75 fobj = 4.862992901508786\n",
            "k = 0.0025 alpha = 1.5 fobj = 1.874525680244821\n",
            "k = 0.0025 alpha = 2.25 fobj = 63.866458057469856\n",
            "k = 0.0025 alpha = 3.0 fobj = 142.4523931432945\n",
            "k = 0.005 alpha = 0.0 fobj = 8.048925000000406\n",
            "k = 0.005 alpha = 0.75 fobj = 1.5788857295645953\n",
            "k = 0.005 alpha = 1.5 fobj = 19.316541191277047\n",
            "k = 0.005 alpha = 2.25 fobj = 116.0438560297836\n",
            "k = 0.005 alpha = 3.0 fobj = 178.04629396362049\n",
            "k = 0.0075 alpha = 0.0 fobj = 7.057456249999889\n",
            "k = 0.0075 alpha = 0.75 fobj = 0.1268272687782976\n",
            "k = 0.0075 alpha = 1.5 fobj = 42.69120910577309\n",
            "k = 0.0075 alpha = 2.25 fobj = 147.34136319800143\n",
            "k = 0.0075 alpha = 3.0 fobj = 195.78776909174326\n",
            "k = 0.01 alpha = 0.0 fobj = 6.13129999999944\n",
            "k = 0.01 alpha = 0.75 fobj = 0.2793809734119344\n",
            "k = 0.01 alpha = 1.5 fobj = 65.90657506372898\n",
            "k = 0.01 alpha = 2.25 fobj = 168.21977688742797\n",
            "k = 0.01 alpha = 3.0 fobj = 206.9490353703814\n"
          ],
          "name": "stdout"
        }
      ]
    },
    {
      "cell_type": "code",
      "metadata": {
        "id": "y6kWDIyl_xQN",
        "outputId": "8c1b4065-e196-426c-bb6a-0467885dc488",
        "colab": {
          "base_uri": "https://localhost:8080/",
          "height": 35
        }
      },
      "source": [
        "type(1.2)"
      ],
      "execution_count": 18,
      "outputs": [
        {
          "output_type": "execute_result",
          "data": {
            "text/plain": [
              "float"
            ]
          },
          "metadata": {
            "tags": []
          },
          "execution_count": 18
        }
      ]
    },
    {
      "cell_type": "code",
      "metadata": {
        "id": "KG4BUepJ7yKi",
        "outputId": "66c64aa8-ba78-4a78-e9a9-d00104e92cf6",
        "colab": {
          "base_uri": "https://localhost:8080/",
          "height": 35
        }
      },
      "source": [
        "'''\n",
        "try:\n",
        "  print(x)\n",
        "except:\n",
        "  print(\"An exception occurred\")\n",
        "'''"
      ],
      "execution_count": 16,
      "outputs": [
        {
          "output_type": "execute_result",
          "data": {
            "application/vnd.google.colaboratory.intrinsic+json": {
              "type": "string"
            },
            "text/plain": [
              "'\\ntry:\\n  print(x)\\nexcept:\\n  print(\"An exception occurred\")\\n'"
            ]
          },
          "metadata": {
            "tags": []
          },
          "execution_count": 16
        }
      ]
    },
    {
      "cell_type": "code",
      "metadata": {
        "id": "ZjGy0_898v2Q",
        "outputId": "9035dc7e-5090-42e3-906e-5695fbbd82df",
        "colab": {
          "base_uri": "https://localhost:8080/",
          "height": 87
        }
      },
      "source": [
        "'''\n",
        "def ackley(x):\n",
        "    k = x[0]\n",
        "    alpha = x[1]\n",
        "    arg1 = -0.2 * np.sqrt(0.5 * (x[0] ** 2 + x[1] ** 2))\n",
        "    arg2 = 0.5 * (np.cos(2. * np.pi * x[0]) + np.cos(2. * np.pi * x[1]))\n",
        "    return -20. * np.exp(arg1) - np.exp(arg2) + 20. + np.e\n",
        "bounds = [(-5, 5), (-5, 5)]\n",
        "result = differential_evolution(ackley, bounds)\n",
        "result.x, result.fun\n",
        "'''\n"
      ],
      "execution_count": 17,
      "outputs": [
        {
          "output_type": "execute_result",
          "data": {
            "application/vnd.google.colaboratory.intrinsic+json": {
              "type": "string"
            },
            "text/plain": [
              "'\\ndef ackley(x):\\n    k = x[0]\\n    alpha = x[1]\\n    arg1 = -0.2 * np.sqrt(0.5 * (x[0] ** 2 + x[1] ** 2))\\n    arg2 = 0.5 * (np.cos(2. * np.pi * x[0]) + np.cos(2. * np.pi * x[1]))\\n    return -20. * np.exp(arg1) - np.exp(arg2) + 20. + np.e\\nbounds = [(-5, 5), (-5, 5)]\\nresult = differential_evolution(ackley, bounds)\\nresult.x, result.fun\\n'"
            ]
          },
          "metadata": {
            "tags": []
          },
          "execution_count": 17
        }
      ]
    }
  ]
}