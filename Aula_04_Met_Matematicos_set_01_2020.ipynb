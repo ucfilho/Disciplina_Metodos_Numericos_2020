{
  "nbformat": 4,
  "nbformat_minor": 0,
  "metadata": {
    "colab": {
      "name": "Aula_04_Met_Matematicos_set_01_2020.ipynb",
      "provenance": [],
      "authorship_tag": "ABX9TyMQf6nfmfE4W1FQdz0eAomd",
      "include_colab_link": true
    },
    "kernelspec": {
      "name": "python3",
      "display_name": "Python 3"
    }
  },
  "cells": [
    {
      "cell_type": "markdown",
      "metadata": {
        "id": "view-in-github",
        "colab_type": "text"
      },
      "source": [
        "<a href=\"https://colab.research.google.com/github/ucfilho/Disciplina_Metodos_Numericos_2020/blob/master/Aula_04_Met_Matematicos_set_01_2020.ipynb\" target=\"_parent\"><img src=\"https://colab.research.google.com/assets/colab-badge.svg\" alt=\"Open In Colab\"/></a>"
      ]
    },
    {
      "cell_type": "code",
      "metadata": {
        "id": "cNPf8E-OtQao",
        "colab_type": "code",
        "colab": {}
      },
      "source": [
        "import numpy as np"
      ],
      "execution_count": 1,
      "outputs": []
    },
    {
      "cell_type": "code",
      "metadata": {
        "id": "Bj6dZBfMurS-",
        "colab_type": "code",
        "colab": {}
      },
      "source": [
        "A = np.array([[0.9 ,0.3 ,0.1] ,[0.1 ,0.5 ,0.2] , [0.0 ,0.2 ,0.7]])\n",
        "b = np.array([30.0 ,25.0 ,10.0])"
      ],
      "execution_count": 2,
      "outputs": []
    },
    {
      "cell_type": "code",
      "metadata": {
        "id": "_5-4HQX5u-uY",
        "colab_type": "code",
        "colab": {}
      },
      "source": [
        "# Ax=b ---> x=inv(A)*b\n",
        "# x=solve(A) %*% b"
      ],
      "execution_count": null,
      "outputs": []
    },
    {
      "cell_type": "code",
      "metadata": {
        "id": "dTcI0XXgvCKZ",
        "colab_type": "code",
        "colab": {
          "base_uri": "https://localhost:8080/",
          "height": 34
        },
        "outputId": "d0d4236b-0b05-4031-efd3-28bc3350e8a4"
      },
      "source": [
        "# \"Never invert a matrix explicitly unless your life depends on it...\"\n",
        "y = np.linalg.inv(A)\n",
        "sol = np.dot(y,b)\n",
        "print(sol)"
      ],
      "execution_count": 3,
      "outputs": [
        {
          "output_type": "stream",
          "text": [
            "[17.88461538 45.96153846  1.15384615]\n"
          ],
          "name": "stdout"
        }
      ]
    },
    {
      "cell_type": "code",
      "metadata": {
        "id": "UHrBpvLlvLlv",
        "colab_type": "code",
        "colab": {}
      },
      "source": [
        "sol=np.dot(np.linalg.inv(A),b)"
      ],
      "execution_count": null,
      "outputs": []
    },
    {
      "cell_type": "code",
      "metadata": {
        "id": "V8RBMAZUvPC_",
        "colab_type": "code",
        "colab": {
          "base_uri": "https://localhost:8080/",
          "height": 34
        },
        "outputId": "1b494bfe-d16c-4c81-8ab5-d387db4cfb99"
      },
      "source": [
        "w = np.linalg.pinv(A)\n",
        "sol = np.dot(w,b)\n",
        "print(sol)"
      ],
      "execution_count": 4,
      "outputs": [
        {
          "output_type": "stream",
          "text": [
            "[17.88461538 45.96153846  1.15384615]\n"
          ],
          "name": "stdout"
        }
      ]
    },
    {
      "cell_type": "code",
      "metadata": {
        "id": "RR-7QO38v2-t",
        "colab_type": "code",
        "colab": {}
      },
      "source": [
        "# https://mathworld.wolfram.com/Moore-PenroseMatrixInverse.html"
      ],
      "execution_count": 5,
      "outputs": []
    },
    {
      "cell_type": "code",
      "metadata": {
        "id": "Nta8bjOlws8P",
        "colab_type": "code",
        "colab": {
          "base_uri": "https://localhost:8080/",
          "height": 67
        },
        "outputId": "afe5e2ef-d5a1-4f33-d653-ac51e0d86880"
      },
      "source": [
        "print(A)"
      ],
      "execution_count": 6,
      "outputs": [
        {
          "output_type": "stream",
          "text": [
            "[[0.9 0.3 0.1]\n",
            " [0.1 0.5 0.2]\n",
            " [0.  0.2 0.7]]\n"
          ],
          "name": "stdout"
        }
      ]
    },
    {
      "cell_type": "code",
      "metadata": {
        "id": "CesHvmGDwefH",
        "colab_type": "code",
        "colab": {
          "base_uri": "https://localhost:8080/",
          "height": 34
        },
        "outputId": "ec37af2a-9b0c-420b-d894-21202e649055"
      },
      "source": [
        "print(A[:,1])"
      ],
      "execution_count": 7,
      "outputs": [
        {
          "output_type": "stream",
          "text": [
            "[0.3 0.5 0.2]\n"
          ],
          "name": "stdout"
        }
      ]
    },
    {
      "cell_type": "code",
      "metadata": {
        "id": "0GRjk_u1wk8X",
        "colab_type": "code",
        "colab": {
          "base_uri": "https://localhost:8080/",
          "height": 34
        },
        "outputId": "70fa7783-fdb8-483d-9fc7-3751f8cb107c"
      },
      "source": [
        "print(A[1,:])"
      ],
      "execution_count": 8,
      "outputs": [
        {
          "output_type": "stream",
          "text": [
            "[0.1 0.5 0.2]\n"
          ],
          "name": "stdout"
        }
      ]
    },
    {
      "cell_type": "code",
      "metadata": {
        "id": "tCJMIRNXwxst",
        "colab_type": "code",
        "colab": {
          "base_uri": "https://localhost:8080/",
          "height": 34
        },
        "outputId": "af9697de-5571-4bba-a8e8-77459630c9b8"
      },
      "source": [
        "print(A[:,-1])"
      ],
      "execution_count": 9,
      "outputs": [
        {
          "output_type": "stream",
          "text": [
            "[0.1 0.2 0.7]\n"
          ],
          "name": "stdout"
        }
      ]
    },
    {
      "cell_type": "code",
      "metadata": {
        "id": "lOXZWvVkw8eb",
        "colab_type": "code",
        "colab": {
          "base_uri": "https://localhost:8080/",
          "height": 67
        },
        "outputId": "e1535d69-bac5-47bb-f6bb-d1ec0d56a98d"
      },
      "source": [
        "print(A[:,:-1])"
      ],
      "execution_count": 10,
      "outputs": [
        {
          "output_type": "stream",
          "text": [
            "[[0.9 0.3]\n",
            " [0.1 0.5]\n",
            " [0.  0.2]]\n"
          ],
          "name": "stdout"
        }
      ]
    }
  ]
}