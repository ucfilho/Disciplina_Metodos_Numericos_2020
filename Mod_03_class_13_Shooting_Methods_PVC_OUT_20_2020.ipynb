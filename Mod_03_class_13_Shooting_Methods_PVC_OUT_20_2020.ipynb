{
  "nbformat": 4,
  "nbformat_minor": 0,
  "metadata": {
    "colab": {
      "name": "Shooting Methods  PVC OUT 20 2020.ipynb",
      "provenance": [],
      "authorship_tag": "ABX9TyOkMKN5orjJSTJEgU11j4aI",
      "include_colab_link": true
    },
    "kernelspec": {
      "name": "python3",
      "display_name": "Python 3"
    }
  },
  "cells": [
    {
      "cell_type": "markdown",
      "metadata": {
        "id": "view-in-github",
        "colab_type": "text"
      },
      "source": [
        "<a href=\"https://colab.research.google.com/github/ucfilho/Disciplina_Metodos_Numericos_2020/blob/master/Mod_03_class_13_Shooting_Methods_PVC_OUT_20_2020.ipynb\" target=\"_parent\"><img src=\"https://colab.research.google.com/assets/colab-badge.svg\" alt=\"Open In Colab\"/></a>"
      ]
    },
    {
      "cell_type": "code",
      "metadata": {
        "id": "3D1XSVd6YCGz"
      },
      "source": [
        "# http://folk.ntnu.no/leifh/teaching/tkt4140/._main036.html\n",
        "# http://folk.ntnu.no/leifh/teaching/tkt4140/._main028.html#ch:2"
      ],
      "execution_count": null,
      "outputs": []
    },
    {
      "cell_type": "code",
      "metadata": {
        "id": "VmlLyJfIUde7"
      },
      "source": [
        "import numpy as np\n",
        "from matplotlib.pyplot import plot, show, legend,  rcParams,rc, figure, axhline, close, xticks, xlabel, ylabel, savefig, axis, grid\n",
        "\n",
        "# change some default values to make plots more readable \n",
        "LNWDT=3; FNT=11\n",
        "rcParams['lines.linewidth'] = LNWDT; rcParams['font.size'] = FNT\n",
        "font = {'size' : 16}; rc('font', **font)\n",
        "\n",
        "# define rk4 scheme\n",
        "def rk4(func, z0, time):\n",
        "    \"\"\"The Runge-Kutta 4 scheme for solution of systems of ODEs.\n",
        "    z0 is a vector for the initial conditions,\n",
        "    the right hand side of the system is represented by func which returns\n",
        "    a vector with the same size as z0 .\"\"\"\n",
        "\n",
        "    z = np.zeros((np.size(time),np.size(z0)))\n",
        "    z[0,:] = z0\n",
        "    zp = np.zeros_like(z0)\n",
        "\n",
        "    for i, t in enumerate(time[0:-1]):\n",
        "        dt = time[i+1] - time[i]\n",
        "        dt2 = dt/2.0\n",
        "        k1 = np.asarray(func(z[i,:], t))                # predictor step 1\n",
        "        k2 = np.asarray(func(z[i,:] + k1*dt2, t + dt2)) # predictor step 2\n",
        "        k3 = np.asarray(func(z[i,:] + k2*dt2, t + dt2)) # predictor step 3\n",
        "        k4 = np.asarray(func(z[i,:] + k3*dt, t + dt))   # predictor step 4\n",
        "        z[i+1,:] = z[i,:] + dt/6.0*(k1 + 2.0*k2 + 2.0*k3 + k4) # Corrector step\n",
        "\n",
        "    return z\n",
        "\n"
      ],
      "execution_count": 5,
      "outputs": []
    },
    {
      "cell_type": "code",
      "metadata": {
        "id": "Gn1s4AbOUgs4",
        "outputId": "019692ca-e884-4769-fd30-bf7d14f414d3",
        "colab": {
          "base_uri": "https://localhost:8080/",
          "height": 324
        }
      },
      "source": [
        "# src-ch2/tank2.py;ODEschemes.py @ git@lrhgit/tkt4140/src/src-ch2/ODEschemes.py;\n",
        "from numpy import cos, sin\n",
        "import numpy as np\n",
        "from matplotlib.pyplot import *\n",
        "\n",
        "# change some default values to make plots more readable \n",
        "LNWDT=3; FNT=11\n",
        "rcParams['lines.linewidth'] = LNWDT; rcParams['font.size'] = FNT\n",
        "font = {'size' : 16}; rc('font', **font)\n",
        "\n",
        "\n",
        "def tank2(y, x):\n",
        "    \"\"\"Differential equation for the displacement w in a cylindrical tank with linearly varying wall-thickness\n",
        "    Args:\n",
        "        y(array): an array containg w and its derivatives up to third order.\n",
        "        x(array): independent variable\n",
        "    Returns:\n",
        "        dydx(array): RHS of the system of first order differential equations \n",
        "    \"\"\"\n",
        "    z = 1-alpha*x\n",
        "    dydx = np.zeros_like(y)\n",
        "    dydx[0] = y[1]\n",
        "    dydx[1] = y[2]\n",
        "    dydx[2] = y[3]\n",
        "    temp = (6*alpha/z)*y[3]- (6*alpha**2/z**2)*y[2]\n",
        "    dydx[3] = temp - 4*beta4*y[0]/z**2 - 4*beta4*(1-x)/z**3\n",
        "    \n",
        "    return dydx\n",
        "\n",
        "R = 8.5 # radius [m]\n",
        "H = 7.95 # height [m]\n",
        "t0 = 0.35 # thickness [m]\n",
        "t1 = 0.1 # thickness [m]\n",
        "ny = 0.2 # poissons number \n",
        "beta = H*(3*(1-ny**2)/(R*t0)**2)**0.25\n",
        "beta4 = beta**4\n",
        "alpha = (t0-t1)/t0\n",
        "N = 100\n",
        "print(\"beta: \", beta, \"alpha\", alpha)\n",
        "\n",
        "X = 1.0\n",
        "x = np.linspace(0,X,N + 1) \n",
        "\n",
        "solverList = [euler, heun, rk4] #list of solvers\n",
        "solver = solverList[2] # select specific solver\n",
        "\n",
        "# shoot:\n",
        "s = np.array([0, 0, 1])\n",
        "r = np.array([0, 1, 0])\n",
        "phi = np.zeros(3)\n",
        "psi = np.zeros(3)\n",
        "for k in range(3):\n",
        "    y0 = np.array([0,0,s[k],r[k]])\n",
        "    y = solver(tank2,y0,x)\n",
        "    phi[k] = y[-1, 2]\n",
        "    psi[k]=y[-1, 3]\n",
        "\n",
        "# calculate correct r and s    \n",
        "denominator = (psi[2] - psi[0])*(phi[1] - phi[0]) - (phi[2] - phi[0])*(psi[1] - psi[0])\n",
        "rstar = (phi[2]*psi[0] - psi[2]*phi[0])/denominator\n",
        "sstar = (psi[1]*phi[0] - phi[1]*psi[0])/denominator\n",
        "\n",
        "print('rstar', rstar, 'sstar', sstar)\n",
        "\n",
        "# compute the correct solution with the correct initial guesses\n",
        "y0 = np.array([0, 0, sstar, rstar])\n",
        "y = solver(tank2,y0,x)\n",
        "\n",
        "legends=[] # empty list to append legends as plots are generated\n",
        "plot(x,-y[:,3]/beta**2)\n",
        "plot(x,-y[:,2]/beta)\n",
        "legends.append(r'$v(x)/\\beta^2$')\n",
        "legends.append(r'$m(x)/\\beta$')\n",
        "\n",
        "# Add the labels\n",
        "legend(legends,loc='best',frameon=False) # Add the legends\n",
        "ylabel('v, m')\n",
        "xlabel('x')\n",
        "grid(b=True, which='both', color='0.65',linestyle='-')\n",
        "show()"
      ],
      "execution_count": 6,
      "outputs": [
        {
          "output_type": "stream",
          "text": [
            "beta:  6.004429715251834 alpha 0.7142857142857143\n",
            "rstar 640.2003629423818 sstar -62.33380265534111\n"
          ],
          "name": "stdout"
        },
        {
          "output_type": "display_data",
          "data": {
            "image/png": "[encoded data removed]",
            "text/plain": [
              "<Figure size 432x288 with 1 Axes>"
            ]
          },
          "metadata": {
            "tags": [],
            "needs_background": "light"
          }
        }
      ]
    }
  ]
}