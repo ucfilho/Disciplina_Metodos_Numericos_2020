{
  "nbformat": 4,
  "nbformat_minor": 0,
  "metadata": {
    "colab": {
      "name": "Mod_02_Class_07_descending_step_root_versao_02.ipynb",
      "provenance": [],
      "collapsed_sections": [],
      "include_colab_link": true
    },
    "kernelspec": {
      "name": "python3",
      "display_name": "Python 3"
    }
  },
  "cells": [
    {
      "cell_type": "markdown",
      "metadata": {
        "id": "view-in-github",
        "colab_type": "text"
      },
      "source": [
        "<a href=\"https://colab.research.google.com/github/ucfilho/Disciplina_Metodos_Numericos_2020/blob/master/Mod_02_Class_07_descending_step_root_versao_02.ipynb\" target=\"_parent\"><img src=\"https://colab.research.google.com/assets/colab-badge.svg\" alt=\"Open In Colab\"/></a>"
      ]
    },
    {
      "cell_type": "code",
      "metadata": {
        "id": "tLgv4gDnCbX1",
        "colab_type": "code",
        "colab": {}
      },
      "source": [
        "import numpy  as np\n",
        "import pandas as pd"
      ],
      "execution_count": 1,
      "outputs": []
    },
    {
      "cell_type": "code",
      "metadata": {
        "id": "DQTFBXIgBLv9",
        "colab_type": "code",
        "colab": {}
      },
      "source": [
        "# this code is not conclued...\n",
        "\n",
        "# fun= 1.1546319456101628e-14\n",
        "#  ans= [ 0.35424869 -1.13644297]\n",
        "\n",
        "#   F[0]=x[0]**2 + x[1]**2 - 4.0*x[0]\n",
        "#   F[1]=x[1]**2 +2.0*x[0]-2.0"
      ],
      "execution_count": 2,
      "outputs": []
    },
    {
      "cell_type": "code",
      "metadata": {
        "id": "7BbhQaNQaX9I",
        "colab_type": "code",
        "colab": {}
      },
      "source": [
        "t=1e-3 # t is the learing rate\n",
        "Ite=50000 # number of iteractions\n",
        "x0=np.array([3,1]) # initial guess of x"
      ],
      "execution_count": 3,
      "outputs": []
    },
    {
      "cell_type": "code",
      "metadata": {
        "id": "2Z5g7vPI5B7E",
        "colab_type": "code",
        "colab": {}
      },
      "source": [
        "def Functions(x):\n",
        "  F=np.zeros(2)\n",
        "  F[0]=x[0]**2 + x[1]**2 - 4.0*x[0]\n",
        "  F[1]=x[1]**2 +2.0*x[0]-2.0\n",
        "  return F"
      ],
      "execution_count": 4,
      "outputs": []
    },
    {
      "cell_type": "code",
      "metadata": {
        "id": "AZJmGeqra0j2",
        "colab_type": "code",
        "colab": {}
      },
      "source": [
        "def fun_and_grad(x):\n",
        "\n",
        "  dim=len(x)\n",
        "  eps=1e-5\n",
        "\n",
        "  F=Functions(x)\n",
        "\n",
        "  up=x.copy()\n",
        "  low=x.copy()\n",
        "  Z=0\n",
        "\n",
        "  for i in range(dim):\n",
        "    Z=Z+abs(F[i])\n",
        "  \n",
        "  \n",
        "  gradZ=np.zeros(2)\n",
        "  \n",
        "  for i in range(dim):\n",
        "    up=x.copy()\n",
        "    low=x.copy()\n",
        "    up[i]=x[i]+eps\n",
        "    low[i]=x[i]-eps\n",
        "    Zup=0\n",
        "    Zlow=0\n",
        "    Flow=Functions(low)#;print(Flow)\n",
        "    Fup=Functions(up)#;print(Fup)\n",
        "    for k in range(dim):\n",
        "      Zup=Zup+abs(Fup[k])\n",
        "      Zlow=Zlow+abs(Flow[k])\n",
        "  \n",
        "    gradZ[i]=(Zup-Zlow)/(2*eps)\n",
        "\n",
        "  return Z,gradZ\n"
      ],
      "execution_count": 5,
      "outputs": []
    },
    {
      "cell_type": "code",
      "metadata": {
        "id": "1Y9KVoAcH64U",
        "colab_type": "code",
        "colab": {}
      },
      "source": [
        ""
      ],
      "execution_count": 5,
      "outputs": []
    },
    {
      "cell_type": "markdown",
      "metadata": {
        "id": "IsridphGAxF9",
        "colab_type": "text"
      },
      "source": [
        "\n",
        "\n",
        "$F[0]=x_0^2 - x_1 + x_0*cos(\\pi*x_0)$\n",
        "\n",
        "$F[1]=x_0*x_1 + exp(-x_1) - x_0^{-1}$\n",
        "\n",
        "\n",
        "\n"
      ]
    },
    {
      "cell_type": "code",
      "metadata": {
        "id": "W97Ksh7IcG5K",
        "colab_type": "code",
        "colab": {
          "base_uri": "https://localhost:8080/",
          "height": 901
        },
        "outputId": "39119243-339c-4187-c141-cc0a6406bcc7"
      },
      "source": [
        "dim=len(x0)\n",
        "x=np.copy(x0)\n",
        "print(\"x=\",x)\n",
        "lista1=[]\n",
        "\n",
        "for i in range(Ite):\n",
        "  Z,gradZ=fun_and_grad(x)\n",
        "  #print(\"x=\",x)\n",
        "  #print(\"gradZ=\",gradZ)\n",
        "  x=x-gradZ*t\n",
        "\n",
        "  if((i+1)%1000==0):\n",
        "    print(\"i=\",i+1,\"x=\",x,\"gradZ=\",gradZ,\" z=%.5e\"%(Z))\n",
        "  \n"
      ],
      "execution_count": 6,
      "outputs": [
        {
          "output_type": "stream",
          "text": [
            "x= [3 1]\n",
            "i= 1000 x= [-3.76675964  1.        ] gradZ= [-13.56064056   0.        ]  z=3.89727e+01\n",
            "i= 2000 x= [0.35829593 1.13733443] gradZ= [-5.29399613  0.        ]  z=6.59876e-03\n",
            "i= 3000 x= [0.35901886 1.13655749] gradZ= [-5.29254738  0.        ]  z=2.76445e-03\n",
            "i= 4000 x= [0.35925825 1.13623704] gradZ= [-5.29206764e+00  1.11022302e-11]  z=1.49498e-03\n",
            "i= 5000 x= [0.35599694 1.13681798] gradZ= [-5.29860333  0.        ]  z=1.87993e-02\n",
            "i= 6000 x= [0.35826255 1.13674047] gradZ= [-5.29406302e+00 -1.11022302e-11]  z=6.77581e-03\n",
            "i= 7000 x= [0.35813093 1.13695361] gradZ= [-5.2943268  0.       ]  z=7.47407e-03\n",
            "i= 8000 x= [0.35847859 1.13570222] gradZ= [-5.29363009  0.        ]  z=5.62988e-03\n",
            "i= 9000 x= [0.35780791 1.13629258] gradZ= [-5.29497414  0.        ]  z=9.18778e-03\n",
            "i= 10000 x= [0.35882268 1.13626912] gradZ= [-5.29294051  0.        ]  z=3.80482e-03\n",
            "i= 11000 x= [0.35332069 1.13557697] gradZ= [5.28279303 0.        ]  z=2.30245e-02\n",
            "i= 12000 x= [0.35302784 1.13650662] gradZ= [5.28337757 0.        ]  z=2.14804e-02\n",
            "i= 13000 x= [0.3530723  1.13690803] gradZ= [5.28328882 0.        ]  z=2.17148e-02\n",
            "i= 14000 x= [0.35185018 1.13720918] gradZ= [5.28572819e+00 1.11022302e-11]  z=1.52694e-02\n",
            "i= 15000 x= [0.3534962  1.13658201] gradZ= [5.28244271 0.        ]  z=2.39498e-02\n",
            "i= 16000 x= [0.35345379 1.13627718] gradZ= [5.28252736 0.        ]  z=2.37262e-02\n",
            "i= 17000 x= [0.35264863 1.13612684] gradZ= [ 5.28413447e+00 -1.11022302e-11]  z=1.94807e-02\n",
            "i= 18000 x= [0.35193232 1.13571325] gradZ= [5.28556423 0.        ]  z=1.57027e-02\n",
            "i= 19000 x= [0.353335   1.13576841] gradZ= [5.28276447 0.        ]  z=2.30999e-02\n",
            "i= 20000 x= [0.35220574 1.136514  ] gradZ= [5.28501849 0.        ]  z=1.71449e-02\n",
            "i= 21000 x= [0.35092587 1.13740691] gradZ= [ 5.28757311e+00 -1.11022302e-11]  z=1.03926e-02\n",
            "i= 22000 x= [0.35238858 1.13697349] gradZ= [5.28465353 0.        ]  z=1.81093e-02\n",
            "i= 23000 x= [0.35326359 1.1371849 ] gradZ= [5.28290701 0.        ]  z=2.27234e-02\n",
            "i= 24000 x= [0.35287153 1.13502426] gradZ= [5.28368956e+00 1.11022302e-11]  z=2.06561e-02\n",
            "i= 25000 x= [0.35372426 1.13632146] gradZ= [5.28198751 0.        ]  z=2.51520e-02\n",
            "i= 26000 x= [0.3529181  1.13738434] gradZ= [5.28359661 0.        ]  z=2.09017e-02\n",
            "i= 27000 x= [0.35071555 1.13868084] gradZ= [5.28799292 0.        ]  z=9.28272e-03\n",
            "i= 28000 x= [0.35330528 1.13542885] gradZ= [5.28282379 0.        ]  z=2.29432e-02\n",
            "i= 29000 x= [0.35308929 1.13486074] gradZ= [5.28325491 0.        ]  z=2.18044e-02\n",
            "i= 30000 x= [0.35223324 1.13793487] gradZ= [5.2849636 0.       ]  z=1.72899e-02\n",
            "i= 31000 x= [0.35406198 1.13619721] gradZ= [5.2813134 0.       ]  z=2.69322e-02\n",
            "i= 32000 x= [0.35023386 1.13718365] gradZ= [5.28895437 0.        ]  z=6.74041e-03\n",
            "i= 33000 x= [0.35314215 1.13650175] gradZ= [5.28314941 0.        ]  z=2.20831e-02\n",
            "i= 34000 x= [0.35345485 1.13610364] gradZ= [5.28252525 0.        ]  z=2.37317e-02\n",
            "i= 35000 x= [0.35168902 1.1385363 ] gradZ= [5.28604985 0.        ]  z=1.44192e-02\n",
            "i= 36000 x= [0.35267355 1.13491328] gradZ= [5.28408472 0.        ]  z=1.96122e-02\n",
            "i= 37000 x= [0.35285917 1.13521531] gradZ= [5.28371424 0.        ]  z=2.05910e-02\n",
            "i= 38000 x= [0.35246548 1.13607052] gradZ= [5.28450003 0.        ]  z=1.85148e-02\n",
            "i= 39000 x= [0.3537104  1.13630492] gradZ= [5.28201516 0.        ]  z=2.50790e-02\n",
            "i= 40000 x= [0.35312017 1.13688787] gradZ= [5.28319327 0.        ]  z=2.19672e-02\n",
            "i= 41000 x= [0.35339263 1.13713886] gradZ= [5.28264945 0.        ]  z=2.34037e-02\n",
            "i= 42000 x= [0.3529919  1.13710089] gradZ= [ 5.28344930e+00 -1.11022302e-11]  z=2.12909e-02\n",
            "i= 43000 x= [0.35276616 1.13511471] gradZ= [5.28389988 0.        ]  z=2.01005e-02\n",
            "i= 44000 x= [0.35311459 1.1370111 ] gradZ= [5.28320442 0.        ]  z=2.19378e-02\n",
            "i= 45000 x= [0.3537828  1.13583101] gradZ= [5.28187066 0.        ]  z=2.54606e-02\n",
            "i= 46000 x= [0.35253557 1.13457373] gradZ= [5.28436013 0.        ]  z=1.88845e-02\n",
            "i= 47000 x= [0.35132838 1.13855333] gradZ= [5.2867697 0.       ]  z=1.25165e-02\n",
            "i= 48000 x= [0.35104377 1.13743222] gradZ= [5.28733778 0.        ]  z=1.10148e-02\n",
            "i= 49000 x= [0.3525565  1.13760251] gradZ= [5.28431836 0.        ]  z=1.89949e-02\n",
            "i= 50000 x= [0.35322007 1.13664961] gradZ= [5.28299388 0.        ]  z=2.24939e-02\n"
          ],
          "name": "stdout"
        }
      ]
    },
    {
      "cell_type": "code",
      "metadata": {
        "id": "9bOYPFJQ7scs",
        "colab_type": "code",
        "colab": {
          "base_uri": "https://localhost:8080/",
          "height": 52
        },
        "outputId": "c95b79e4-49c1-4deb-84ef-0e1bc242a482"
      },
      "source": [
        "F=Functions(x)\n",
        "print('x=',x)\n",
        "print('F(x)=',F)"
      ],
      "execution_count": 7,
      "outputs": [
        {
          "output_type": "stream",
          "text": [
            "x= [0.35322007 1.13664961]\n",
            "F(x)= [ 0.00385649 -0.00158753]\n"
          ],
          "name": "stdout"
        }
      ]
    }
  ]
}