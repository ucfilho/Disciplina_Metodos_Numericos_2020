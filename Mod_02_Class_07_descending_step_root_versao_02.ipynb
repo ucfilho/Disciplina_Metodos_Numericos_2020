{
  "nbformat": 4,
  "nbformat_minor": 0,
  "metadata": {
    "colab": {
      "name": "Mod_02_Class_07_descending_step_root_versao_02.ipynb",
      "provenance": [],
      "collapsed_sections": [],
      "include_colab_link": true
    },
    "kernelspec": {
      "name": "python3",
      "display_name": "Python 3"
    }
  },
  "cells": [
    {
      "cell_type": "markdown",
      "metadata": {
        "id": "view-in-github",
        "colab_type": "text"
      },
      "source": [
        "<a href=\"https://colab.research.google.com/github/ucfilho/Disciplina_Metodos_Numericos_2020/blob/master/Mod_02_Class_07_descending_step_root_versao_02.ipynb\" target=\"_parent\"><img src=\"https://colab.research.google.com/assets/colab-badge.svg\" alt=\"Open In Colab\"/></a>"
      ]
    },
    {
      "cell_type": "code",
      "metadata": {
        "id": "tLgv4gDnCbX1",
        "colab_type": "code",
        "colab": {}
      },
      "source": [
        "import numpy  as np\n",
        "import pandas as pd"
      ],
      "execution_count": 7,
      "outputs": []
    },
    {
      "cell_type": "code",
      "metadata": {
        "id": "DQTFBXIgBLv9",
        "colab_type": "code",
        "colab": {}
      },
      "source": [
        "# this code is not conclued...\n",
        "\n",
        "# fun= 1.1546319456101628e-14\n",
        "#  ans= [ 0.35424869 -1.13644297]\n",
        "\n",
        "#   F[0]=x[0]**2 + x[1]**2 - 4.0*x[0]\n",
        "#   F[1]=x[1]**2 +2.0*x[0]-2.0"
      ],
      "execution_count": 8,
      "outputs": []
    },
    {
      "cell_type": "code",
      "metadata": {
        "id": "7BbhQaNQaX9I",
        "colab_type": "code",
        "colab": {}
      },
      "source": [
        "t=1e-20 # t is the learing rate\n",
        "Ite=10000 # number of iteractions\n",
        "x0=np.array([1,1]) # initial guess of x\n",
        "omega=0.9"
      ],
      "execution_count": 9,
      "outputs": []
    },
    {
      "cell_type": "code",
      "metadata": {
        "id": "2Z5g7vPI5B7E",
        "colab_type": "code",
        "colab": {}
      },
      "source": [
        "def Functions(x):\n",
        "  F=np.zeros(2)\n",
        "  F[0]=x[0]**2 + x[1]**2 - 4.0*x[0]\n",
        "  F[1]=x[1]**2 +2.0*x[0]-2.0\n",
        "  return F"
      ],
      "execution_count": 10,
      "outputs": []
    },
    {
      "cell_type": "code",
      "metadata": {
        "id": "AZJmGeqra0j2",
        "colab_type": "code",
        "colab": {}
      },
      "source": [
        "def fun_and_grad(x):\n",
        "\n",
        "  dim=len(x)\n",
        "  eps=1e-5\n",
        "\n",
        "  F=Functions(x)\n",
        "\n",
        "  up=x.copy()\n",
        "  low=x.copy()\n",
        "  Z=0\n",
        "  for i in range(dim):\n",
        "    Z=Z+abs(F[i])\n",
        "  \n",
        "  \n",
        "  \n",
        "  Zup=0\n",
        "  Zlow=0    \n",
        "  \n",
        "  for i in range(dim):\n",
        "    up=x.copy()\n",
        "    low=x.copy()\n",
        "    up[i]=x[i]+eps\n",
        "    low[i]=x[i]-eps\n",
        "    Flow=Functions(low)\n",
        "    Fup=Functions(up)\n",
        "    Zup=Zup+abs(Fup[i])\n",
        "    Zlow=Zlow+abs(Flow[i])\n",
        "  \n",
        "  gradZ=(Zup-Zlow)/(2*eps)\n",
        "\n",
        "  return Z,gradZ\n"
      ],
      "execution_count": 11,
      "outputs": []
    },
    {
      "cell_type": "code",
      "metadata": {
        "id": "1Y9KVoAcH64U",
        "colab_type": "code",
        "colab": {}
      },
      "source": [
        ""
      ],
      "execution_count": 11,
      "outputs": []
    },
    {
      "cell_type": "markdown",
      "metadata": {
        "id": "IsridphGAxF9",
        "colab_type": "text"
      },
      "source": [
        "\n",
        "\n",
        "$F[0]=x_0^2 - x_1 + x_0*cos(\\pi*x_0)$\n",
        "\n",
        "$F[1]=x_0*x_1 + exp(-x_1) - x_0^{-1}$\n",
        "\n",
        "\n",
        "\n"
      ]
    },
    {
      "cell_type": "code",
      "metadata": {
        "id": "W97Ksh7IcG5K",
        "colab_type": "code",
        "colab": {
          "base_uri": "https://localhost:8080/",
          "height": 208
        },
        "outputId": "cbc46762-6962-4111-a2f0-b3f17bc42394"
      },
      "source": [
        "dim=len(x0)\n",
        "x=np.copy(x0)\n",
        "print(\"x=\",x)\n",
        "lista1=[]\n",
        "\n",
        "for i in range(Ite):\n",
        "  Z,gradZ=fun_and_grad(x)\n",
        "  #print(\"x=\",x)\n",
        "  #print(\"gradZ=\",gradZ)\n",
        "  x=x-gradZ*t\n",
        "\n",
        "  if((i+1)%1000==0):\n",
        "    print(\"i=\",i+1,\"x=\",x,\"gradZ=\",gradZ,\" z=%.5e\"%(Z))\n",
        "  \n"
      ],
      "execution_count": 12,
      "outputs": [
        {
          "output_type": "stream",
          "text": [
            "x= [1 1]\n",
            "i= 1000 x= [1. 1.] gradZ= 3.9999999999817955  z=3.00000e+00\n",
            "i= 2000 x= [1. 1.] gradZ= 3.9999999999817955  z=3.00000e+00\n",
            "i= 3000 x= [1. 1.] gradZ= 3.9999999999817955  z=3.00000e+00\n",
            "i= 4000 x= [1. 1.] gradZ= 3.9999999999817955  z=3.00000e+00\n",
            "i= 5000 x= [1. 1.] gradZ= 3.9999999999817955  z=3.00000e+00\n",
            "i= 6000 x= [1. 1.] gradZ= 3.9999999999817955  z=3.00000e+00\n",
            "i= 7000 x= [1. 1.] gradZ= 3.9999999999817955  z=3.00000e+00\n",
            "i= 8000 x= [1. 1.] gradZ= 3.9999999999817955  z=3.00000e+00\n",
            "i= 9000 x= [1. 1.] gradZ= 3.9999999999817955  z=3.00000e+00\n",
            "i= 10000 x= [1. 1.] gradZ= 3.9999999999817955  z=3.00000e+00\n"
          ],
          "name": "stdout"
        }
      ]
    }
  ]
}