{
  "nbformat": 4,
  "nbformat_minor": 0,
  "metadata": {
    "colab": {
      "name": "Mod_02_Class_07_descending_step_root_versao_02.ipynb",
      "provenance": [],
      "collapsed_sections": [],
      "include_colab_link": true
    },
    "kernelspec": {
      "name": "python3",
      "display_name": "Python 3"
    }
  },
  "cells": [
    {
      "cell_type": "markdown",
      "metadata": {
        "id": "view-in-github",
        "colab_type": "text"
      },
      "source": [
        "<a href=\"https://colab.research.google.com/github/ucfilho/Disciplina_Metodos_Numericos_2020/blob/master/Mod_02_Class_07_descending_step_root_versao_02.ipynb\" target=\"_parent\"><img src=\"https://colab.research.google.com/assets/colab-badge.svg\" alt=\"Open In Colab\"/></a>"
      ]
    },
    {
      "cell_type": "code",
      "metadata": {
        "id": "tLgv4gDnCbX1",
        "colab_type": "code",
        "colab": {}
      },
      "source": [
        "import numpy  as np\n",
        "import pandas as pd"
      ],
      "execution_count": 1,
      "outputs": []
    },
    {
      "cell_type": "markdown",
      "metadata": {
        "id": "KhBhjpHn8cPk",
        "colab_type": "text"
      },
      "source": [
        "$ F[0]=x_0^2 + x_1^2 - 4x_0$\n",
        "\n",
        "$F[1]=2x_0 + x_1^2 -2$"
      ]
    },
    {
      "cell_type": "code",
      "metadata": {
        "id": "DQTFBXIgBLv9",
        "colab_type": "code",
        "colab": {}
      },
      "source": [
        "# this code is not conclued...\n",
        "\n",
        "# fun= 1.1546319456101628e-14\n",
        "#  ans= [ 0.35424869 -1.13644297]\n",
        "\n",
        "#   F[0]=x[0]**2 + x[1]**2 - 4.0*x[0]\n",
        "#   F[1]=x[1]**2 +2.0*x[0]-2.0"
      ],
      "execution_count": 2,
      "outputs": []
    },
    {
      "cell_type": "code",
      "metadata": {
        "id": "7BbhQaNQaX9I",
        "colab_type": "code",
        "colab": {}
      },
      "source": [
        "t=1e-3 # t is the learing rate\n",
        "Ite=100000 # number of iteractions\n",
        "x0=np.array([3,1]) # initial guess of x"
      ],
      "execution_count": 3,
      "outputs": []
    },
    {
      "cell_type": "code",
      "metadata": {
        "id": "2Z5g7vPI5B7E",
        "colab_type": "code",
        "colab": {}
      },
      "source": [
        "def Functions(x):\n",
        "  F=np.zeros(2)\n",
        "  F[0]=x[0]**2 + x[1]**2 - 4.0*x[0]\n",
        "  F[1]=x[1]**2 +2.0*x[0]-2.0\n",
        "  return F"
      ],
      "execution_count": 4,
      "outputs": []
    },
    {
      "cell_type": "code",
      "metadata": {
        "id": "AZJmGeqra0j2",
        "colab_type": "code",
        "colab": {}
      },
      "source": [
        "def fun_and_grad(x):\n",
        "\n",
        "  dim=len(x)\n",
        "  eps=1e-5\n",
        "\n",
        "  F=Functions(x)\n",
        "\n",
        "  up=x.copy()\n",
        "  low=x.copy()\n",
        "  Z=0\n",
        "\n",
        "  for i in range(dim):\n",
        "    Z=Z+abs(F[i])\n",
        "  \n",
        "  \n",
        "  gradZ=np.zeros(2)\n",
        "  \n",
        "  for i in range(dim):\n",
        "    \n",
        "    up=x.copy()\n",
        "    low=x.copy()\n",
        "    up[i]=x[i]+eps\n",
        "    low[i]=x[i]-eps\n",
        "    Zup=0\n",
        "    Zlow=0\n",
        "    Flow=Functions(low)\n",
        "    Fup=Functions(up)\n",
        "\n",
        "    for k in range(dim):\n",
        "      Zup=Zup+abs(Fup[k])\n",
        "      Zlow=Zlow+abs(Flow[k])\n",
        "  \n",
        "    gradZ[i]=(Zup-Zlow)/(2*eps)\n",
        "\n",
        "  return Z,gradZ\n"
      ],
      "execution_count": 5,
      "outputs": []
    },
    {
      "cell_type": "code",
      "metadata": {
        "id": "1Y9KVoAcH64U",
        "colab_type": "code",
        "colab": {}
      },
      "source": [
        ""
      ],
      "execution_count": 5,
      "outputs": []
    },
    {
      "cell_type": "markdown",
      "metadata": {
        "id": "IsridphGAxF9",
        "colab_type": "text"
      },
      "source": [
        "\n",
        "\n",
        "$F[0]=x_0^2 - x_1 + x_0*cos(\\pi*x_0)$\n",
        "\n",
        "$F[1]=x_0*x_1 + exp(-x_1) - x_0^{-1}$\n",
        "\n",
        "\n",
        "\n"
      ]
    },
    {
      "cell_type": "code",
      "metadata": {
        "id": "W97Ksh7IcG5K",
        "colab_type": "code",
        "colab": {
          "base_uri": "https://localhost:8080/",
          "height": 901
        },
        "outputId": "e4be3f74-7cc7-4ffc-dcfc-10dd8059a54d"
      },
      "source": [
        "dim=len(x0)\n",
        "x=np.copy(x0)\n",
        "print(\"x=\",x)\n",
        "lista1=[]\n",
        "\n",
        "for i in range(Ite):\n",
        "  Z,gradZ=fun_and_grad(x)\n",
        "  #print(\"x=\",x)\n",
        "  #print(\"gradZ=\",gradZ)\n",
        "  x=x-gradZ*t\n",
        "\n",
        "  if((i+1)%2000==0):\n",
        "    print(\"i=\",i+1,\"x=\",x,\"gradZ=\",gradZ,\" z=%.5e\"%(Z))\n",
        "  \n"
      ],
      "execution_count": 6,
      "outputs": [
        {
          "output_type": "stream",
          "text": [
            "x= [3 1]\n",
            "i= 2000 x= [0.35829593 1.13733443] gradZ= [-5.29399613  0.        ]  z=6.59876e-03\n",
            "i= 4000 x= [0.35925825 1.13623704] gradZ= [-5.29206764e+00  1.11022302e-11]  z=1.49498e-03\n",
            "i= 6000 x= [0.35826255 1.13674047] gradZ= [-5.29406302e+00 -1.11022302e-11]  z=6.77581e-03\n",
            "i= 8000 x= [0.35847859 1.13570222] gradZ= [-5.29363009  0.        ]  z=5.62988e-03\n",
            "i= 10000 x= [0.35882268 1.13626912] gradZ= [-5.29294051  0.        ]  z=3.80482e-03\n",
            "i= 12000 x= [0.35302784 1.13650662] gradZ= [5.28337757 0.        ]  z=2.14804e-02\n",
            "i= 14000 x= [0.35185018 1.13720918] gradZ= [5.28572819e+00 1.11022302e-11]  z=1.52694e-02\n",
            "i= 16000 x= [0.35345379 1.13627718] gradZ= [5.28252736 0.        ]  z=2.37262e-02\n",
            "i= 18000 x= [0.35193232 1.13571325] gradZ= [5.28556423 0.        ]  z=1.57027e-02\n",
            "i= 20000 x= [0.35220574 1.136514  ] gradZ= [5.28501849 0.        ]  z=1.71449e-02\n",
            "i= 22000 x= [0.35238858 1.13697349] gradZ= [5.28465353 0.        ]  z=1.81093e-02\n",
            "i= 24000 x= [0.35287153 1.13502426] gradZ= [5.28368956e+00 1.11022302e-11]  z=2.06561e-02\n",
            "i= 26000 x= [0.3529181  1.13738434] gradZ= [5.28359661 0.        ]  z=2.09017e-02\n",
            "i= 28000 x= [0.35330528 1.13542885] gradZ= [5.28282379 0.        ]  z=2.29432e-02\n",
            "i= 30000 x= [0.35223324 1.13793487] gradZ= [5.2849636 0.       ]  z=1.72899e-02\n",
            "i= 32000 x= [0.35023386 1.13718365] gradZ= [5.28895437 0.        ]  z=6.74041e-03\n",
            "i= 34000 x= [0.35345485 1.13610364] gradZ= [5.28252525 0.        ]  z=2.37317e-02\n",
            "i= 36000 x= [0.35267355 1.13491328] gradZ= [5.28408472 0.        ]  z=1.96122e-02\n",
            "i= 38000 x= [0.35246548 1.13607052] gradZ= [5.28450003 0.        ]  z=1.85148e-02\n",
            "i= 40000 x= [0.35312017 1.13688787] gradZ= [5.28319327 0.        ]  z=2.19672e-02\n",
            "i= 42000 x= [0.3529919  1.13710089] gradZ= [ 5.28344930e+00 -1.11022302e-11]  z=2.12909e-02\n",
            "i= 44000 x= [0.35311459 1.1370111 ] gradZ= [5.28320442 0.        ]  z=2.19378e-02\n",
            "i= 46000 x= [0.35253557 1.13457373] gradZ= [5.28436013 0.        ]  z=1.88845e-02\n",
            "i= 48000 x= [0.35104377 1.13743222] gradZ= [5.28733778 0.        ]  z=1.10148e-02\n",
            "i= 50000 x= [0.35322007 1.13664961] gradZ= [5.28299388 0.        ]  z=2.24939e-02\n",
            "i= 52000 x= [0.35388291 1.13654228] gradZ= [5.28167084 0.        ]  z=2.59883e-02\n",
            "i= 54000 x= [0.35335924 1.13520272] gradZ= [5.28271609 0.        ]  z=2.32277e-02\n",
            "i= 56000 x= [0.35116352 1.13758601] gradZ= [ 5.28709876e+00 -1.11022302e-11]  z=1.16467e-02\n",
            "i= 58000 x= [0.35343575 1.13543535] gradZ= [5.28256337 0.        ]  z=2.36311e-02\n",
            "i= 60000 x= [0.35285306 1.13689012] gradZ= [5.28372644 0.        ]  z=2.05587e-02\n",
            "i= 62000 x= [0.35344712 1.13629447] gradZ= [5.28254068 0.        ]  z=2.36910e-02\n",
            "i= 64000 x= [0.35246952 1.13515192] gradZ= [5.28449198 0.        ]  z=1.85361e-02\n",
            "i= 66000 x= [0.35269715 1.13647636] gradZ= [5.28403762 0.        ]  z=1.97366e-02\n",
            "i= 68000 x= [0.35717517 1.13649963] gradZ= [-5.29624214  0.        ]  z=1.25452e-02\n",
            "i= 70000 x= [0.35814834 1.13629106] gradZ= [-5.29429189  0.        ]  z=7.38167e-03\n",
            "i= 72000 x= [0.35911703 1.13608226] gradZ= [-5.29235065  0.        ]  z=2.24384e-03\n",
            "i= 74000 x= [0.3570881 1.1376964] gradZ= [-5.29641664  0.        ]  z=1.30073e-02\n",
            "i= 76000 x= [0.35821895 1.13470633] gradZ= [-5.2941504  0.       ]  z=7.00711e-03\n",
            "i= 78000 x= [0.35902498 1.13650301] gradZ= [-5.29253512  0.        ]  z=2.73200e-03\n",
            "i= 80000 x= [0.35736025 1.13594825] gradZ= [-5.29587124  0.        ]  z=1.15630e-02\n",
            "i= 82000 x= [0.3589568  1.13617453] gradZ= [-5.29267175  0.        ]  z=3.09357e-03\n",
            "i= 84000 x= [0.3591033 1.1359333] gradZ= [-5.29237815  0.        ]  z=2.31662e-03\n",
            "i= 86000 x= [0.35726037 1.13737534] gradZ= [-5.29607141  0.        ]  z=1.20931e-02\n",
            "i= 88000 x= [0.35793434 1.13651828] gradZ= [-5.29472076  0.        ]  z=8.51698e-03\n",
            "i= 90000 x= [0.35207944 1.13635397] gradZ= [ 5.28527059e+00 -1.11022302e-11]  z=1.64787e-02\n",
            "i= 92000 x= [0.3516193  1.13702694] gradZ= [5.28618902 0.        ]  z=1.40514e-02\n",
            "i= 94000 x= [0.35325394 1.13715611] gradZ= [5.28292627 0.        ]  z=2.26725e-02\n",
            "i= 96000 x= [0.35657166 1.13781006] gradZ= [-5.29745158  0.        ]  z=1.57483e-02\n",
            "i= 98000 x= [0.35879424 1.13566946] gradZ= [-5.29299752  0.        ]  z=3.95569e-03\n",
            "i= 100000 x= [0.35233042 1.13540218] gradZ= [5.28476962 0.        ]  z=1.78025e-02\n"
          ],
          "name": "stdout"
        }
      ]
    },
    {
      "cell_type": "code",
      "metadata": {
        "id": "9bOYPFJQ7scs",
        "colab_type": "code",
        "colab": {
          "base_uri": "https://localhost:8080/",
          "height": 52
        },
        "outputId": "4d1c4280-f87c-42c7-f7a5-8331147135ea"
      },
      "source": [
        "F=Functions(x)\n",
        "print('x=',x)\n",
        "print('F(x)=',F)"
      ],
      "execution_count": 7,
      "outputs": [
        {
          "output_type": "stream",
          "text": [
            "x= [0.35233042 1.13540218]\n",
            "F(x)= [ 0.00395316 -0.00620104]\n"
          ],
          "name": "stdout"
        }
      ]
    }
  ]
}