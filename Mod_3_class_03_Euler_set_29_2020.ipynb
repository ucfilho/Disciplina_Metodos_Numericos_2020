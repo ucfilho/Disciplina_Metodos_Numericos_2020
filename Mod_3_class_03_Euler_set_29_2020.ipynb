{
  "nbformat": 4,
  "nbformat_minor": 0,
  "metadata": {
    "colab": {
      "name": "Mod_3_class_03_Euler_set_29_2020.ipynb",
      "provenance": [],
      "authorship_tag": "ABX9TyM1tSUkyIj6z4iWqkQ6kfFx",
      "include_colab_link": true
    },
    "kernelspec": {
      "name": "python3",
      "display_name": "Python 3"
    }
  },
  "cells": [
    {
      "cell_type": "markdown",
      "metadata": {
        "id": "view-in-github",
        "colab_type": "text"
      },
      "source": [
        "<a href=\"https://colab.research.google.com/github/ucfilho/Disciplina_Metodos_Numericos_2020/blob/master/Mod_3_class_03_Euler_set_29_2020.ipynb\" target=\"_parent\"><img src=\"https://colab.research.google.com/assets/colab-badge.svg\" alt=\"Open In Colab\"/></a>"
      ]
    },
    {
      "cell_type": "code",
      "metadata": {
        "id": "ZaS3YTX8K_hT"
      },
      "source": [
        "import numpy as np\n",
        "import matplotlib.pyplot as plt\n"
      ],
      "execution_count": 1,
      "outputs": []
    },
    {
      "cell_type": "code",
      "metadata": {
        "id": "0wDpoKtRMZUI"
      },
      "source": [
        "# http://math.oit.edu/~paulr/Upper/Math_45x/Math_452/multistep.pdf"
      ],
      "execution_count": null,
      "outputs": []
    },
    {
      "cell_type": "code",
      "metadata": {
        "id": "pT1p5uLPJvkK"
      },
      "source": [
        "def euler( f, x0, t ):\n",
        "    \"\"\"Euler's method to solve x' = f(x,t) with x(t[0]) = x0.\n",
        "\n",
        "    USAGE:\n",
        "        x = euler(f, x0, t)\n",
        "\n",
        "    INPUT:\n",
        "        f     - function of x and t equal to dx/dt.  x may be multivalued,\n",
        "                in which case it should a list or a NumPy array.  In this\n",
        "                case f must return a NumPy array with the same dimension\n",
        "                as x.\n",
        "        x0    - the initial condition(s).  Specifies the value of x when\n",
        "                t = t[0].  Can be either a scalar or a list or NumPy array\n",
        "                if a system of equations is being solved.\n",
        "        t     - list or NumPy array of t values to compute solution at.\n",
        "                t[0] is the the initial condition point, and the difference\n",
        "                h=t[i+1]-t[i] determines the step size h.\n",
        "\n",
        "    OUTPUT:\n",
        "        x     - NumPy array containing solution values corresponding to each\n",
        "                entry in t array.  If a system is being solved, x will be\n",
        "                an array of arrays.\n",
        "    \"\"\"\n",
        "\n",
        "    n = len( t )\n",
        "    x = np.array( [x0] * n )\n",
        "    for i in range( n - 1 ):\n",
        "        x[i+1] = x[i] + ( t[i+1] - t[i] ) * f( x[i], t[i] )\n",
        "\n",
        "    return x"
      ],
      "execution_count": 2,
      "outputs": []
    },
    {
      "cell_type": "code",
      "metadata": {
        "id": "1pwVl1moKwF5"
      },
      "source": [
        "def f( x, t ):\n",
        "  return x * np.sin( t )\n",
        "\n",
        "a, b = ( 0.0, 10.0 )\n",
        "x0 = -1.0\n",
        "\n",
        "n = 100\n",
        "t = np.linspace( a, b, n )\n",
        "h = t[1] - t[0];\n",
        "tol = 1e-6\n",
        "\n",
        "# compute various numerical solutions\n",
        "x_euler = euler( f, x0, t )"
      ],
      "execution_count": 3,
      "outputs": []
    },
    {
      "cell_type": "code",
      "metadata": {
        "id": "SNeWlMCgLkCR"
      },
      "source": [
        "# compute true solution values in equal spaced and unequally spaced cases\n",
        "x = -np.exp( 1.0 - np.cos( t ) )"
      ],
      "execution_count": 4,
      "outputs": []
    },
    {
      "cell_type": "code",
      "metadata": {
        "id": "LDC9BAxuLJem",
        "outputId": "481bc77c-1405-4c5f-dd7f-d7c5e45b0009",
        "colab": {
          "base_uri": "https://localhost:8080/",
          "height": 282
        }
      },
      "source": [
        "plt.plot(t,x_euler)\n",
        "plt.plot(t,x)"
      ],
      "execution_count": 5,
      "outputs": [
        {
          "output_type": "execute_result",
          "data": {
            "text/plain": [
              "[<matplotlib.lines.Line2D at 0x7f2d0d440c18>]"
            ]
          },
          "metadata": {
            "tags": []
          },
          "execution_count": 5
        },
        {
          "output_type": "display_data",
          "data": {
            "image/png": "[encoded data removed]",
            "text/plain": [
              "<Figure size 432x288 with 1 Axes>"
            ]
          },
          "metadata": {
            "tags": [],
            "needs_background": "light"
          }
        }
      ]
    }
  ]
}