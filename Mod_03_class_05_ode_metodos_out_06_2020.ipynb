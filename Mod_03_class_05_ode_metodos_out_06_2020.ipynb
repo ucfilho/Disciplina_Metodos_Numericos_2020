{
  "nbformat": 4,
  "nbformat_minor": 0,
  "metadata": {
    "colab": {
      "name": "Mod_03_class_05_ode_metodos_out_06_2020.ipynb",
      "provenance": [],
      "authorship_tag": "ABX9TyPzydxp91XSqNboH4cPPWpV",
      "include_colab_link": true
    },
    "kernelspec": {
      "name": "python3",
      "display_name": "Python 3"
    }
  },
  "cells": [
    {
      "cell_type": "markdown",
      "metadata": {
        "id": "view-in-github",
        "colab_type": "text"
      },
      "source": [
        "<a href=\"https://colab.research.google.com/github/ucfilho/Disciplina_Metodos_Numericos_2020/blob/master/Mod_03_class_05_ode_metodos_out_06_2020.ipynb\" target=\"_parent\"><img src=\"https://colab.research.google.com/assets/colab-badge.svg\" alt=\"Open In Colab\"/></a>"
      ]
    },
    {
      "cell_type": "code",
      "metadata": {
        "id": "z9c8GM24O6lf"
      },
      "source": [
        "import numpy as np\n",
        "import matplotlib.pyplot as plt"
      ],
      "execution_count": null,
      "outputs": []
    },
    {
      "cell_type": "code",
      "metadata": {
        "id": "V7MPuv4DO_WU"
      },
      "source": [
        "!git clone https://github.com/ucfilho/Disciplina_Metodos_Numericos_2020 #clonar do Github\n",
        "%cd Disciplina_Metodos_Numericos_2020"
      ],
      "execution_count": null,
      "outputs": []
    },
    {
      "cell_type": "code",
      "metadata": {
        "id": "Jaz2Apu9PAmU"
      },
      "source": [
        "from edo_rotinas import rk4"
      ],
      "execution_count": null,
      "outputs": []
    },
    {
      "cell_type": "code",
      "metadata": {
        "id": "9cHTmtzlPFNg"
      },
      "source": [
        "def f( x, t ):\n",
        "  return x * np.sin( t )"
      ],
      "execution_count": null,
      "outputs": []
    },
    {
      "cell_type": "code",
      "metadata": {
        "id": "IS7QxpG7PIsX"
      },
      "source": [
        "a, b = ( 0.0, 10.0 )\n",
        "x0 = -1.0\n",
        "\n",
        "n = 51\n",
        "t = np.linspace( a, b, n )\n",
        "x = rk4( f, x0, t )"
      ],
      "execution_count": null,
      "outputs": []
    },
    {
      "cell_type": "code",
      "metadata": {
        "id": "GsAlgZ5-Pak7"
      },
      "source": [
        "plt.plot( t, x, 'b-o')\n",
        "plt.ylim(-18,4)\n",
        "plt.xlabel( '$t$' )\n",
        "plt.ylabel( '$x$' )"
      ],
      "execution_count": null,
      "outputs": []
    }
  ]
}