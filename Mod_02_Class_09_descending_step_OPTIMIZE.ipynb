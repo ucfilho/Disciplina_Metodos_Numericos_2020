{
  "nbformat": 4,
  "nbformat_minor": 0,
  "metadata": {
    "colab": {
      "name": "Mod_02_Class_09_descending_step_OPTIMIZE.ipynb",
      "provenance": [],
      "collapsed_sections": [],
      "include_colab_link": true
    },
    "kernelspec": {
      "name": "python3",
      "display_name": "Python 3"
    }
  },
  "cells": [
    {
      "cell_type": "markdown",
      "metadata": {
        "id": "view-in-github",
        "colab_type": "text"
      },
      "source": [
        "<a href=\"https://colab.research.google.com/github/ucfilho/Disciplina_Metodos_Numericos_2020/blob/master/Mod_02_Class_09_descending_step_OPTIMIZE.ipynb\" target=\"_parent\"><img src=\"https://colab.research.google.com/assets/colab-badge.svg\" alt=\"Open In Colab\"/></a>"
      ]
    },
    {
      "cell_type": "code",
      "metadata": {
        "id": "tLgv4gDnCbX1",
        "colab_type": "code",
        "colab": {}
      },
      "source": [
        "import numpy  as np\n",
        "import pandas as pd"
      ],
      "execution_count": 1,
      "outputs": []
    },
    {
      "cell_type": "markdown",
      "metadata": {
        "id": "KhBhjpHn8cPk",
        "colab_type": "text"
      },
      "source": [
        "$z=(1-x_0)^2+5*(x_1-x_0^2)^2$\n"
      ]
    },
    {
      "cell_type": "code",
      "metadata": {
        "id": "7BbhQaNQaX9I",
        "colab_type": "code",
        "colab": {}
      },
      "source": [
        "t=1e-4 # t is the learing rate\n",
        "Ite=100000 # number of iteractions\n",
        "#x0=np.array([-1,1]) # initial guess of x\n",
        "x0=np.array([3,1]) # initial guess of x"
      ],
      "execution_count": 2,
      "outputs": []
    },
    {
      "cell_type": "code",
      "metadata": {
        "id": "2Z5g7vPI5B7E",
        "colab_type": "code",
        "colab": {}
      },
      "source": [
        "def Functions(x):\n",
        "  F=(1-x[0])**2 + 5.0*(x[1]-x[0]**2)**2\n",
        "  return F"
      ],
      "execution_count": 3,
      "outputs": []
    },
    {
      "cell_type": "code",
      "metadata": {
        "id": "AZJmGeqra0j2",
        "colab_type": "code",
        "colab": {}
      },
      "source": [
        "def fun_and_grad(x):\n",
        "\n",
        "  dim=len(x)\n",
        "  eps=1e-3\n",
        "\n",
        "  F=Functions(x)\n",
        "  \n",
        "  gradZ=np.zeros(dim)\n",
        "  \n",
        "  for i in range(dim):\n",
        "    \n",
        "    up=x.copy()\n",
        "    low=x.copy()\n",
        "    up[i]=x[i]+eps\n",
        "    low[i]=x[i]-eps\n",
        "    Flow=Functions(low)\n",
        "    Fup=Functions(up)\n",
        "\n",
        "    #print('Flow=',Flow)\n",
        "    #print('Fup=',Fup)\n",
        " \n",
        "    gradZ[i]=(Fup-Flow)/(2*eps)\n",
        "\n",
        "  return F,gradZ\n"
      ],
      "execution_count": 4,
      "outputs": []
    },
    {
      "cell_type": "code",
      "metadata": {
        "id": "W97Ksh7IcG5K",
        "colab_type": "code",
        "colab": {
          "base_uri": "https://localhost:8080/",
          "height": 191
        },
        "outputId": "e49600fb-b217-4dbd-bae4-f38f2c2933bc"
      },
      "source": [
        "dim=len(x0)\n",
        "x=np.copy(x0)\n",
        "#print(\"x=\",x)\n",
        "lista1=[]\n",
        "\n",
        "for i in range(Ite):\n",
        "  Z,gradZ=fun_and_grad(x)\n",
        "  #print(\"x=\",x)\n",
        "  #print(\"gradZ=\",gradZ)\n",
        "  x=x-gradZ*t\n",
        "\n",
        "  if((i+1)%10000==0):\n",
        "    print(\"i=\",i+1,\"x=\",x,\"gradZ=\",gradZ,\" z=%.5e\"%(Z))\n",
        "  \n"
      ],
      "execution_count": 5,
      "outputs": [
        {
          "output_type": "stream",
          "text": [
            "i= 10000 x= [-2.11210527  4.60049149] gradZ= [-0.33135321  1.3950236 ]  z=9.78271e+00\n",
            "i= 20000 x= [-1.74153232  3.17831225] gradZ= [-0.41949758  1.45376682]  z=7.62190e+00\n",
            "i= 30000 x= [-1.23463332  1.67963027] gradZ= [-0.63421464  1.55309535]  z=5.11447e+00\n",
            "i= 40000 x= [-0.15681292  0.1319143 ] gradZ= [-1.97686186  1.07369335]  z=1.39631e+00\n",
            "i= 50000 x= [0.65492935 0.39460535] gradZ= [-0.24051937 -0.34329921]  z=1.24983e-01\n",
            "i= 60000 x= [0.80973795 0.63838368] gradZ= [-0.10047743 -0.17292882]  z=3.76987e-02\n",
            "i= 70000 x= [0.88380941 0.77103838] gradZ= [-0.0541783  -0.10081196]  z=1.40097e-02\n",
            "i= 80000 x= [0.92586138 0.8509561 ] gradZ= [-0.03228313 -0.06263489]  z=5.69317e-03\n",
            "i= 90000 x= [0.95157433 0.90146901] gradZ= [-0.02023744 -0.04024861]  z=2.42624e-03\n",
            "i= 100000 x= [0.96793094 0.93425272] gradZ= [-0.01305922 -0.026377  ]  z=1.06330e-03\n"
          ],
          "name": "stdout"
        }
      ]
    },
    {
      "cell_type": "code",
      "metadata": {
        "id": "9bOYPFJQ7scs",
        "colab_type": "code",
        "colab": {
          "base_uri": "https://localhost:8080/",
          "height": 52
        },
        "outputId": "2a19279e-20e2-4421-faa5-c5a50d1404cd"
      },
      "source": [
        "F=Functions(x)\n",
        "print('x=',x)\n",
        "print('F(x)=',F)"
      ],
      "execution_count": 6,
      "outputs": [
        {
          "output_type": "stream",
          "text": [
            "x= [0.96793094 0.93425272]\n",
            "F(x)= 0.0010632088892235585\n"
          ],
          "name": "stdout"
        }
      ]
    }
  ]
}