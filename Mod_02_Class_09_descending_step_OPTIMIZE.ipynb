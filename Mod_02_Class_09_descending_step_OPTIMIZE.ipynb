{
  "nbformat": 4,
  "nbformat_minor": 0,
  "metadata": {
    "colab": {
      "name": "Mod_02_Class_09_descending_step_OPTIMIZE.ipynb",
      "provenance": [],
      "collapsed_sections": [],
      "include_colab_link": true
    },
    "kernelspec": {
      "name": "python3",
      "display_name": "Python 3"
    }
  },
  "cells": [
    {
      "cell_type": "markdown",
      "metadata": {
        "id": "view-in-github",
        "colab_type": "text"
      },
      "source": [
        "<a href=\"https://colab.research.google.com/github/ucfilho/Disciplina_Metodos_Numericos_2020/blob/master/Mod_02_Class_09_descending_step_OPTIMIZE.ipynb\" target=\"_parent\"><img src=\"https://colab.research.google.com/assets/colab-badge.svg\" alt=\"Open In Colab\"/></a>"
      ]
    },
    {
      "cell_type": "code",
      "metadata": {
        "id": "tLgv4gDnCbX1",
        "colab_type": "code",
        "colab": {}
      },
      "source": [
        "import numpy  as np\n",
        "import pandas as pd"
      ],
      "execution_count": 1,
      "outputs": []
    },
    {
      "cell_type": "markdown",
      "metadata": {
        "id": "KhBhjpHn8cPk",
        "colab_type": "text"
      },
      "source": [
        "$z=(1-x_0)^2+5*(x_1-x_0^2)^2$\n"
      ]
    },
    {
      "cell_type": "code",
      "metadata": {
        "id": "7BbhQaNQaX9I",
        "colab_type": "code",
        "colab": {}
      },
      "source": [
        "t=1e-6 # t is the learing rate\n",
        "Ite=500000 # number of iteractions\n",
        "x0=np.array([3,1]) # initial guess of x"
      ],
      "execution_count": 2,
      "outputs": []
    },
    {
      "cell_type": "code",
      "metadata": {
        "id": "2Z5g7vPI5B7E",
        "colab_type": "code",
        "colab": {}
      },
      "source": [
        "def Functions(x):\n",
        "  F=(1-x[0])**2 + 5.0*(x[1]-x[0]**2)**2\n",
        "  return F"
      ],
      "execution_count": 3,
      "outputs": []
    },
    {
      "cell_type": "code",
      "metadata": {
        "id": "AZJmGeqra0j2",
        "colab_type": "code",
        "colab": {}
      },
      "source": [
        "def fun_and_grad(x):\n",
        "\n",
        "  dim=len(x)\n",
        "  eps=1e-5\n",
        "\n",
        "  F=Functions(x)\n",
        "  \n",
        "  gradZ=np.zeros(dim)\n",
        "  \n",
        "  for i in range(dim):\n",
        "    \n",
        "    up=x.copy()\n",
        "    low=x.copy()\n",
        "    up[i]=x[i]+eps\n",
        "    low[i]=x[i]-eps\n",
        "    Flow=Functions(low)\n",
        "    Fup=Functions(up)\n",
        "\n",
        "    #print('Flow=',Flow)\n",
        "    #print('Fup=',Fup)\n",
        " \n",
        "    gradZ[i]=(Fup-Flow)/(2*eps)\n",
        "\n",
        "  return F,gradZ\n"
      ],
      "execution_count": 4,
      "outputs": []
    },
    {
      "cell_type": "code",
      "metadata": {
        "id": "W97Ksh7IcG5K",
        "colab_type": "code",
        "colab": {
          "base_uri": "https://localhost:8080/",
          "height": 901
        },
        "outputId": "7acd8619-46d2-40af-bb66-a9a8f8abb2bb"
      },
      "source": [
        "dim=len(x0)\n",
        "x=np.copy(x0)\n",
        "print(\"x=\",x)\n",
        "lista1=[]\n",
        "\n",
        "for i in range(Ite):\n",
        "  Z,gradZ=fun_and_grad(x)\n",
        "  #print(\"x=\",x)\n",
        "  #print(\"gradZ=\",gradZ)\n",
        "  x=x-gradZ*t\n",
        "\n",
        "  if((i+1)%10000==0):\n",
        "    print(\"i=\",i+1,\"x=\",x,\"gradZ=\",gradZ,\" z=%.5e\"%(Z))\n",
        "  \n"
      ],
      "execution_count": 5,
      "outputs": [
        {
          "output_type": "stream",
          "text": [
            "x= [3 1]\n",
            "i= 10000 x= [-2.52913046  5.96697958] gradZ= [-28.79245871  -4.29671247]  z=1.33781e+01\n",
            "i= 20000 x= [-2.42571154  5.97378588] gradZ= [-2.49978471  0.89698194]  z=1.17757e+01\n",
            "i= 30000 x= [-2.41461521  5.96194378] gradZ= [-0.4751137  1.3157617]  z=1.17462e+01\n",
            "i= 40000 x= [-2.41107046  5.94853362] gradZ= [-0.29909623  1.35272788]  z=1.17269e+01\n",
            "i= 50000 x= [-2.40818431  5.93498245] gradZ= [-0.28389118  1.35630757]  z=1.17077e+01\n",
            "i= 60000 x= [-2.40535289  5.92141573] gradZ= [-0.28290528  1.35693193]  z=1.16885e+01\n",
            "i= 70000 x= [-2.40252266  5.90784455] gradZ= [-0.28318608  1.35729397]  z=1.16693e+01\n",
            "i= 80000 x= [-2.39968885  5.89426991] gradZ= [-0.28358173  1.35763346]  z=1.16500e+01\n",
            "i= 90000 x= [-2.39685099  5.88069188] gradZ= [-0.28398924  1.35797189]  z=1.16308e+01\n",
            "i= 100000 x= [-2.39400905  5.86711047] gradZ= [-0.28439935  1.35831119]  z=1.16115e+01\n",
            "i= 110000 x= [-2.391163    5.85352565] gradZ= [-0.28481125  1.35865153]  z=1.15923e+01\n",
            "i= 120000 x= [-2.38831282  5.83993743] gradZ= [-0.28522487  1.35899295]  z=1.15730e+01\n",
            "i= 130000 x= [-2.3854585   5.82634579] gradZ= [-0.28564021  1.35933545]  z=1.15537e+01\n",
            "i= 140000 x= [-2.38260001  5.81275072] gradZ= [-0.28605729  1.35967903]  z=1.15344e+01\n",
            "i= 150000 x= [-2.37973735  5.79915221] gradZ= [-0.28647611  1.3600237 ]  z=1.15151e+01\n",
            "i= 160000 x= [-2.37687048  5.78555024] gradZ= [-0.2868967   1.36036947]  z=1.14958e+01\n",
            "i= 170000 x= [-2.37399941  5.77194481] gradZ= [-0.28731905  1.36071634]  z=1.14765e+01\n",
            "i= 180000 x= [-2.3711241   5.75833591] gradZ= [-0.28774318  1.36106432]  z=1.14571e+01\n",
            "i= 190000 x= [-2.36824454  5.74472352] gradZ= [-0.28816912  1.36141341]  z=1.14377e+01\n",
            "i= 200000 x= [-2.36536071  5.73110764] gradZ= [-0.28859685  1.36176363]  z=1.14184e+01\n",
            "i= 210000 x= [-2.36247259  5.71748825] gradZ= [-0.28902641  1.36211497]  z=1.13990e+01\n",
            "i= 220000 x= [-2.35958017  5.70386534] gradZ= [-0.2894578   1.36246744]  z=1.13796e+01\n",
            "i= 230000 x= [-2.35668343  5.69023889] gradZ= [-0.28989104  1.36282106]  z=1.13602e+01\n",
            "i= 240000 x= [-2.35378234  5.67660891] gradZ= [-0.29032614  1.36317582]  z=1.13408e+01\n",
            "i= 250000 x= [-2.3508769   5.66297537] gradZ= [-0.29076311  1.36353173]  z=1.13213e+01\n",
            "i= 260000 x= [-2.34796708  5.64933827] gradZ= [-0.29120196  1.3638888 ]  z=1.13019e+01\n",
            "i= 270000 x= [-2.34505285  5.63569759] gradZ= [-0.29164271  1.36424703]  z=1.12824e+01\n",
            "i= 280000 x= [-2.34213421  5.62205333] gradZ= [-0.29208537  1.36460644]  z=1.12630e+01\n",
            "i= 290000 x= [-2.33921114  5.60840546] gradZ= [-0.29252996  1.36496702]  z=1.12435e+01\n",
            "i= 300000 x= [-2.33628361  5.59475398] gradZ= [-0.29297648  1.36532879]  z=1.12240e+01\n",
            "i= 310000 x= [-2.3333516   5.58109888] gradZ= [-0.29342496  1.36569174]  z=1.12045e+01\n",
            "i= 320000 x= [-2.3304151   5.56744014] gradZ= [-0.29387541  1.3660559 ]  z=1.11850e+01\n",
            "i= 330000 x= [-2.32747409  5.55377776] gradZ= [-0.29432783  1.36642126]  z=1.11654e+01\n",
            "i= 340000 x= [-2.32452854  5.54011171] gradZ= [-0.29478225  1.36678783]  z=1.11459e+01\n",
            "i= 350000 x= [-2.32157844  5.526442  ] gradZ= [-0.29523868  1.36715561]  z=1.11263e+01\n",
            "i= 360000 x= [-2.31862376  5.5127686 ] gradZ= [-0.29569713  1.36752462]  z=1.11068e+01\n",
            "i= 370000 x= [-2.31566449  5.4990915 ] gradZ= [-0.29615763  1.36789487]  z=1.10872e+01\n",
            "i= 380000 x= [-2.3127006   5.48541069] gradZ= [-0.29662017  1.36826635]  z=1.10676e+01\n",
            "i= 390000 x= [-2.30973207  5.47172617] gradZ= [-0.29708479  1.36863908]  z=1.10480e+01\n",
            "i= 400000 x= [-2.30675889  5.45803791] gradZ= [-0.29755148  1.36901306]  z=1.10284e+01\n",
            "i= 410000 x= [-2.30378104  5.4443459 ] gradZ= [-0.29802028  1.3693883 ]  z=1.10087e+01\n",
            "i= 420000 x= [-2.30079848  5.43065014] gradZ= [-0.29849119  1.3697648 ]  z=1.09891e+01\n",
            "i= 430000 x= [-2.29781121  5.4169506 ] gradZ= [-0.29896423  1.37014258]  z=1.09694e+01\n",
            "i= 440000 x= [-2.29481919  5.40324728] gradZ= [-0.29943941  1.37052165]  z=1.09498e+01\n",
            "i= 450000 x= [-2.29182241  5.38954016] gradZ= [-0.29991676  1.370902  ]  z=1.09301e+01\n",
            "i= 460000 x= [-2.28882085  5.37582924] gradZ= [-0.30039628  1.37128365]  z=1.09104e+01\n",
            "i= 470000 x= [-2.28581448  5.36211449] gradZ= [-0.300878   1.3716666]  z=1.08907e+01\n",
            "i= 480000 x= [-2.28280328  5.3483959 ] gradZ= [-0.30136193  1.37205086]  z=1.08709e+01\n",
            "i= 490000 x= [-2.27978723  5.33467346] gradZ= [-0.30184808  1.37243644]  z=1.08512e+01\n",
            "i= 500000 x= [-2.27676631  5.32094717] gradZ= [-0.30233648  1.37282335]  z=1.08314e+01\n"
          ],
          "name": "stdout"
        }
      ]
    },
    {
      "cell_type": "code",
      "metadata": {
        "id": "9bOYPFJQ7scs",
        "colab_type": "code",
        "colab": {
          "base_uri": "https://localhost:8080/",
          "height": 52
        },
        "outputId": "88156505-de7a-4b12-c970-c4d30e2a6b20"
      },
      "source": [
        "F=Functions(x)\n",
        "print('x=',x)\n",
        "print('F(x)=',F)"
      ],
      "execution_count": 6,
      "outputs": [
        {
          "output_type": "stream",
          "text": [
            "x= [-2.27676631  5.32094717]\n",
            "F(x)= 10.831429648649486\n"
          ],
          "name": "stdout"
        }
      ]
    }
  ]
}