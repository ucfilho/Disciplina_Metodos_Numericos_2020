{
  "nbformat": 4,
  "nbformat_minor": 0,
  "metadata": {
    "colab": {
      "name": "Mod_04_class_03_Monte_Carlo_nov_03_2020.ipynb",
      "provenance": [],
      "authorship_tag": "ABX9TyM6sF7assgNvOh/oyh+m924",
      "include_colab_link": true
    },
    "kernelspec": {
      "name": "python3",
      "display_name": "Python 3"
    }
  },
  "cells": [
    {
      "cell_type": "markdown",
      "metadata": {
        "id": "view-in-github",
        "colab_type": "text"
      },
      "source": [
        "<a href=\"https://colab.research.google.com/github/ucfilho/Disciplina_Metodos_Numericos_2020/blob/master/Mod_04_class_03_Monte_Carlo_nov_03_2020.ipynb\" target=\"_parent\"><img src=\"https://colab.research.google.com/assets/colab-badge.svg\" alt=\"Open In Colab\"/></a>"
      ]
    },
    {
      "cell_type": "markdown",
      "metadata": {
        "id": "W5faRcIYWozI"
      },
      "source": [
        "Monte Carlo Integration"
      ]
    },
    {
      "cell_type": "code",
      "metadata": {
        "id": "LsGX0h9Vi2t-"
      },
      "source": [
        "# https://risk-engineering.org/notebook/monte-carlo-integration.html"
      ],
      "execution_count": null,
      "outputs": []
    },
    {
      "cell_type": "markdown",
      "metadata": {
        "id": "s8beKAnRhSiB"
      },
      "source": [
        "$ I = \\int_{1}^{5}x^2 dx = \\frac{124}{3} \\approx 41.333333$ \n",
        "\n",
        "\n",
        "\n"
      ]
    },
    {
      "cell_type": "code",
      "metadata": {
        "id": "2_-dv0sJWNvJ",
        "outputId": "04eb4683-b55a-4ccf-dd5a-ad331c660373",
        "colab": {
          "base_uri": "https://localhost:8080/"
        }
      },
      "source": [
        "import numpy\n",
        "N = 100000\n",
        "accum = 0\n",
        "for i in range(N):\n",
        "    x = numpy.random.uniform(1, 5)\n",
        "    accum += x**2\n",
        "measure = 5 - 1\n",
        "Area =measure * accum/float(N)\n",
        "print(Area)"
      ],
      "execution_count": 2,
      "outputs": [
        {
          "output_type": "stream",
          "text": [
            "41.345913557817305\n"
          ],
          "name": "stdout"
        }
      ]
    }
  ]
}