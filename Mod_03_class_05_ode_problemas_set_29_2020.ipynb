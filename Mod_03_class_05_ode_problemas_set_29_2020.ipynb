{
  "nbformat": 4,
  "nbformat_minor": 0,
  "metadata": {
    "colab": {
      "name": "Mod_03_class_05_ode_problemas_set_29_2020.ipynb",
      "provenance": [],
      "authorship_tag": "ABX9TyNYLAyu9YUxk0YHF/miOSsz",
      "include_colab_link": true
    },
    "kernelspec": {
      "name": "python3",
      "display_name": "Python 3"
    }
  },
  "cells": [
    {
      "cell_type": "markdown",
      "metadata": {
        "id": "view-in-github",
        "colab_type": "text"
      },
      "source": [
        "<a href=\"https://colab.research.google.com/github/ucfilho/Disciplina_Metodos_Numericos_2020/blob/master/Mod_03_class_05_ode_problemas_set_29_2020.ipynb\" target=\"_parent\"><img src=\"https://colab.research.google.com/assets/colab-badge.svg\" alt=\"Open In Colab\"/></a>"
      ]
    },
    {
      "cell_type": "markdown",
      "metadata": {
        "id": "zDwLfV8iXGxd"
      },
      "source": [
        "04) Uma pessoa desavisada entra em uma garagem com um volume total de V = 80 m3 e liga um carro, liberando uma vazão de Q1 = 0.005 m3/ min de monóxido de carbono. Através de uma janela, uma corrente de Q2 = 0.8 m3/ min de ar deixa a garagem. Considerando que uma corrente equivalente de ar puro entra na garagem para manter o volume total constante, a variação no volume de monóxido de carbono VCO é dada por: \n",
        "dVCO /dt = Q1 − Q2 (VCO/ V).\n",
        " Quando o volume de CO chegar a 0.1% do volume total da garagem, a pessoa irá desmaiar  e eventualmente morrer.  Determine quanto tempo esta pessoa tem para deixar a garagem, considerando que inicialmente não existia nenhum CO no ambiente.\n"
      ]
    },
    {
      "cell_type": "code",
      "metadata": {
        "id": "A6hwRIqqaETO"
      },
      "source": [
        "import numpy as np\n",
        "import matplotlib.pyplot as plt"
      ],
      "execution_count": 1,
      "outputs": []
    },
    {
      "cell_type": "code",
      "metadata": {
        "id": "OYN_RI9lXFRC"
      },
      "source": [
        "def f(t,VCO):\n",
        "  V=80 #m3\n",
        "  Q1=0.005 # m3/min\n",
        "  Q2=0.8 # m3/min\n",
        "  dV_dt=Q1-Q2*VCO/V\n",
        "  return dV_dt"
      ],
      "execution_count": 2,
      "outputs": []
    },
    {
      "cell_type": "code",
      "metadata": {
        "id": "Hr3-lKHvYn7n"
      },
      "source": [
        "def euler( f, x0, t,h):\n",
        "    n = len( t )\n",
        "    x = np.array( [x0] * n )\n",
        "    for i in range( n - 1 ):\n",
        "        x[i+1] = x[i] + h* f( x[i], t[i] )\n",
        "\n",
        "    return x"
      ],
      "execution_count": 3,
      "outputs": []
    },
    {
      "cell_type": "code",
      "metadata": {
        "id": "UHzmnLj_ZXOz"
      },
      "source": [
        "a, b = ( 0.0, 10.0 )\n",
        "x0 = 0\n",
        "n = 500\n",
        "t = np.linspace( a, b, n )\n",
        "h = t[1] - t[0]"
      ],
      "execution_count": 4,
      "outputs": []
    },
    {
      "cell_type": "code",
      "metadata": {
        "id": "2xN3EQOKZ1D4"
      },
      "source": [
        "volMon = euler( f, x0, t, h )"
      ],
      "execution_count": 5,
      "outputs": []
    },
    {
      "cell_type": "code",
      "metadata": {
        "id": "sOoxJijEZ9g1",
        "outputId": "97fe44f6-3a17-4444-d553-9178a926e103",
        "colab": {
          "base_uri": "https://localhost:8080/",
          "height": 283
        }
      },
      "source": [
        "plt.plot(t,volMon)"
      ],
      "execution_count": 6,
      "outputs": [
        {
          "output_type": "execute_result",
          "data": {
            "text/plain": [
              "[<matplotlib.lines.Line2D at 0x7f93a0ffb518>]"
            ]
          },
          "metadata": {
            "tags": []
          },
          "execution_count": 6
        },
        {
          "output_type": "display_data",
          "data": {
            "image/png": "[encoded data removed]",
            "text/plain": [
              "<Figure size 432x288 with 1 Axes>"
            ]
          },
          "metadata": {
            "tags": [],
            "needs_background": "light"
          }
        }
      ]
    }
  ]
}