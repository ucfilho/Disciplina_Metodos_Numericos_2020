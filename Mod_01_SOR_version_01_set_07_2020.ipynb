{
  "nbformat": 4,
  "nbformat_minor": 0,
  "metadata": {
    "colab": {
      "name": "Mod_01_SOR_version_01_set_07_2020.ipynb",
      "provenance": [],
      "authorship_tag": "ABX9TyMx3MZU3oDzs/OyYL5ki+TC",
      "include_colab_link": true
    },
    "kernelspec": {
      "name": "python3",
      "display_name": "Python 3"
    }
  },
  "cells": [
    {
      "cell_type": "markdown",
      "metadata": {
        "id": "view-in-github",
        "colab_type": "text"
      },
      "source": [
        "<a href=\"https://colab.research.google.com/github/ucfilho/Disciplina_Metodos_Numericos_2020/blob/master/Mod_01_SOR_version_01_set_07_2020.ipynb\" target=\"_parent\"><img src=\"https://colab.research.google.com/assets/colab-badge.svg\" alt=\"Open In Colab\"/></a>"
      ]
    },
    {
      "cell_type": "code",
      "metadata": {
        "id": "KxY_T5E5pO46",
        "colab_type": "code",
        "colab": {}
      },
      "source": [
        "import numpy as np"
      ],
      "execution_count": null,
      "outputs": []
    },
    {
      "cell_type": "code",
      "metadata": {
        "id": "7OPEK0dnplcB",
        "colab_type": "code",
        "colab": {}
      },
      "source": [
        "# https://www.programmersought.com/article/98984717880/#SOR_186"
      ],
      "execution_count": null,
      "outputs": []
    },
    {
      "cell_type": "code",
      "metadata": {
        "id": "CIrpvHRyoq-l",
        "colab_type": "code",
        "colab": {}
      },
      "source": [
        "def SOR(a,b,x0,w=1,c=0.0001,d=30):\n",
        "    x1=x0.copy()*1.0\n",
        "    x2=x0.copy()*1.0\n",
        "    k=0\n",
        "    while k<d:\n",
        "        k=k+1\n",
        "        print('k=',k)\n",
        "        for i in range(a.shape[1]):\n",
        "            x2[i]=(-a[i].dot(x2)+b[i])*w/a[i,i]+x2[i]\n",
        "        if np.max(np.abs(x2-x1))<=c:\n",
        "            print(\"x%d=\" % k,x2)\n",
        "            print(np.max(np.abs(x2-x1)))\n",
        "            break\n",
        "        print(\"x%d=\" % k,x2)\n",
        "        x1=x2.copy()"
      ],
      "execution_count": null,
      "outputs": []
    },
    {
      "cell_type": "code",
      "metadata": {
        "id": "k0DO8juppDNj",
        "colab_type": "code",
        "colab": {
          "base_uri": "https://localhost:8080/",
          "height": 306
        },
        "outputId": "974a5a20-1466-4e18-b3e7-116d8c325520"
      },
      "source": [
        "a=np.array([[2,-1,0,0],\n",
        "          [-1,2.5,-1,0],\n",
        "           [0,-1,2.5,-1],\n",
        "           [0,0,-1,2]])\n",
        "b=np.array([-4,4,4,-4])\n",
        "x0=np.zeros(a.shape[1])\n",
        "w=1.16\n",
        "SOR(a,b,x0,w)"
      ],
      "execution_count": null,
      "outputs": [
        {
          "output_type": "stream",
          "text": [
            "k= 1\n",
            "x1= [-2.32        0.77952     2.21769728 -1.03373558]\n",
            "k= 2\n",
            "x2= [-1.4966784   2.06582956  1.98006004 -1.00616748]\n",
            "k= 3\n",
            "x3= [-0.88235031  2.03480459  2.01647801 -0.98945596]\n",
            "k= 4\n",
            "x4= [-0.99863729  2.00270936  2.0035131  -0.99964945]\n",
            "k= 5\n",
            "x5= [-0.9986466   2.00182455  2.00044715 -0.99979674]\n",
            "k= 6\n",
            "x6= [-0.9991583   2.0003061   2.0001648  -0.99993694]\n",
            "k= 7\n",
            "x7= [-0.99995713  2.00004738  2.00002488 -0.99999566]\n",
            "k= 8\n",
            "x8= [-0.99997938  2.00001353  2.00000431 -0.99999819]\n",
            "3.3849332815805155e-05\n"
          ],
          "name": "stdout"
        }
      ]
    },
    {
      "cell_type": "code",
      "metadata": {
        "id": "-ZF9kdhOqx2u",
        "colab_type": "code",
        "colab": {
          "base_uri": "https://localhost:8080/",
          "height": 375
        },
        "outputId": "744fcb18-e8a2-453a-8b16-3585727dec24"
      },
      "source": [
        "# create the matrix A\n",
        "A = np. array ([[0.9 ,0.3 ,0.1] ,[0.1 ,0.5 ,0.2] ,[0.0 ,0.2 ,0.7]])\n",
        "\n",
        "# create the right-hand side\n",
        "f = np. array ([30.0 ,25.0 ,10.0])\n",
        "\n",
        "# our initial guess\n",
        "x0 = np.array([20.0,20.0,20.0])\n",
        "w=1.16\n",
        "SOR(A,f,x0,w)"
      ],
      "execution_count": null,
      "outputs": [
        {
          "output_type": "stream",
          "text": [
            "k= 1\n",
            "x1= [25.15555556 39.68391111  0.2190466 ]\n",
            "k= 2\n",
            "x2= [19.26909947 47.07850552  0.93321929]\n",
            "k= 3\n",
            "x3= [17.25964035 46.03018881  1.16639377]\n",
            "k= 4\n",
            "x4= [17.95644934 45.92806684  1.16293199]\n",
            "k= 5\n",
            "x5= [17.88489325 45.96261363  1.15203608]\n",
            "k= 6\n",
            "x6= [17.88438849 45.96225895  1.15389698]\n",
            "k= 7\n",
            "x7= [17.88436655 45.96145733  1.15386491]\n",
            "k= 8\n",
            "x8= [17.88468415 45.96152679  1.15384702]\n",
            "k= 9\n",
            "x9= [17.88460878 45.96154146  1.15384502]\n",
            "7.536592332613168e-05\n"
          ],
          "name": "stdout"
        },
        {
          "output_type": "execute_result",
          "data": {
            "application/vnd.google.colaboratory.intrinsic+json": {
              "type": "string"
            },
            "text/plain": [
              "\"\\n# compute the solution\\nx,info, niter   = gauss_seidel(A,f,x0)\\nprint(x)\\nprint('convergiu ?',info, 'sim se for 1 e nao se for zero' )\\nprint( 'iteracoes=',niter)\\n\""
            ]
          },
          "metadata": {
            "tags": []
          },
          "execution_count": 5
        }
      ]
    },
    {
      "cell_type": "code",
      "metadata": {
        "id": "j62ZWV7EpzXD",
        "colab_type": "code",
        "colab": {
          "base_uri": "https://localhost:8080/",
          "height": 85
        },
        "outputId": "78e63826-2ac9-48b1-d568-ca5e2f6d6ef2"
      },
      "source": [
        "a"
      ],
      "execution_count": null,
      "outputs": [
        {
          "output_type": "execute_result",
          "data": {
            "text/plain": [
              "array([[ 2. , -1. ,  0. ,  0. ],\n",
              "       [-1. ,  2.5, -1. ,  0. ],\n",
              "       [ 0. , -1. ,  2.5, -1. ],\n",
              "       [ 0. ,  0. , -1. ,  2. ]])"
            ]
          },
          "metadata": {
            "tags": []
          },
          "execution_count": 6
        }
      ]
    },
    {
      "cell_type": "code",
      "metadata": {
        "id": "CCsAjMACp2Ny",
        "colab_type": "code",
        "colab": {
          "base_uri": "https://localhost:8080/",
          "height": 34
        },
        "outputId": "2a55407a-09d7-4cf1-a393-03a0781defdf"
      },
      "source": [
        "a[1]"
      ],
      "execution_count": null,
      "outputs": [
        {
          "output_type": "execute_result",
          "data": {
            "text/plain": [
              "array([-1. ,  2.5, -1. ,  0. ])"
            ]
          },
          "metadata": {
            "tags": []
          },
          "execution_count": 7
        }
      ]
    }
  ]
}