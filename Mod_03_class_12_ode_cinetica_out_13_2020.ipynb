{
  "nbformat": 4,
  "nbformat_minor": 0,
  "metadata": {
    "colab": {
      "name": "Mod_03_class_12_ode_cinetica_out_13_2020.ipynb",
      "provenance": [],
      "collapsed_sections": [],
      "authorship_tag": "ABX9TyPiDv6AayJIkisoKMHS/Bzb",
      "include_colab_link": true
    },
    "kernelspec": {
      "name": "python3",
      "display_name": "Python 3"
    }
  },
  "cells": [
    {
      "cell_type": "markdown",
      "metadata": {
        "id": "view-in-github",
        "colab_type": "text"
      },
      "source": [
        "<a href=\"https://colab.research.google.com/github/ucfilho/Disciplina_Metodos_Numericos_2020/blob/master/Mod_03_class_12_ode_cinetica_out_13_2020.ipynb\" target=\"_parent\"><img src=\"https://colab.research.google.com/assets/colab-badge.svg\" alt=\"Open In Colab\"/></a>"
      ]
    },
    {
      "cell_type": "code",
      "metadata": {
        "id": "1FqdWwVtCeSu"
      },
      "source": [
        "import numpy as np\n",
        "import matplotlib.pyplot as plt\n",
        "from IPython.display import YouTubeVideo"
      ],
      "execution_count": 11,
      "outputs": []
    },
    {
      "cell_type": "code",
      "metadata": {
        "id": "wyFnudJwXWMp"
      },
      "source": [
        "# YT='INciPenDtqs'\n",
        "# YouTubeVideo(YT)"
      ],
      "execution_count": 12,
      "outputs": []
    },
    {
      "cell_type": "code",
      "metadata": {
        "id": "jAaQ9UiAJGUS",
        "outputId": "c3f3de7f-4dbd-456d-c02d-a56ddc99de7b",
        "colab": {
          "base_uri": "https://localhost:8080/",
          "height": 153
        }
      },
      "source": [
        "!git clone https://github.com/ucfilho/Disciplina_Metodos_Numericos_2020 #clonar do Github\n",
        "%cd Disciplina_Metodos_Numericos_2020"
      ],
      "execution_count": 13,
      "outputs": [
        {
          "output_type": "stream",
          "text": [
            "Cloning into 'Disciplina_Metodos_Numericos_2020'...\n",
            "remote: Enumerating objects: 162, done.\u001b[K\n",
            "remote: Counting objects: 100% (162/162), done.\u001b[K\n",
            "remote: Compressing objects: 100% (162/162), done.\u001b[K\n",
            "remote: Total 547 (delta 85), reused 0 (delta 0), pack-reused 385\u001b[K\n",
            "Receiving objects: 100% (547/547), 851.65 KiB | 379.00 KiB/s, done.\n",
            "Resolving deltas: 100% (309/309), done.\n",
            "/content/Disciplina_Metodos_Numericos_2020/Disciplina_Metodos_Numericos_2020/Disciplina_Metodos_Numericos_2020\n"
          ],
          "name": "stdout"
        }
      ]
    },
    {
      "cell_type": "code",
      "metadata": {
        "id": "6ln1rA4oCXkI",
        "outputId": "363eec5e-993f-45a3-d436-ed6e05b8e123",
        "colab": {
          "base_uri": "https://localhost:8080/",
          "height": 295
        }
      },
      "source": [
        "from edo_rotinas import rk4\n",
        "\n",
        "def f( x, t ):\n",
        "  k=0.05\n",
        "  a = -1.0\n",
        "  dA_dt = -k*x**a\n",
        "  return dA_dt\n",
        "      \n",
        "\n",
        "a, b = ( 0.0, 50 )\n",
        "x0 = 10.0\n",
        "\n",
        "n = 101\n",
        "t = np.linspace( a, b, n )\n",
        "\n",
        "\n",
        "# compute various numerical solutions\n",
        "x = rk4( f, x0, t )\n",
        "\n",
        "plt.plot( t, x, 'b-' )\n",
        "plt.ylim(0,10)\n",
        "plt.xlabel( 't' )\n",
        "plt.ylabel( '$x$' )\n",
        "plt.title( 'Solutions of kinetics problem')\n",
        "plt.show()"
      ],
      "execution_count": 14,
      "outputs": [
        {
          "output_type": "display_data",
          "data": {
            "image/png": "[encoded data removed]",
            "text/plain": [
              "<Figure size 432x288 with 1 Axes>"
            ]
          },
          "metadata": {
            "tags": [],
            "needs_background": "light"
          }
        }
      ]
    },
    {
      "cell_type": "code",
      "metadata": {
        "id": "ZLp0a3nyX6Tc",
        "outputId": "92e5838c-652b-497b-cb9d-4590a634ebd1",
        "colab": {
          "base_uri": "https://localhost:8080/",
          "height": 374
        }
      },
      "source": [
        "x"
      ],
      "execution_count": 15,
      "outputs": [
        {
          "output_type": "execute_result",
          "data": {
            "text/plain": [
              "array([10.        ,  9.99749969,  9.99499875,  9.99249719,  9.98999499,\n",
              "        9.98749218,  9.98498873,  9.98248466,  9.97997996,  9.97747463,\n",
              "        9.97496867,  9.97246208,  9.96995486,  9.96744702,  9.96493853,\n",
              "        9.96242942,  9.95991968,  9.9574093 ,  9.95489829,  9.95238665,\n",
              "        9.94987437,  9.94736146,  9.94484791,  9.94233373,  9.93981891,\n",
              "        9.93730346,  9.93478737,  9.93227064,  9.92975327,  9.92723526,\n",
              "        9.92471662,  9.92219734,  9.91967741,  9.91715685,  9.91463565,\n",
              "        9.9121138 ,  9.90959131,  9.90706818,  9.90454441,  9.90202   ,\n",
              "        9.89949494,  9.89696923,  9.89444288,  9.89191589,  9.88938825,\n",
              "        9.88685997,  9.88433103,  9.88180146,  9.87927123,  9.87674035,\n",
              "        9.87420883,  9.87167666,  9.86914383,  9.86661036,  9.86407624,\n",
              "        9.86154146,  9.85900604,  9.85646996,  9.85393322,  9.85139584,\n",
              "        9.8488578 ,  9.84631911,  9.84377976,  9.84123976,  9.8386991 ,\n",
              "        9.83615779,  9.83361582,  9.83107319,  9.8285299 ,  9.82598596,\n",
              "        9.82344135,  9.82089609,  9.81835017,  9.81580358,  9.81325634,\n",
              "        9.81070844,  9.80815987,  9.80561064,  9.80306075,  9.80051019,\n",
              "        9.79795897,  9.79540709,  9.79285454,  9.79030132,  9.78774744,\n",
              "        9.7851929 ,  9.78263768,  9.7800818 ,  9.77752525,  9.77496803,\n",
              "        9.77241014,  9.76985159,  9.76729236,  9.76473246,  9.76217189,\n",
              "        9.75961065,  9.75704873,  9.75448615,  9.75192289,  9.74935895,\n",
              "        9.74679434])"
            ]
          },
          "metadata": {
            "tags": []
          },
          "execution_count": 15
        }
      ]
    },
    {
      "cell_type": "code",
      "metadata": {
        "id": "YudhrIw9YxWR",
        "outputId": "84154dd5-677a-472f-f366-fd8c21787da9",
        "colab": {
          "base_uri": "https://localhost:8080/",
          "height": 34
        }
      },
      "source": [
        "Time = t.tolist();Time.index(40.0)\n",
        "Time_values = \n",
        "Id ="
      ],
      "execution_count": 33,
      "outputs": [
        {
          "output_type": "execute_result",
          "data": {
            "text/plain": [
              "80"
            ]
          },
          "metadata": {
            "tags": []
          },
          "execution_count": 33
        }
      ]
    },
    {
      "cell_type": "code",
      "metadata": {
        "id": "nzBMgh4gavyw",
        "outputId": "8f1c4407-9a70-4b97-b70d-0a4cba41c865",
        "colab": {
          "base_uri": "https://localhost:8080/",
          "height": 34
        }
      },
      "source": [
        "'''\n",
        "h=(b-a)/(n-1)\n",
        "x1=x0+h\n",
        "x2=x1+h=x0+2h\n",
        "...\n",
        "xk=x0+k*h\n",
        "'''\n",
        "h=(b-a)/(n-1)\n",
        "tt=40\n",
        "t0=0\n",
        "#tt=t0+k*h\n",
        "k= int((tt-t0)/h)\n",
        "print(k)\n"
      ],
      "execution_count": 34,
      "outputs": [
        {
          "output_type": "stream",
          "text": [
            "80\n"
          ],
          "name": "stdout"
        }
      ]
    }
  ]
}