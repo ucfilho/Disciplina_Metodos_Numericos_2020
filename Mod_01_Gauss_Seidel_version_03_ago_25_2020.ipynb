{
  "nbformat": 4,
  "nbformat_minor": 0,
  "metadata": {
    "colab": {
      "name": "Mod_01_Gauss_Seidel_version_03_ago_25_2020.ipynb",
      "provenance": [],
      "collapsed_sections": [],
      "authorship_tag": "ABX9TyNLAtFrmehJMtQsgDnZ875O",
      "include_colab_link": true
    },
    "kernelspec": {
      "name": "python3",
      "display_name": "Python 3"
    }
  },
  "cells": [
    {
      "cell_type": "markdown",
      "metadata": {
        "id": "view-in-github",
        "colab_type": "text"
      },
      "source": [
        "<a href=\"https://colab.research.google.com/github/ucfilho/Disciplina_Metodos_Numericos_2020/blob/master/Mod_01_Gauss_Seidel_version_03_ago_25_2020.ipynb\" target=\"_parent\"><img src=\"https://colab.research.google.com/assets/colab-badge.svg\" alt=\"Open In Colab\"/></a>"
      ]
    },
    {
      "cell_type": "code",
      "metadata": {
        "id": "remAkX_qlBLr",
        "colab_type": "code",
        "colab": {}
      },
      "source": [
        "import numpy as np "
      ],
      "execution_count": null,
      "outputs": []
    },
    {
      "cell_type": "code",
      "metadata": {
        "id": "fw_B_rml2-Xm",
        "colab_type": "code",
        "colab": {
          "base_uri": "https://localhost:8080/",
          "height": 136
        },
        "outputId": "914feaf4-198c-4fe5-ecac-815cdf64ae68"
      },
      "source": [
        "!git clone https://github.com/ucfilho/Disciplina_Metodos_Numericos_2020 #clonar do Github\n",
        "%cd Disciplina_Metodos_Numericos_2020"
      ],
      "execution_count": null,
      "outputs": [
        {
          "output_type": "stream",
          "text": [
            "Cloning into 'Disciplina_Metodos_Numericos_2020'...\n",
            "remote: Enumerating objects: 61, done.\u001b[K\n",
            "remote: Counting objects: 100% (61/61), done.\u001b[K\n",
            "remote: Compressing objects: 100% (59/59), done.\u001b[K\n",
            "remote: Total 61 (delta 31), reused 0 (delta 0), pack-reused 0\u001b[K\n",
            "Unpacking objects: 100% (61/61), done.\n",
            "/content/Disciplina_Metodos_Numericos_2020\n"
          ],
          "name": "stdout"
        }
      ]
    },
    {
      "cell_type": "code",
      "metadata": {
        "id": "wK-Ph0ot3HAL",
        "colab_type": "code",
        "colab": {}
      },
      "source": [
        "from GaussSeidel import gauss_seidel"
      ],
      "execution_count": null,
      "outputs": []
    },
    {
      "cell_type": "code",
      "metadata": {
        "id": "dBfKB-QKm-91",
        "colab_type": "code",
        "colab": {
          "base_uri": "https://localhost:8080/",
          "height": 68
        },
        "outputId": "741f2fe4-3e8b-49f5-dd0f-bd7760fa6e80"
      },
      "source": [
        "# create the matrix A\n",
        "A = np. array ([[0.9 ,0.3 ,0.1] ,[0.1 ,0.5 ,0.2] ,[0.0 ,0.2 ,0.7]])\n",
        "\n",
        "# create the right-hand side\n",
        "f = np. array ([30.0 ,25.0 ,10.0])\n",
        "\n",
        "# our initial guess\n",
        "x0 = np.array([20,20,20])\n",
        "\n",
        "# compute the solution\n",
        "x,info, niter   = gauss_seidel(A,f,x0)\n",
        "print(x)\n",
        "print('convergiu ?',info, 'sim se for 1 e nao se for zero' )\n",
        "print( 'iteracoes=',niter)"
      ],
      "execution_count": null,
      "outputs": [
        {
          "output_type": "stream",
          "text": [
            "[17.8846154  45.96153845  1.15384616]\n",
            "convergiu ? 1 sim se for 1 e nao se for zero\n",
            "iteracoes= 13\n"
          ],
          "name": "stdout"
        }
      ]
    }
  ]
}